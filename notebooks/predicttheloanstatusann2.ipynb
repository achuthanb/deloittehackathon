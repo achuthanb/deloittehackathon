{
 "cells": [
  {
   "cell_type": "code",
   "execution_count": 1,
   "id": "uysMiWhJrlb_",
   "metadata": {
    "colab": {
     "base_uri": "https://localhost:8080/"
    },
    "id": "uysMiWhJrlb_",
    "outputId": "645b39d7-f157-4cbf-f563-6f3c1285b3ae"
   },
   "outputs": [
    {
     "name": "stdout",
     "output_type": "stream",
     "text": [
      "Mounted at /content/drive\n"
     ]
    }
   ],
   "source": [
    "from google.colab import drive\n",
    "drive.mount('/content/drive')"
   ]
  },
  {
   "cell_type": "code",
   "execution_count": 3,
   "id": "86e5e5a7",
   "metadata": {
    "id": "86e5e5a7"
   },
   "outputs": [],
   "source": [
    "from sklearn.datasets import load_iris\n",
    "from sklearn.model_selection import train_test_split\n",
    "from sklearn.preprocessing import StandardScaler\n",
    "from sklearn.decomposition import PCA\n",
    "from sklearn.pipeline import Pipeline\n",
    "from sklearn.linear_model import LogisticRegression\n",
    "from sklearn.tree import DecisionTreeClassifier\n",
    "from sklearn.ensemble import RandomForestClassifier"
   ]
  },
  {
   "cell_type": "code",
   "execution_count": 4,
   "id": "7f041181",
   "metadata": {
    "id": "7f041181"
   },
   "outputs": [],
   "source": [
    "# Suppressing Warnings\n",
    "import warnings\n",
    "warnings.filterwarnings('ignore')"
   ]
  },
  {
   "cell_type": "code",
   "execution_count": 5,
   "id": "1b7af490",
   "metadata": {
    "id": "1b7af490"
   },
   "outputs": [],
   "source": [
    "# Importing Pandas and NumPy\n",
    "import pandas as pd, numpy as np"
   ]
  },
  {
   "cell_type": "code",
   "execution_count": 6,
   "id": "209a506e",
   "metadata": {
    "colab": {
     "base_uri": "https://localhost:8080/",
     "height": 316
    },
    "id": "209a506e",
    "outputId": "28dfa7f1-7fcf-4d67-9778-e415ee98d3da"
   },
   "outputs": [
    {
     "data": {
      "text/html": [
       "<div>\n",
       "<style scoped>\n",
       "    .dataframe tbody tr th:only-of-type {\n",
       "        vertical-align: middle;\n",
       "    }\n",
       "\n",
       "    .dataframe tbody tr th {\n",
       "        vertical-align: top;\n",
       "    }\n",
       "\n",
       "    .dataframe thead th {\n",
       "        text-align: right;\n",
       "    }\n",
       "</style>\n",
       "<table border=\"1\" class=\"dataframe\">\n",
       "  <thead>\n",
       "    <tr style=\"text-align: right;\">\n",
       "      <th></th>\n",
       "      <th>ID</th>\n",
       "      <th>Loan Amount</th>\n",
       "      <th>Funded Amount</th>\n",
       "      <th>Funded Amount Investor</th>\n",
       "      <th>Term</th>\n",
       "      <th>Batch Enrolled</th>\n",
       "      <th>Interest Rate</th>\n",
       "      <th>Grade</th>\n",
       "      <th>Sub Grade</th>\n",
       "      <th>Employment Duration</th>\n",
       "      <th>Home Ownership</th>\n",
       "      <th>Verification Status</th>\n",
       "      <th>Payment Plan</th>\n",
       "      <th>Loan Title</th>\n",
       "      <th>Debit to Income</th>\n",
       "      <th>Delinquency - two years</th>\n",
       "      <th>Inquires - six months</th>\n",
       "      <th>Open Account</th>\n",
       "      <th>Public Record</th>\n",
       "      <th>Revolving Balance</th>\n",
       "      <th>Revolving Utilities</th>\n",
       "      <th>Total Accounts</th>\n",
       "      <th>Initial List Status</th>\n",
       "      <th>Total Received Interest</th>\n",
       "      <th>Total Received Late Fee</th>\n",
       "      <th>Recoveries</th>\n",
       "      <th>Collection Recovery Fee</th>\n",
       "      <th>Collection 12 months Medical</th>\n",
       "      <th>Application Type</th>\n",
       "      <th>Last week Pay</th>\n",
       "      <th>Accounts Delinquent</th>\n",
       "      <th>Total Collection Amount</th>\n",
       "      <th>Total Current Balance</th>\n",
       "      <th>Total Revolving Credit Limit</th>\n",
       "      <th>Loan Status</th>\n",
       "    </tr>\n",
       "  </thead>\n",
       "  <tbody>\n",
       "    <tr>\n",
       "      <th>0</th>\n",
       "      <td>65087372</td>\n",
       "      <td>10000</td>\n",
       "      <td>32236</td>\n",
       "      <td>12329.36286</td>\n",
       "      <td>59</td>\n",
       "      <td>BAT2522922</td>\n",
       "      <td>11.135007</td>\n",
       "      <td>B</td>\n",
       "      <td>C4</td>\n",
       "      <td>MORTGAGE</td>\n",
       "      <td>176346.62670</td>\n",
       "      <td>Not Verified</td>\n",
       "      <td>n</td>\n",
       "      <td>Debt Consolidation</td>\n",
       "      <td>16.284758</td>\n",
       "      <td>1</td>\n",
       "      <td>0</td>\n",
       "      <td>13</td>\n",
       "      <td>0</td>\n",
       "      <td>24246</td>\n",
       "      <td>74.932551</td>\n",
       "      <td>7</td>\n",
       "      <td>w</td>\n",
       "      <td>2929.646315</td>\n",
       "      <td>0.102055</td>\n",
       "      <td>2.498291</td>\n",
       "      <td>0.793724</td>\n",
       "      <td>0</td>\n",
       "      <td>INDIVIDUAL</td>\n",
       "      <td>49</td>\n",
       "      <td>0</td>\n",
       "      <td>31</td>\n",
       "      <td>311301</td>\n",
       "      <td>6619</td>\n",
       "      <td>0</td>\n",
       "    </tr>\n",
       "    <tr>\n",
       "      <th>1</th>\n",
       "      <td>1450153</td>\n",
       "      <td>3609</td>\n",
       "      <td>11940</td>\n",
       "      <td>12191.99692</td>\n",
       "      <td>59</td>\n",
       "      <td>BAT1586599</td>\n",
       "      <td>12.237563</td>\n",
       "      <td>C</td>\n",
       "      <td>D3</td>\n",
       "      <td>RENT</td>\n",
       "      <td>39833.92100</td>\n",
       "      <td>Source Verified</td>\n",
       "      <td>n</td>\n",
       "      <td>Debt consolidation</td>\n",
       "      <td>15.412409</td>\n",
       "      <td>0</td>\n",
       "      <td>0</td>\n",
       "      <td>12</td>\n",
       "      <td>0</td>\n",
       "      <td>812</td>\n",
       "      <td>78.297186</td>\n",
       "      <td>13</td>\n",
       "      <td>f</td>\n",
       "      <td>772.769385</td>\n",
       "      <td>0.036181</td>\n",
       "      <td>2.377215</td>\n",
       "      <td>0.974821</td>\n",
       "      <td>0</td>\n",
       "      <td>INDIVIDUAL</td>\n",
       "      <td>109</td>\n",
       "      <td>0</td>\n",
       "      <td>53</td>\n",
       "      <td>182610</td>\n",
       "      <td>20885</td>\n",
       "      <td>0</td>\n",
       "    </tr>\n",
       "    <tr>\n",
       "      <th>2</th>\n",
       "      <td>1969101</td>\n",
       "      <td>28276</td>\n",
       "      <td>9311</td>\n",
       "      <td>21603.22455</td>\n",
       "      <td>59</td>\n",
       "      <td>BAT2136391</td>\n",
       "      <td>12.545884</td>\n",
       "      <td>F</td>\n",
       "      <td>D4</td>\n",
       "      <td>MORTGAGE</td>\n",
       "      <td>91506.69105</td>\n",
       "      <td>Source Verified</td>\n",
       "      <td>n</td>\n",
       "      <td>Debt Consolidation</td>\n",
       "      <td>28.137619</td>\n",
       "      <td>0</td>\n",
       "      <td>0</td>\n",
       "      <td>14</td>\n",
       "      <td>0</td>\n",
       "      <td>1843</td>\n",
       "      <td>2.073040</td>\n",
       "      <td>20</td>\n",
       "      <td>w</td>\n",
       "      <td>863.324396</td>\n",
       "      <td>18.778660</td>\n",
       "      <td>4.316277</td>\n",
       "      <td>1.020075</td>\n",
       "      <td>0</td>\n",
       "      <td>INDIVIDUAL</td>\n",
       "      <td>66</td>\n",
       "      <td>0</td>\n",
       "      <td>34</td>\n",
       "      <td>89801</td>\n",
       "      <td>26155</td>\n",
       "      <td>0</td>\n",
       "    </tr>\n",
       "    <tr>\n",
       "      <th>3</th>\n",
       "      <td>6651430</td>\n",
       "      <td>11170</td>\n",
       "      <td>6954</td>\n",
       "      <td>17877.15585</td>\n",
       "      <td>59</td>\n",
       "      <td>BAT2428731</td>\n",
       "      <td>16.731201</td>\n",
       "      <td>C</td>\n",
       "      <td>C3</td>\n",
       "      <td>MORTGAGE</td>\n",
       "      <td>108286.57590</td>\n",
       "      <td>Source Verified</td>\n",
       "      <td>n</td>\n",
       "      <td>Debt consolidation</td>\n",
       "      <td>18.043730</td>\n",
       "      <td>1</td>\n",
       "      <td>0</td>\n",
       "      <td>7</td>\n",
       "      <td>0</td>\n",
       "      <td>13819</td>\n",
       "      <td>67.467951</td>\n",
       "      <td>12</td>\n",
       "      <td>w</td>\n",
       "      <td>288.173196</td>\n",
       "      <td>0.044131</td>\n",
       "      <td>0.107020</td>\n",
       "      <td>0.749971</td>\n",
       "      <td>0</td>\n",
       "      <td>INDIVIDUAL</td>\n",
       "      <td>39</td>\n",
       "      <td>0</td>\n",
       "      <td>40</td>\n",
       "      <td>9189</td>\n",
       "      <td>60214</td>\n",
       "      <td>0</td>\n",
       "    </tr>\n",
       "  </tbody>\n",
       "</table>\n",
       "</div>"
      ],
      "text/plain": [
       "         ID  Loan Amount  ...  Total Revolving Credit Limit  Loan Status\n",
       "0  65087372        10000  ...                          6619            0\n",
       "1   1450153         3609  ...                         20885            0\n",
       "2   1969101        28276  ...                         26155            0\n",
       "3   6651430        11170  ...                         60214            0\n",
       "\n",
       "[4 rows x 35 columns]"
      ]
     },
     "execution_count": 6,
     "metadata": {},
     "output_type": "execute_result"
    }
   ],
   "source": [
    "# Importing all datasets\n",
    "loan_train = pd.read_csv(\"/content/train.csv\")\n",
    "loan_train.head(4)"
   ]
  },
  {
   "cell_type": "code",
   "execution_count": 7,
   "id": "39505de3",
   "metadata": {
    "colab": {
     "base_uri": "https://localhost:8080/",
     "height": 316
    },
    "id": "39505de3",
    "outputId": "92ce0ae1-cbb9-44df-b2f5-368f19dd1f4e"
   },
   "outputs": [
    {
     "data": {
      "text/html": [
       "<div>\n",
       "<style scoped>\n",
       "    .dataframe tbody tr th:only-of-type {\n",
       "        vertical-align: middle;\n",
       "    }\n",
       "\n",
       "    .dataframe tbody tr th {\n",
       "        vertical-align: top;\n",
       "    }\n",
       "\n",
       "    .dataframe thead th {\n",
       "        text-align: right;\n",
       "    }\n",
       "</style>\n",
       "<table border=\"1\" class=\"dataframe\">\n",
       "  <thead>\n",
       "    <tr style=\"text-align: right;\">\n",
       "      <th></th>\n",
       "      <th>ID</th>\n",
       "      <th>Loan Amount</th>\n",
       "      <th>Funded Amount</th>\n",
       "      <th>Funded Amount Investor</th>\n",
       "      <th>Term</th>\n",
       "      <th>Batch Enrolled</th>\n",
       "      <th>Interest Rate</th>\n",
       "      <th>Grade</th>\n",
       "      <th>Sub Grade</th>\n",
       "      <th>Employment Duration</th>\n",
       "      <th>Home Ownership</th>\n",
       "      <th>Verification Status</th>\n",
       "      <th>Payment Plan</th>\n",
       "      <th>Loan Title</th>\n",
       "      <th>Debit to Income</th>\n",
       "      <th>Delinquency - two years</th>\n",
       "      <th>Inquires - six months</th>\n",
       "      <th>Open Account</th>\n",
       "      <th>Public Record</th>\n",
       "      <th>Revolving Balance</th>\n",
       "      <th>Revolving Utilities</th>\n",
       "      <th>Total Accounts</th>\n",
       "      <th>Initial List Status</th>\n",
       "      <th>Total Received Interest</th>\n",
       "      <th>Total Received Late Fee</th>\n",
       "      <th>Recoveries</th>\n",
       "      <th>Collection Recovery Fee</th>\n",
       "      <th>Collection 12 months Medical</th>\n",
       "      <th>Application Type</th>\n",
       "      <th>Last week Pay</th>\n",
       "      <th>Accounts Delinquent</th>\n",
       "      <th>Total Collection Amount</th>\n",
       "      <th>Total Current Balance</th>\n",
       "      <th>Total Revolving Credit Limit</th>\n",
       "      <th>Loan Status</th>\n",
       "    </tr>\n",
       "  </thead>\n",
       "  <tbody>\n",
       "    <tr>\n",
       "      <th>0</th>\n",
       "      <td>56492997</td>\n",
       "      <td>17120</td>\n",
       "      <td>10365</td>\n",
       "      <td>16025.08269</td>\n",
       "      <td>59</td>\n",
       "      <td>BAT2575549</td>\n",
       "      <td>12.163926</td>\n",
       "      <td>A</td>\n",
       "      <td>D1</td>\n",
       "      <td>RENT</td>\n",
       "      <td>76468.82190</td>\n",
       "      <td>Source Verified</td>\n",
       "      <td>n</td>\n",
       "      <td>Home improvement</td>\n",
       "      <td>16.749219</td>\n",
       "      <td>1</td>\n",
       "      <td>0</td>\n",
       "      <td>12</td>\n",
       "      <td>1</td>\n",
       "      <td>3576</td>\n",
       "      <td>67.278287</td>\n",
       "      <td>5</td>\n",
       "      <td>f</td>\n",
       "      <td>4469.449851</td>\n",
       "      <td>0.088031</td>\n",
       "      <td>8.425776</td>\n",
       "      <td>0.731797</td>\n",
       "      <td>0</td>\n",
       "      <td>INDIVIDUAL</td>\n",
       "      <td>135</td>\n",
       "      <td>0</td>\n",
       "      <td>24</td>\n",
       "      <td>475442</td>\n",
       "      <td>4364</td>\n",
       "      <td>NaN</td>\n",
       "    </tr>\n",
       "    <tr>\n",
       "      <th>1</th>\n",
       "      <td>22540813</td>\n",
       "      <td>7133</td>\n",
       "      <td>11650</td>\n",
       "      <td>12615.79560</td>\n",
       "      <td>59</td>\n",
       "      <td>BAT2833642</td>\n",
       "      <td>6.564296</td>\n",
       "      <td>B</td>\n",
       "      <td>E3</td>\n",
       "      <td>MORTGAGE</td>\n",
       "      <td>38079.01344</td>\n",
       "      <td>Source Verified</td>\n",
       "      <td>n</td>\n",
       "      <td>Credit card refinancing</td>\n",
       "      <td>18.157975</td>\n",
       "      <td>0</td>\n",
       "      <td>0</td>\n",
       "      <td>11</td>\n",
       "      <td>0</td>\n",
       "      <td>1932</td>\n",
       "      <td>71.313157</td>\n",
       "      <td>21</td>\n",
       "      <td>w</td>\n",
       "      <td>993.907530</td>\n",
       "      <td>0.041237</td>\n",
       "      <td>6.157008</td>\n",
       "      <td>0.992918</td>\n",
       "      <td>0</td>\n",
       "      <td>INDIVIDUAL</td>\n",
       "      <td>56</td>\n",
       "      <td>0</td>\n",
       "      <td>1</td>\n",
       "      <td>72412</td>\n",
       "      <td>2573</td>\n",
       "      <td>NaN</td>\n",
       "    </tr>\n",
       "    <tr>\n",
       "      <th>2</th>\n",
       "      <td>9862181</td>\n",
       "      <td>25291</td>\n",
       "      <td>25825</td>\n",
       "      <td>11621.28083</td>\n",
       "      <td>59</td>\n",
       "      <td>BAT1761981</td>\n",
       "      <td>14.729900</td>\n",
       "      <td>A</td>\n",
       "      <td>C3</td>\n",
       "      <td>MORTGAGE</td>\n",
       "      <td>51275.93268</td>\n",
       "      <td>Source Verified</td>\n",
       "      <td>n</td>\n",
       "      <td>Debt consolidation</td>\n",
       "      <td>15.190011</td>\n",
       "      <td>0</td>\n",
       "      <td>0</td>\n",
       "      <td>22</td>\n",
       "      <td>0</td>\n",
       "      <td>598</td>\n",
       "      <td>50.883065</td>\n",
       "      <td>23</td>\n",
       "      <td>f</td>\n",
       "      <td>729.113379</td>\n",
       "      <td>0.021745</td>\n",
       "      <td>5.705077</td>\n",
       "      <td>0.281580</td>\n",
       "      <td>0</td>\n",
       "      <td>INDIVIDUAL</td>\n",
       "      <td>3</td>\n",
       "      <td>0</td>\n",
       "      <td>26</td>\n",
       "      <td>284825</td>\n",
       "      <td>19676</td>\n",
       "      <td>NaN</td>\n",
       "    </tr>\n",
       "    <tr>\n",
       "      <th>3</th>\n",
       "      <td>10097822</td>\n",
       "      <td>30781</td>\n",
       "      <td>9664</td>\n",
       "      <td>15375.82351</td>\n",
       "      <td>59</td>\n",
       "      <td>BAT5341619</td>\n",
       "      <td>10.523767</td>\n",
       "      <td>A</td>\n",
       "      <td>A2</td>\n",
       "      <td>RENT</td>\n",
       "      <td>68867.98965</td>\n",
       "      <td>Verified</td>\n",
       "      <td>n</td>\n",
       "      <td>Debt Consolidation</td>\n",
       "      <td>21.292550</td>\n",
       "      <td>0</td>\n",
       "      <td>0</td>\n",
       "      <td>11</td>\n",
       "      <td>0</td>\n",
       "      <td>5222</td>\n",
       "      <td>82.449083</td>\n",
       "      <td>28</td>\n",
       "      <td>w</td>\n",
       "      <td>715.867091</td>\n",
       "      <td>0.092398</td>\n",
       "      <td>2.469688</td>\n",
       "      <td>0.959162</td>\n",
       "      <td>0</td>\n",
       "      <td>INDIVIDUAL</td>\n",
       "      <td>21</td>\n",
       "      <td>0</td>\n",
       "      <td>32</td>\n",
       "      <td>40842</td>\n",
       "      <td>7226</td>\n",
       "      <td>NaN</td>\n",
       "    </tr>\n",
       "  </tbody>\n",
       "</table>\n",
       "</div>"
      ],
      "text/plain": [
       "         ID  Loan Amount  ...  Total Revolving Credit Limit  Loan Status\n",
       "0  56492997        17120  ...                          4364          NaN\n",
       "1  22540813         7133  ...                          2573          NaN\n",
       "2   9862181        25291  ...                         19676          NaN\n",
       "3  10097822        30781  ...                          7226          NaN\n",
       "\n",
       "[4 rows x 35 columns]"
      ]
     },
     "execution_count": 7,
     "metadata": {},
     "output_type": "execute_result"
    }
   ],
   "source": [
    "# Importing all datasets\n",
    "loan_test = pd.read_csv(\"/content/test.csv\")\n",
    "loan_test.head(4)"
   ]
  },
  {
   "cell_type": "code",
   "execution_count": 8,
   "id": "54ff5a8a",
   "metadata": {
    "id": "54ff5a8a"
   },
   "outputs": [],
   "source": [
    "loan_test[\"Loan Status\"] = 0"
   ]
  },
  {
   "cell_type": "code",
   "execution_count": 9,
   "id": "a6309097",
   "metadata": {
    "colab": {
     "base_uri": "https://localhost:8080/",
     "height": 316
    },
    "id": "a6309097",
    "outputId": "43e316c0-9f7f-41d1-e4c9-cb280105075e"
   },
   "outputs": [
    {
     "data": {
      "text/html": [
       "<div>\n",
       "<style scoped>\n",
       "    .dataframe tbody tr th:only-of-type {\n",
       "        vertical-align: middle;\n",
       "    }\n",
       "\n",
       "    .dataframe tbody tr th {\n",
       "        vertical-align: top;\n",
       "    }\n",
       "\n",
       "    .dataframe thead th {\n",
       "        text-align: right;\n",
       "    }\n",
       "</style>\n",
       "<table border=\"1\" class=\"dataframe\">\n",
       "  <thead>\n",
       "    <tr style=\"text-align: right;\">\n",
       "      <th></th>\n",
       "      <th>ID</th>\n",
       "      <th>Loan Amount</th>\n",
       "      <th>Funded Amount</th>\n",
       "      <th>Funded Amount Investor</th>\n",
       "      <th>Term</th>\n",
       "      <th>Batch Enrolled</th>\n",
       "      <th>Interest Rate</th>\n",
       "      <th>Grade</th>\n",
       "      <th>Sub Grade</th>\n",
       "      <th>Employment Duration</th>\n",
       "      <th>Home Ownership</th>\n",
       "      <th>Verification Status</th>\n",
       "      <th>Payment Plan</th>\n",
       "      <th>Loan Title</th>\n",
       "      <th>Debit to Income</th>\n",
       "      <th>Delinquency - two years</th>\n",
       "      <th>Inquires - six months</th>\n",
       "      <th>Open Account</th>\n",
       "      <th>Public Record</th>\n",
       "      <th>Revolving Balance</th>\n",
       "      <th>Revolving Utilities</th>\n",
       "      <th>Total Accounts</th>\n",
       "      <th>Initial List Status</th>\n",
       "      <th>Total Received Interest</th>\n",
       "      <th>Total Received Late Fee</th>\n",
       "      <th>Recoveries</th>\n",
       "      <th>Collection Recovery Fee</th>\n",
       "      <th>Collection 12 months Medical</th>\n",
       "      <th>Application Type</th>\n",
       "      <th>Last week Pay</th>\n",
       "      <th>Accounts Delinquent</th>\n",
       "      <th>Total Collection Amount</th>\n",
       "      <th>Total Current Balance</th>\n",
       "      <th>Total Revolving Credit Limit</th>\n",
       "      <th>Loan Status</th>\n",
       "    </tr>\n",
       "  </thead>\n",
       "  <tbody>\n",
       "    <tr>\n",
       "      <th>0</th>\n",
       "      <td>56492997</td>\n",
       "      <td>17120</td>\n",
       "      <td>10365</td>\n",
       "      <td>16025.08269</td>\n",
       "      <td>59</td>\n",
       "      <td>BAT2575549</td>\n",
       "      <td>12.163926</td>\n",
       "      <td>A</td>\n",
       "      <td>D1</td>\n",
       "      <td>RENT</td>\n",
       "      <td>76468.82190</td>\n",
       "      <td>Source Verified</td>\n",
       "      <td>n</td>\n",
       "      <td>Home improvement</td>\n",
       "      <td>16.749219</td>\n",
       "      <td>1</td>\n",
       "      <td>0</td>\n",
       "      <td>12</td>\n",
       "      <td>1</td>\n",
       "      <td>3576</td>\n",
       "      <td>67.278287</td>\n",
       "      <td>5</td>\n",
       "      <td>f</td>\n",
       "      <td>4469.449851</td>\n",
       "      <td>0.088031</td>\n",
       "      <td>8.425776</td>\n",
       "      <td>0.731797</td>\n",
       "      <td>0</td>\n",
       "      <td>INDIVIDUAL</td>\n",
       "      <td>135</td>\n",
       "      <td>0</td>\n",
       "      <td>24</td>\n",
       "      <td>475442</td>\n",
       "      <td>4364</td>\n",
       "      <td>0</td>\n",
       "    </tr>\n",
       "    <tr>\n",
       "      <th>1</th>\n",
       "      <td>22540813</td>\n",
       "      <td>7133</td>\n",
       "      <td>11650</td>\n",
       "      <td>12615.79560</td>\n",
       "      <td>59</td>\n",
       "      <td>BAT2833642</td>\n",
       "      <td>6.564296</td>\n",
       "      <td>B</td>\n",
       "      <td>E3</td>\n",
       "      <td>MORTGAGE</td>\n",
       "      <td>38079.01344</td>\n",
       "      <td>Source Verified</td>\n",
       "      <td>n</td>\n",
       "      <td>Credit card refinancing</td>\n",
       "      <td>18.157975</td>\n",
       "      <td>0</td>\n",
       "      <td>0</td>\n",
       "      <td>11</td>\n",
       "      <td>0</td>\n",
       "      <td>1932</td>\n",
       "      <td>71.313157</td>\n",
       "      <td>21</td>\n",
       "      <td>w</td>\n",
       "      <td>993.907530</td>\n",
       "      <td>0.041237</td>\n",
       "      <td>6.157008</td>\n",
       "      <td>0.992918</td>\n",
       "      <td>0</td>\n",
       "      <td>INDIVIDUAL</td>\n",
       "      <td>56</td>\n",
       "      <td>0</td>\n",
       "      <td>1</td>\n",
       "      <td>72412</td>\n",
       "      <td>2573</td>\n",
       "      <td>0</td>\n",
       "    </tr>\n",
       "    <tr>\n",
       "      <th>2</th>\n",
       "      <td>9862181</td>\n",
       "      <td>25291</td>\n",
       "      <td>25825</td>\n",
       "      <td>11621.28083</td>\n",
       "      <td>59</td>\n",
       "      <td>BAT1761981</td>\n",
       "      <td>14.729900</td>\n",
       "      <td>A</td>\n",
       "      <td>C3</td>\n",
       "      <td>MORTGAGE</td>\n",
       "      <td>51275.93268</td>\n",
       "      <td>Source Verified</td>\n",
       "      <td>n</td>\n",
       "      <td>Debt consolidation</td>\n",
       "      <td>15.190011</td>\n",
       "      <td>0</td>\n",
       "      <td>0</td>\n",
       "      <td>22</td>\n",
       "      <td>0</td>\n",
       "      <td>598</td>\n",
       "      <td>50.883065</td>\n",
       "      <td>23</td>\n",
       "      <td>f</td>\n",
       "      <td>729.113379</td>\n",
       "      <td>0.021745</td>\n",
       "      <td>5.705077</td>\n",
       "      <td>0.281580</td>\n",
       "      <td>0</td>\n",
       "      <td>INDIVIDUAL</td>\n",
       "      <td>3</td>\n",
       "      <td>0</td>\n",
       "      <td>26</td>\n",
       "      <td>284825</td>\n",
       "      <td>19676</td>\n",
       "      <td>0</td>\n",
       "    </tr>\n",
       "    <tr>\n",
       "      <th>3</th>\n",
       "      <td>10097822</td>\n",
       "      <td>30781</td>\n",
       "      <td>9664</td>\n",
       "      <td>15375.82351</td>\n",
       "      <td>59</td>\n",
       "      <td>BAT5341619</td>\n",
       "      <td>10.523767</td>\n",
       "      <td>A</td>\n",
       "      <td>A2</td>\n",
       "      <td>RENT</td>\n",
       "      <td>68867.98965</td>\n",
       "      <td>Verified</td>\n",
       "      <td>n</td>\n",
       "      <td>Debt Consolidation</td>\n",
       "      <td>21.292550</td>\n",
       "      <td>0</td>\n",
       "      <td>0</td>\n",
       "      <td>11</td>\n",
       "      <td>0</td>\n",
       "      <td>5222</td>\n",
       "      <td>82.449083</td>\n",
       "      <td>28</td>\n",
       "      <td>w</td>\n",
       "      <td>715.867091</td>\n",
       "      <td>0.092398</td>\n",
       "      <td>2.469688</td>\n",
       "      <td>0.959162</td>\n",
       "      <td>0</td>\n",
       "      <td>INDIVIDUAL</td>\n",
       "      <td>21</td>\n",
       "      <td>0</td>\n",
       "      <td>32</td>\n",
       "      <td>40842</td>\n",
       "      <td>7226</td>\n",
       "      <td>0</td>\n",
       "    </tr>\n",
       "  </tbody>\n",
       "</table>\n",
       "</div>"
      ],
      "text/plain": [
       "         ID  Loan Amount  ...  Total Revolving Credit Limit  Loan Status\n",
       "0  56492997        17120  ...                          4364            0\n",
       "1  22540813         7133  ...                          2573            0\n",
       "2   9862181        25291  ...                         19676            0\n",
       "3  10097822        30781  ...                          7226            0\n",
       "\n",
       "[4 rows x 35 columns]"
      ]
     },
     "execution_count": 9,
     "metadata": {},
     "output_type": "execute_result"
    }
   ],
   "source": [
    "loan_test.head(4)"
   ]
  },
  {
   "cell_type": "markdown",
   "id": "0cc290e9",
   "metadata": {
    "id": "0cc290e9"
   },
   "source": [
    "### Feature Engineering "
   ]
  },
  {
   "cell_type": "code",
   "execution_count": 10,
   "id": "6fe14784",
   "metadata": {
    "colab": {
     "base_uri": "https://localhost:8080/"
    },
    "id": "6fe14784",
    "outputId": "25895f2e-c83d-4623-b6df-8ab9f48a408a"
   },
   "outputs": [
    {
     "data": {
      "text/plain": [
       "Index(['ID', 'Loan Amount', 'Funded Amount', 'Funded Amount Investor', 'Term',\n",
       "       'Batch Enrolled', 'Interest Rate', 'Grade', 'Sub Grade',\n",
       "       'Employment Duration', 'Home Ownership', 'Verification Status',\n",
       "       'Payment Plan', 'Loan Title', 'Debit to Income',\n",
       "       'Delinquency - two years', 'Inquires - six months', 'Open Account',\n",
       "       'Public Record', 'Revolving Balance', 'Revolving Utilities',\n",
       "       'Total Accounts', 'Initial List Status', 'Total Received Interest',\n",
       "       'Total Received Late Fee', 'Recoveries', 'Collection Recovery Fee',\n",
       "       'Collection 12 months Medical', 'Application Type', 'Last week Pay',\n",
       "       'Accounts Delinquent', 'Total Collection Amount',\n",
       "       'Total Current Balance', 'Total Revolving Credit Limit', 'Loan Status'],\n",
       "      dtype='object')"
      ]
     },
     "execution_count": 10,
     "metadata": {},
     "output_type": "execute_result"
    }
   ],
   "source": [
    "loan_train.columns"
   ]
  },
  {
   "cell_type": "code",
   "execution_count": 11,
   "id": "4fb4d482",
   "metadata": {
    "colab": {
     "base_uri": "https://localhost:8080/"
    },
    "id": "4fb4d482",
    "outputId": "260f5d9c-9d57-4928-f1eb-8bbbf4a1eab1"
   },
   "outputs": [
    {
     "data": {
      "text/plain": [
       "ID                                int64\n",
       "Loan Amount                       int64\n",
       "Funded Amount                     int64\n",
       "Funded Amount Investor          float64\n",
       "Term                              int64\n",
       "Batch Enrolled                   object\n",
       "Interest Rate                   float64\n",
       "Grade                            object\n",
       "Sub Grade                        object\n",
       "Employment Duration              object\n",
       "Home Ownership                  float64\n",
       "Verification Status              object\n",
       "Payment Plan                     object\n",
       "Loan Title                       object\n",
       "Debit to Income                 float64\n",
       "Delinquency - two years           int64\n",
       "Inquires - six months             int64\n",
       "Open Account                      int64\n",
       "Public Record                     int64\n",
       "Revolving Balance                 int64\n",
       "Revolving Utilities             float64\n",
       "Total Accounts                    int64\n",
       "Initial List Status              object\n",
       "Total Received Interest         float64\n",
       "Total Received Late Fee         float64\n",
       "Recoveries                      float64\n",
       "Collection Recovery Fee         float64\n",
       "Collection 12 months Medical      int64\n",
       "Application Type                 object\n",
       "Last week Pay                     int64\n",
       "Accounts Delinquent               int64\n",
       "Total Collection Amount           int64\n",
       "Total Current Balance             int64\n",
       "Total Revolving Credit Limit      int64\n",
       "Loan Status                       int64\n",
       "dtype: object"
      ]
     },
     "execution_count": 11,
     "metadata": {},
     "output_type": "execute_result"
    }
   ],
   "source": [
    "loan_train.dtypes"
   ]
  },
  {
   "cell_type": "markdown",
   "id": "195e44fa",
   "metadata": {
    "id": "195e44fa"
   },
   "source": [
    "### Checking the `missing values`"
   ]
  },
  {
   "cell_type": "code",
   "execution_count": 12,
   "id": "c6c20ebf",
   "metadata": {
    "colab": {
     "base_uri": "https://localhost:8080/"
    },
    "id": "c6c20ebf",
    "outputId": "b1c9f331-ab91-4a05-c711-ee80e52e3e5c"
   },
   "outputs": [
    {
     "data": {
      "text/plain": [
       "ID                              0\n",
       "Loan Amount                     0\n",
       "Funded Amount                   0\n",
       "Funded Amount Investor          0\n",
       "Term                            0\n",
       "Batch Enrolled                  0\n",
       "Interest Rate                   0\n",
       "Grade                           0\n",
       "Sub Grade                       0\n",
       "Employment Duration             0\n",
       "Home Ownership                  0\n",
       "Verification Status             0\n",
       "Payment Plan                    0\n",
       "Loan Title                      0\n",
       "Debit to Income                 0\n",
       "Delinquency - two years         0\n",
       "Inquires - six months           0\n",
       "Open Account                    0\n",
       "Public Record                   0\n",
       "Revolving Balance               0\n",
       "Revolving Utilities             0\n",
       "Total Accounts                  0\n",
       "Initial List Status             0\n",
       "Total Received Interest         0\n",
       "Total Received Late Fee         0\n",
       "Recoveries                      0\n",
       "Collection Recovery Fee         0\n",
       "Collection 12 months Medical    0\n",
       "Application Type                0\n",
       "Last week Pay                   0\n",
       "Accounts Delinquent             0\n",
       "Total Collection Amount         0\n",
       "Total Current Balance           0\n",
       "Total Revolving Credit Limit    0\n",
       "Loan Status                     0\n",
       "dtype: int64"
      ]
     },
     "execution_count": 12,
     "metadata": {},
     "output_type": "execute_result"
    }
   ],
   "source": [
    "loan_train.isnull().sum()"
   ]
  },
  {
   "cell_type": "markdown",
   "id": "38700dba",
   "metadata": {
    "id": "38700dba"
   },
   "source": [
    " - Please Note , there is no missing values in the dataset"
   ]
  },
  {
   "cell_type": "code",
   "execution_count": 13,
   "id": "4313766c",
   "metadata": {
    "colab": {
     "base_uri": "https://localhost:8080/",
     "height": 0
    },
    "id": "4313766c",
    "outputId": "7791c056-68a9-4bb0-ec04-82b4eafb7cad"
   },
   "outputs": [
    {
     "data": {
      "text/html": [
       "<div>\n",
       "<style scoped>\n",
       "    .dataframe tbody tr th:only-of-type {\n",
       "        vertical-align: middle;\n",
       "    }\n",
       "\n",
       "    .dataframe tbody tr th {\n",
       "        vertical-align: top;\n",
       "    }\n",
       "\n",
       "    .dataframe thead th {\n",
       "        text-align: right;\n",
       "    }\n",
       "</style>\n",
       "<table border=\"1\" class=\"dataframe\">\n",
       "  <thead>\n",
       "    <tr style=\"text-align: right;\">\n",
       "      <th></th>\n",
       "      <th>ID</th>\n",
       "      <th>Loan Amount</th>\n",
       "      <th>Funded Amount</th>\n",
       "      <th>Funded Amount Investor</th>\n",
       "      <th>Term</th>\n",
       "      <th>Batch Enrolled</th>\n",
       "      <th>Interest Rate</th>\n",
       "      <th>Grade</th>\n",
       "      <th>Sub Grade</th>\n",
       "      <th>Employment Duration</th>\n",
       "      <th>Home Ownership</th>\n",
       "      <th>Verification Status</th>\n",
       "      <th>Payment Plan</th>\n",
       "      <th>Loan Title</th>\n",
       "      <th>Debit to Income</th>\n",
       "      <th>Delinquency - two years</th>\n",
       "      <th>Inquires - six months</th>\n",
       "      <th>Open Account</th>\n",
       "      <th>Public Record</th>\n",
       "      <th>Revolving Balance</th>\n",
       "      <th>Revolving Utilities</th>\n",
       "      <th>Total Accounts</th>\n",
       "      <th>Initial List Status</th>\n",
       "      <th>Total Received Interest</th>\n",
       "      <th>Total Received Late Fee</th>\n",
       "      <th>Recoveries</th>\n",
       "      <th>Collection Recovery Fee</th>\n",
       "      <th>Collection 12 months Medical</th>\n",
       "      <th>Application Type</th>\n",
       "      <th>Last week Pay</th>\n",
       "      <th>Accounts Delinquent</th>\n",
       "      <th>Total Collection Amount</th>\n",
       "      <th>Total Current Balance</th>\n",
       "      <th>Total Revolving Credit Limit</th>\n",
       "      <th>Loan Status</th>\n",
       "    </tr>\n",
       "  </thead>\n",
       "  <tbody>\n",
       "    <tr>\n",
       "      <th>0</th>\n",
       "      <td>65087372</td>\n",
       "      <td>10000</td>\n",
       "      <td>32236</td>\n",
       "      <td>12329.36286</td>\n",
       "      <td>59</td>\n",
       "      <td>BAT2522922</td>\n",
       "      <td>11.135007</td>\n",
       "      <td>B</td>\n",
       "      <td>C4</td>\n",
       "      <td>MORTGAGE</td>\n",
       "      <td>176346.62670</td>\n",
       "      <td>Not Verified</td>\n",
       "      <td>n</td>\n",
       "      <td>Debt Consolidation</td>\n",
       "      <td>16.284758</td>\n",
       "      <td>1</td>\n",
       "      <td>0</td>\n",
       "      <td>13</td>\n",
       "      <td>0</td>\n",
       "      <td>24246</td>\n",
       "      <td>74.932551</td>\n",
       "      <td>7</td>\n",
       "      <td>w</td>\n",
       "      <td>2929.646315</td>\n",
       "      <td>0.102055</td>\n",
       "      <td>2.498291</td>\n",
       "      <td>0.793724</td>\n",
       "      <td>0</td>\n",
       "      <td>INDIVIDUAL</td>\n",
       "      <td>49</td>\n",
       "      <td>0</td>\n",
       "      <td>31</td>\n",
       "      <td>311301</td>\n",
       "      <td>6619</td>\n",
       "      <td>0</td>\n",
       "    </tr>\n",
       "    <tr>\n",
       "      <th>1</th>\n",
       "      <td>1450153</td>\n",
       "      <td>3609</td>\n",
       "      <td>11940</td>\n",
       "      <td>12191.99692</td>\n",
       "      <td>59</td>\n",
       "      <td>BAT1586599</td>\n",
       "      <td>12.237563</td>\n",
       "      <td>C</td>\n",
       "      <td>D3</td>\n",
       "      <td>RENT</td>\n",
       "      <td>39833.92100</td>\n",
       "      <td>Source Verified</td>\n",
       "      <td>n</td>\n",
       "      <td>Debt consolidation</td>\n",
       "      <td>15.412409</td>\n",
       "      <td>0</td>\n",
       "      <td>0</td>\n",
       "      <td>12</td>\n",
       "      <td>0</td>\n",
       "      <td>812</td>\n",
       "      <td>78.297186</td>\n",
       "      <td>13</td>\n",
       "      <td>f</td>\n",
       "      <td>772.769385</td>\n",
       "      <td>0.036181</td>\n",
       "      <td>2.377215</td>\n",
       "      <td>0.974821</td>\n",
       "      <td>0</td>\n",
       "      <td>INDIVIDUAL</td>\n",
       "      <td>109</td>\n",
       "      <td>0</td>\n",
       "      <td>53</td>\n",
       "      <td>182610</td>\n",
       "      <td>20885</td>\n",
       "      <td>0</td>\n",
       "    </tr>\n",
       "    <tr>\n",
       "      <th>2</th>\n",
       "      <td>1969101</td>\n",
       "      <td>28276</td>\n",
       "      <td>9311</td>\n",
       "      <td>21603.22455</td>\n",
       "      <td>59</td>\n",
       "      <td>BAT2136391</td>\n",
       "      <td>12.545884</td>\n",
       "      <td>F</td>\n",
       "      <td>D4</td>\n",
       "      <td>MORTGAGE</td>\n",
       "      <td>91506.69105</td>\n",
       "      <td>Source Verified</td>\n",
       "      <td>n</td>\n",
       "      <td>Debt Consolidation</td>\n",
       "      <td>28.137619</td>\n",
       "      <td>0</td>\n",
       "      <td>0</td>\n",
       "      <td>14</td>\n",
       "      <td>0</td>\n",
       "      <td>1843</td>\n",
       "      <td>2.073040</td>\n",
       "      <td>20</td>\n",
       "      <td>w</td>\n",
       "      <td>863.324396</td>\n",
       "      <td>18.778660</td>\n",
       "      <td>4.316277</td>\n",
       "      <td>1.020075</td>\n",
       "      <td>0</td>\n",
       "      <td>INDIVIDUAL</td>\n",
       "      <td>66</td>\n",
       "      <td>0</td>\n",
       "      <td>34</td>\n",
       "      <td>89801</td>\n",
       "      <td>26155</td>\n",
       "      <td>0</td>\n",
       "    </tr>\n",
       "  </tbody>\n",
       "</table>\n",
       "</div>"
      ],
      "text/plain": [
       "         ID  Loan Amount  ...  Total Revolving Credit Limit  Loan Status\n",
       "0  65087372        10000  ...                          6619            0\n",
       "1   1450153         3609  ...                         20885            0\n",
       "2   1969101        28276  ...                         26155            0\n",
       "\n",
       "[3 rows x 35 columns]"
      ]
     },
     "execution_count": 13,
     "metadata": {},
     "output_type": "execute_result"
    }
   ],
   "source": [
    "loan_train.head(3)"
   ]
  },
  {
   "cell_type": "code",
   "execution_count": 14,
   "id": "0527de88",
   "metadata": {
    "id": "0527de88"
   },
   "outputs": [],
   "source": [
    "### Checking the categorical values in 'Object Format'"
   ]
  },
  {
   "cell_type": "code",
   "execution_count": 15,
   "id": "0eaa3a37",
   "metadata": {
    "colab": {
     "base_uri": "https://localhost:8080/"
    },
    "id": "0eaa3a37",
    "outputId": "65c85b08-1790-4d92-a089-43a06c280684"
   },
   "outputs": [
    {
     "data": {
      "text/plain": [
       "C    19085\n",
       "B    18742\n",
       "A    12055\n",
       "D     8259\n",
       "E     6446\n",
       "F     2246\n",
       "G      630\n",
       "Name: Grade, dtype: int64"
      ]
     },
     "execution_count": 15,
     "metadata": {},
     "output_type": "execute_result"
    }
   ],
   "source": [
    "loan_train.Grade.value_counts()"
   ]
  },
  {
   "cell_type": "code",
   "execution_count": 16,
   "id": "6b1fb51a",
   "metadata": {
    "colab": {
     "base_uri": "https://localhost:8080/"
    },
    "id": "6b1fb51a",
    "outputId": "9522be2c-b9b9-44b4-f0f1-baf9b6dea6c2"
   },
   "outputs": [
    {
     "data": {
      "text/plain": [
       "MORTGAGE    36351\n",
       "RENT        24150\n",
       "OWN          6962\n",
       "Name: Employment Duration, dtype: int64"
      ]
     },
     "execution_count": 16,
     "metadata": {},
     "output_type": "execute_result"
    }
   ],
   "source": [
    "loan_train[\"Employment Duration\"].value_counts()"
   ]
  },
  {
   "cell_type": "code",
   "execution_count": 17,
   "id": "3f478d2f",
   "metadata": {
    "colab": {
     "base_uri": "https://localhost:8080/"
    },
    "id": "3f478d2f",
    "outputId": "66a4a897-e586-4892-950e-6ed07ae0dc3c"
   },
   "outputs": [
    {
     "data": {
      "text/plain": [
       "INDIVIDUAL    67340\n",
       "JOINT           123\n",
       "Name: Application Type, dtype: int64"
      ]
     },
     "execution_count": 17,
     "metadata": {},
     "output_type": "execute_result"
    }
   ],
   "source": [
    "loan_train[\"Application Type\"].value_counts()"
   ]
  },
  {
   "cell_type": "code",
   "execution_count": 18,
   "id": "ea8584ff",
   "metadata": {
    "colab": {
     "base_uri": "https://localhost:8080/"
    },
    "id": "ea8584ff",
    "outputId": "3a423aaf-c181-468f-81b6-b5397f982bdd"
   },
   "outputs": [
    {
     "data": {
      "text/plain": [
       "Source Verified    33036\n",
       "Verified           18078\n",
       "Not Verified       16349\n",
       "Name: Verification Status, dtype: int64"
      ]
     },
     "execution_count": 18,
     "metadata": {},
     "output_type": "execute_result"
    }
   ],
   "source": [
    "loan_train[\"Verification Status\"].value_counts()"
   ]
  },
  {
   "cell_type": "code",
   "execution_count": 19,
   "id": "d4d0e0a8",
   "metadata": {
    "colab": {
     "base_uri": "https://localhost:8080/"
    },
    "id": "d4d0e0a8",
    "outputId": "b3f505b8-b056-4962-b0bf-0ee20dcbb351"
   },
   "outputs": [
    {
     "data": {
      "text/plain": [
       "n    67463\n",
       "Name: Payment Plan, dtype: int64"
      ]
     },
     "execution_count": 19,
     "metadata": {},
     "output_type": "execute_result"
    }
   ],
   "source": [
    "loan_train[\"Payment Plan\"].value_counts()"
   ]
  },
  {
   "cell_type": "markdown",
   "id": "a8bea1ca",
   "metadata": {
    "id": "a8bea1ca"
   },
   "source": [
    "#### Mean Encoding "
   ]
  },
  {
   "cell_type": "markdown",
   "id": "6efba9e3",
   "metadata": {
    "id": "6efba9e3"
   },
   "source": [
    "#### Grade"
   ]
  },
  {
   "cell_type": "code",
   "execution_count": 20,
   "id": "aa5ad56f",
   "metadata": {
    "colab": {
     "base_uri": "https://localhost:8080/"
    },
    "id": "aa5ad56f",
    "outputId": "1d1a3ad9-04f1-4bf4-a077-3c4b116350dd"
   },
   "outputs": [
    {
     "data": {
      "text/plain": [
       "Index(['B', 'A', 'C', 'E', 'D', 'F', 'G'], dtype='object', name='Grade')"
      ]
     },
     "execution_count": 20,
     "metadata": {},
     "output_type": "execute_result"
    }
   ],
   "source": [
    "mean_labels=loan_train.groupby(['Grade'])['Loan Status'].mean().sort_values().index\n",
    "mean_labels"
   ]
  },
  {
   "cell_type": "code",
   "execution_count": 21,
   "id": "ec886d76",
   "metadata": {
    "colab": {
     "base_uri": "https://localhost:8080/"
    },
    "id": "ec886d76",
    "outputId": "f65923c2-dc95-4fbb-be8c-5baed2a0035e"
   },
   "outputs": [
    {
     "data": {
      "text/plain": [
       "<enumerate at 0x7fa392f0ef50>"
      ]
     },
     "execution_count": 21,
     "metadata": {},
     "output_type": "execute_result"
    }
   ],
   "source": [
    "enumerate(mean_labels,0)"
   ]
  },
  {
   "cell_type": "code",
   "execution_count": 22,
   "id": "b001e42e",
   "metadata": {
    "colab": {
     "base_uri": "https://localhost:8080/"
    },
    "id": "b001e42e",
    "outputId": "0adbe593-54f4-4eb9-e49b-80d31fb9bbe0"
   },
   "outputs": [
    {
     "data": {
      "text/plain": [
       "{'A': 1, 'B': 0, 'C': 2, 'D': 4, 'E': 3, 'F': 5, 'G': 6}"
      ]
     },
     "execution_count": 22,
     "metadata": {},
     "output_type": "execute_result"
    }
   ],
   "source": [
    "mean_labels2={k:i for i,k in enumerate(mean_labels,0)}\n",
    "mean_labels2"
   ]
  },
  {
   "cell_type": "code",
   "execution_count": 23,
   "id": "7a480f2f",
   "metadata": {
    "colab": {
     "base_uri": "https://localhost:8080/",
     "height": 0
    },
    "id": "7a480f2f",
    "outputId": "33f97abb-de20-4357-bbc1-632065b46228"
   },
   "outputs": [
    {
     "data": {
      "text/html": [
       "<div>\n",
       "<style scoped>\n",
       "    .dataframe tbody tr th:only-of-type {\n",
       "        vertical-align: middle;\n",
       "    }\n",
       "\n",
       "    .dataframe tbody tr th {\n",
       "        vertical-align: top;\n",
       "    }\n",
       "\n",
       "    .dataframe thead th {\n",
       "        text-align: right;\n",
       "    }\n",
       "</style>\n",
       "<table border=\"1\" class=\"dataframe\">\n",
       "  <thead>\n",
       "    <tr style=\"text-align: right;\">\n",
       "      <th></th>\n",
       "      <th>ID</th>\n",
       "      <th>Loan Amount</th>\n",
       "      <th>Funded Amount</th>\n",
       "      <th>Funded Amount Investor</th>\n",
       "      <th>Term</th>\n",
       "      <th>Batch Enrolled</th>\n",
       "      <th>Interest Rate</th>\n",
       "      <th>Grade</th>\n",
       "      <th>Sub Grade</th>\n",
       "      <th>Employment Duration</th>\n",
       "      <th>Home Ownership</th>\n",
       "      <th>Verification Status</th>\n",
       "      <th>Payment Plan</th>\n",
       "      <th>Loan Title</th>\n",
       "      <th>Debit to Income</th>\n",
       "      <th>Delinquency - two years</th>\n",
       "      <th>Inquires - six months</th>\n",
       "      <th>Open Account</th>\n",
       "      <th>Public Record</th>\n",
       "      <th>Revolving Balance</th>\n",
       "      <th>Revolving Utilities</th>\n",
       "      <th>Total Accounts</th>\n",
       "      <th>Initial List Status</th>\n",
       "      <th>Total Received Interest</th>\n",
       "      <th>Total Received Late Fee</th>\n",
       "      <th>Recoveries</th>\n",
       "      <th>Collection Recovery Fee</th>\n",
       "      <th>Collection 12 months Medical</th>\n",
       "      <th>Application Type</th>\n",
       "      <th>Last week Pay</th>\n",
       "      <th>Accounts Delinquent</th>\n",
       "      <th>Total Collection Amount</th>\n",
       "      <th>Total Current Balance</th>\n",
       "      <th>Total Revolving Credit Limit</th>\n",
       "      <th>Loan Status</th>\n",
       "      <th>Grade_mean_labels</th>\n",
       "    </tr>\n",
       "  </thead>\n",
       "  <tbody>\n",
       "    <tr>\n",
       "      <th>0</th>\n",
       "      <td>65087372</td>\n",
       "      <td>10000</td>\n",
       "      <td>32236</td>\n",
       "      <td>12329.36286</td>\n",
       "      <td>59</td>\n",
       "      <td>BAT2522922</td>\n",
       "      <td>11.135007</td>\n",
       "      <td>B</td>\n",
       "      <td>C4</td>\n",
       "      <td>MORTGAGE</td>\n",
       "      <td>176346.62670</td>\n",
       "      <td>Not Verified</td>\n",
       "      <td>n</td>\n",
       "      <td>Debt Consolidation</td>\n",
       "      <td>16.284758</td>\n",
       "      <td>1</td>\n",
       "      <td>0</td>\n",
       "      <td>13</td>\n",
       "      <td>0</td>\n",
       "      <td>24246</td>\n",
       "      <td>74.932551</td>\n",
       "      <td>7</td>\n",
       "      <td>w</td>\n",
       "      <td>2929.646315</td>\n",
       "      <td>0.102055</td>\n",
       "      <td>2.498291</td>\n",
       "      <td>0.793724</td>\n",
       "      <td>0</td>\n",
       "      <td>INDIVIDUAL</td>\n",
       "      <td>49</td>\n",
       "      <td>0</td>\n",
       "      <td>31</td>\n",
       "      <td>311301</td>\n",
       "      <td>6619</td>\n",
       "      <td>0</td>\n",
       "      <td>0</td>\n",
       "    </tr>\n",
       "    <tr>\n",
       "      <th>1</th>\n",
       "      <td>1450153</td>\n",
       "      <td>3609</td>\n",
       "      <td>11940</td>\n",
       "      <td>12191.99692</td>\n",
       "      <td>59</td>\n",
       "      <td>BAT1586599</td>\n",
       "      <td>12.237563</td>\n",
       "      <td>C</td>\n",
       "      <td>D3</td>\n",
       "      <td>RENT</td>\n",
       "      <td>39833.92100</td>\n",
       "      <td>Source Verified</td>\n",
       "      <td>n</td>\n",
       "      <td>Debt consolidation</td>\n",
       "      <td>15.412409</td>\n",
       "      <td>0</td>\n",
       "      <td>0</td>\n",
       "      <td>12</td>\n",
       "      <td>0</td>\n",
       "      <td>812</td>\n",
       "      <td>78.297186</td>\n",
       "      <td>13</td>\n",
       "      <td>f</td>\n",
       "      <td>772.769385</td>\n",
       "      <td>0.036181</td>\n",
       "      <td>2.377215</td>\n",
       "      <td>0.974821</td>\n",
       "      <td>0</td>\n",
       "      <td>INDIVIDUAL</td>\n",
       "      <td>109</td>\n",
       "      <td>0</td>\n",
       "      <td>53</td>\n",
       "      <td>182610</td>\n",
       "      <td>20885</td>\n",
       "      <td>0</td>\n",
       "      <td>2</td>\n",
       "    </tr>\n",
       "    <tr>\n",
       "      <th>2</th>\n",
       "      <td>1969101</td>\n",
       "      <td>28276</td>\n",
       "      <td>9311</td>\n",
       "      <td>21603.22455</td>\n",
       "      <td>59</td>\n",
       "      <td>BAT2136391</td>\n",
       "      <td>12.545884</td>\n",
       "      <td>F</td>\n",
       "      <td>D4</td>\n",
       "      <td>MORTGAGE</td>\n",
       "      <td>91506.69105</td>\n",
       "      <td>Source Verified</td>\n",
       "      <td>n</td>\n",
       "      <td>Debt Consolidation</td>\n",
       "      <td>28.137619</td>\n",
       "      <td>0</td>\n",
       "      <td>0</td>\n",
       "      <td>14</td>\n",
       "      <td>0</td>\n",
       "      <td>1843</td>\n",
       "      <td>2.073040</td>\n",
       "      <td>20</td>\n",
       "      <td>w</td>\n",
       "      <td>863.324396</td>\n",
       "      <td>18.778660</td>\n",
       "      <td>4.316277</td>\n",
       "      <td>1.020075</td>\n",
       "      <td>0</td>\n",
       "      <td>INDIVIDUAL</td>\n",
       "      <td>66</td>\n",
       "      <td>0</td>\n",
       "      <td>34</td>\n",
       "      <td>89801</td>\n",
       "      <td>26155</td>\n",
       "      <td>0</td>\n",
       "      <td>5</td>\n",
       "    </tr>\n",
       "    <tr>\n",
       "      <th>3</th>\n",
       "      <td>6651430</td>\n",
       "      <td>11170</td>\n",
       "      <td>6954</td>\n",
       "      <td>17877.15585</td>\n",
       "      <td>59</td>\n",
       "      <td>BAT2428731</td>\n",
       "      <td>16.731201</td>\n",
       "      <td>C</td>\n",
       "      <td>C3</td>\n",
       "      <td>MORTGAGE</td>\n",
       "      <td>108286.57590</td>\n",
       "      <td>Source Verified</td>\n",
       "      <td>n</td>\n",
       "      <td>Debt consolidation</td>\n",
       "      <td>18.043730</td>\n",
       "      <td>1</td>\n",
       "      <td>0</td>\n",
       "      <td>7</td>\n",
       "      <td>0</td>\n",
       "      <td>13819</td>\n",
       "      <td>67.467951</td>\n",
       "      <td>12</td>\n",
       "      <td>w</td>\n",
       "      <td>288.173196</td>\n",
       "      <td>0.044131</td>\n",
       "      <td>0.107020</td>\n",
       "      <td>0.749971</td>\n",
       "      <td>0</td>\n",
       "      <td>INDIVIDUAL</td>\n",
       "      <td>39</td>\n",
       "      <td>0</td>\n",
       "      <td>40</td>\n",
       "      <td>9189</td>\n",
       "      <td>60214</td>\n",
       "      <td>0</td>\n",
       "      <td>2</td>\n",
       "    </tr>\n",
       "    <tr>\n",
       "      <th>4</th>\n",
       "      <td>14354669</td>\n",
       "      <td>16890</td>\n",
       "      <td>13226</td>\n",
       "      <td>13539.92667</td>\n",
       "      <td>59</td>\n",
       "      <td>BAT5341619</td>\n",
       "      <td>15.008300</td>\n",
       "      <td>C</td>\n",
       "      <td>D4</td>\n",
       "      <td>MORTGAGE</td>\n",
       "      <td>44234.82545</td>\n",
       "      <td>Source Verified</td>\n",
       "      <td>n</td>\n",
       "      <td>Credit card refinancing</td>\n",
       "      <td>17.209886</td>\n",
       "      <td>1</td>\n",
       "      <td>3</td>\n",
       "      <td>13</td>\n",
       "      <td>1</td>\n",
       "      <td>1544</td>\n",
       "      <td>85.250761</td>\n",
       "      <td>22</td>\n",
       "      <td>w</td>\n",
       "      <td>129.239553</td>\n",
       "      <td>19.306646</td>\n",
       "      <td>1294.818751</td>\n",
       "      <td>0.368953</td>\n",
       "      <td>0</td>\n",
       "      <td>INDIVIDUAL</td>\n",
       "      <td>18</td>\n",
       "      <td>0</td>\n",
       "      <td>430</td>\n",
       "      <td>126029</td>\n",
       "      <td>22579</td>\n",
       "      <td>0</td>\n",
       "      <td>2</td>\n",
       "    </tr>\n",
       "  </tbody>\n",
       "</table>\n",
       "</div>"
      ],
      "text/plain": [
       "         ID  Loan Amount  ...  Loan Status  Grade_mean_labels\n",
       "0  65087372        10000  ...            0                  0\n",
       "1   1450153         3609  ...            0                  2\n",
       "2   1969101        28276  ...            0                  5\n",
       "3   6651430        11170  ...            0                  2\n",
       "4  14354669        16890  ...            0                  2\n",
       "\n",
       "[5 rows x 36 columns]"
      ]
     },
     "execution_count": 23,
     "metadata": {},
     "output_type": "execute_result"
    }
   ],
   "source": [
    "loan_train['Grade_mean_labels']=loan_train['Grade'].map(mean_labels2)\n",
    "loan_train.head()"
   ]
  },
  {
   "cell_type": "code",
   "execution_count": 24,
   "id": "3f0244de",
   "metadata": {
    "id": "3f0244de"
   },
   "outputs": [],
   "source": [
    "loan_train = loan_train.drop(columns=\"Grade\")"
   ]
  },
  {
   "cell_type": "code",
   "execution_count": 25,
   "id": "b1c69e53",
   "metadata": {
    "colab": {
     "base_uri": "https://localhost:8080/"
    },
    "id": "b1c69e53",
    "outputId": "47bc3801-095b-4956-d413-148be6439d87"
   },
   "outputs": [
    {
     "data": {
      "text/plain": [
       "(67463, 35)"
      ]
     },
     "execution_count": 25,
     "metadata": {},
     "output_type": "execute_result"
    }
   ],
   "source": [
    "loan_train.shape"
   ]
  },
  {
   "cell_type": "markdown",
   "id": "d8d794e6",
   "metadata": {
    "id": "d8d794e6"
   },
   "source": [
    "#### Employment Duration "
   ]
  },
  {
   "cell_type": "code",
   "execution_count": 26,
   "id": "4aab2601",
   "metadata": {
    "colab": {
     "base_uri": "https://localhost:8080/"
    },
    "id": "4aab2601",
    "outputId": "ee49465f-c2de-451b-b8b8-cbb31692b561"
   },
   "outputs": [
    {
     "data": {
      "text/plain": [
       "Index(['MORTGAGE', 'RENT', 'OWN'], dtype='object', name='Employment Duration')"
      ]
     },
     "execution_count": 26,
     "metadata": {},
     "output_type": "execute_result"
    }
   ],
   "source": [
    "mean_labels=loan_train.groupby(['Employment Duration'])['Loan Status'].mean().sort_values().index\n",
    "mean_labels"
   ]
  },
  {
   "cell_type": "code",
   "execution_count": 27,
   "id": "e7705966",
   "metadata": {
    "colab": {
     "base_uri": "https://localhost:8080/"
    },
    "id": "e7705966",
    "outputId": "8c1d6b63-941f-4ff3-eeda-151fc7e2b077"
   },
   "outputs": [
    {
     "data": {
      "text/plain": [
       "<enumerate at 0x7fa392f19550>"
      ]
     },
     "execution_count": 27,
     "metadata": {},
     "output_type": "execute_result"
    }
   ],
   "source": [
    "enumerate(mean_labels,0)"
   ]
  },
  {
   "cell_type": "code",
   "execution_count": 28,
   "id": "c4a886ca",
   "metadata": {
    "colab": {
     "base_uri": "https://localhost:8080/"
    },
    "id": "c4a886ca",
    "outputId": "3c595dd5-c956-4ee0-c9a3-2750d1024154"
   },
   "outputs": [
    {
     "data": {
      "text/plain": [
       "{'MORTGAGE': 0, 'OWN': 2, 'RENT': 1}"
      ]
     },
     "execution_count": 28,
     "metadata": {},
     "output_type": "execute_result"
    }
   ],
   "source": [
    "mean_labels2={k:i for i,k in enumerate(mean_labels,0)}\n",
    "mean_labels2"
   ]
  },
  {
   "cell_type": "code",
   "execution_count": 29,
   "id": "e4a200c7",
   "metadata": {
    "id": "e4a200c7"
   },
   "outputs": [],
   "source": [
    "loan_train['Employment Duration_ordinal_labels']=loan_train['Employment Duration'].map(mean_labels2)"
   ]
  },
  {
   "cell_type": "code",
   "execution_count": 30,
   "id": "7faae538",
   "metadata": {
    "id": "7faae538"
   },
   "outputs": [],
   "source": [
    "loan_train  = loan_train.drop(columns=\"Employment Duration\")"
   ]
  },
  {
   "cell_type": "markdown",
   "id": "5c70e8fe",
   "metadata": {
    "id": "5c70e8fe"
   },
   "source": [
    "#### Application Type"
   ]
  },
  {
   "cell_type": "code",
   "execution_count": 31,
   "id": "ee312df9",
   "metadata": {
    "colab": {
     "base_uri": "https://localhost:8080/"
    },
    "id": "ee312df9",
    "outputId": "489daf56-8e45-48c6-8bc7-27f33ece52c1"
   },
   "outputs": [
    {
     "data": {
      "text/plain": [
       "Index(['JOINT', 'INDIVIDUAL'], dtype='object', name='Application Type')"
      ]
     },
     "execution_count": 31,
     "metadata": {},
     "output_type": "execute_result"
    }
   ],
   "source": [
    "mean_labels=loan_train.groupby(['Application Type'])['Loan Status'].mean().sort_values().index\n",
    "mean_labels"
   ]
  },
  {
   "cell_type": "code",
   "execution_count": 32,
   "id": "4a4acea7",
   "metadata": {
    "colab": {
     "base_uri": "https://localhost:8080/"
    },
    "id": "4a4acea7",
    "outputId": "a72f1741-bddb-4444-9a13-582a6cdc26a5"
   },
   "outputs": [
    {
     "data": {
      "text/plain": [
       "<enumerate at 0x7fa392f20cd0>"
      ]
     },
     "execution_count": 32,
     "metadata": {},
     "output_type": "execute_result"
    }
   ],
   "source": [
    "enumerate(mean_labels,0)"
   ]
  },
  {
   "cell_type": "code",
   "execution_count": 33,
   "id": "5fb73c9b",
   "metadata": {
    "colab": {
     "base_uri": "https://localhost:8080/"
    },
    "id": "5fb73c9b",
    "outputId": "1d2e0feb-2509-4619-c873-4420bfecbe7d"
   },
   "outputs": [
    {
     "data": {
      "text/plain": [
       "{'INDIVIDUAL': 1, 'JOINT': 0}"
      ]
     },
     "execution_count": 33,
     "metadata": {},
     "output_type": "execute_result"
    }
   ],
   "source": [
    "mean_labels2={k:i for i,k in enumerate(mean_labels,0)}\n",
    "mean_labels2"
   ]
  },
  {
   "cell_type": "code",
   "execution_count": 34,
   "id": "bd3b10f3",
   "metadata": {
    "id": "bd3b10f3"
   },
   "outputs": [],
   "source": [
    "loan_train['Application Type_mean_labels']=loan_train['Application Type'].map(mean_labels2)"
   ]
  },
  {
   "cell_type": "code",
   "execution_count": 35,
   "id": "d51c6175",
   "metadata": {
    "id": "d51c6175"
   },
   "outputs": [],
   "source": [
    "loan_train = loan_train.drop(columns=\"Application Type\")"
   ]
  },
  {
   "cell_type": "markdown",
   "id": "30ce9ac6",
   "metadata": {
    "id": "30ce9ac6"
   },
   "source": [
    "#### Verification Status"
   ]
  },
  {
   "cell_type": "code",
   "execution_count": 36,
   "id": "9656627f",
   "metadata": {
    "colab": {
     "base_uri": "https://localhost:8080/"
    },
    "id": "9656627f",
    "outputId": "df04fcba-c1ec-49c6-efce-1441d052a1f3"
   },
   "outputs": [
    {
     "data": {
      "text/plain": [
       "Index(['Verified', 'Not Verified', 'Source Verified'], dtype='object', name='Verification Status')"
      ]
     },
     "execution_count": 36,
     "metadata": {},
     "output_type": "execute_result"
    }
   ],
   "source": [
    "mean_labels=loan_train.groupby(['Verification Status'])['Loan Status'].mean().sort_values().index\n",
    "mean_labels"
   ]
  },
  {
   "cell_type": "code",
   "execution_count": 37,
   "id": "59dcedf2",
   "metadata": {
    "colab": {
     "base_uri": "https://localhost:8080/"
    },
    "id": "59dcedf2",
    "outputId": "8c6e37b7-2ee3-4fc7-ebb7-ee3cff4eb707"
   },
   "outputs": [
    {
     "data": {
      "text/plain": [
       "<enumerate at 0x7fa392f1bb40>"
      ]
     },
     "execution_count": 37,
     "metadata": {},
     "output_type": "execute_result"
    }
   ],
   "source": [
    "enumerate(mean_labels,0)"
   ]
  },
  {
   "cell_type": "code",
   "execution_count": 38,
   "id": "8d0f155c",
   "metadata": {
    "colab": {
     "base_uri": "https://localhost:8080/"
    },
    "id": "8d0f155c",
    "outputId": "5fc49449-4d63-4fc0-e679-c7b5809be251"
   },
   "outputs": [
    {
     "data": {
      "text/plain": [
       "{'Not Verified': 1, 'Source Verified': 2, 'Verified': 0}"
      ]
     },
     "execution_count": 38,
     "metadata": {},
     "output_type": "execute_result"
    }
   ],
   "source": [
    "mean_labels2={k:i for i,k in enumerate(mean_labels,0)}\n",
    "mean_labels2"
   ]
  },
  {
   "cell_type": "code",
   "execution_count": 39,
   "id": "56680af2",
   "metadata": {
    "id": "56680af2"
   },
   "outputs": [],
   "source": [
    "loan_train['Verification Status_mean_labels']=loan_train['Verification Status'].map(mean_labels2)"
   ]
  },
  {
   "cell_type": "code",
   "execution_count": 40,
   "id": "de3ef554",
   "metadata": {
    "id": "de3ef554"
   },
   "outputs": [],
   "source": [
    "loan_train = loan_train.drop(columns=\"Verification Status\")"
   ]
  },
  {
   "cell_type": "markdown",
   "id": "769906aa",
   "metadata": {
    "id": "769906aa"
   },
   "source": [
    "###### Payment Plan"
   ]
  },
  {
   "cell_type": "code",
   "execution_count": 41,
   "id": "8e1ed9fc",
   "metadata": {
    "colab": {
     "base_uri": "https://localhost:8080/"
    },
    "id": "8e1ed9fc",
    "outputId": "4f645085-0102-4a5b-e3ca-40dd896661c3"
   },
   "outputs": [
    {
     "data": {
      "text/plain": [
       "Index(['n'], dtype='object', name='Payment Plan')"
      ]
     },
     "execution_count": 41,
     "metadata": {},
     "output_type": "execute_result"
    }
   ],
   "source": [
    "mean_labels=loan_train.groupby(['Payment Plan'])['Loan Status'].mean().sort_values().index\n",
    "mean_labels"
   ]
  },
  {
   "cell_type": "code",
   "execution_count": 42,
   "id": "1db26f7c",
   "metadata": {
    "colab": {
     "base_uri": "https://localhost:8080/"
    },
    "id": "1db26f7c",
    "outputId": "ed2dfbdd-d9d9-454b-d47b-db7bafcd2b80"
   },
   "outputs": [
    {
     "data": {
      "text/plain": [
       "<enumerate at 0x7fa392f09d20>"
      ]
     },
     "execution_count": 42,
     "metadata": {},
     "output_type": "execute_result"
    }
   ],
   "source": [
    "enumerate(mean_labels,0)"
   ]
  },
  {
   "cell_type": "code",
   "execution_count": 43,
   "id": "dd80ee1a",
   "metadata": {
    "colab": {
     "base_uri": "https://localhost:8080/"
    },
    "id": "dd80ee1a",
    "outputId": "4ee186e9-a4e5-43c7-e5f0-19abe2bcfff6"
   },
   "outputs": [
    {
     "data": {
      "text/plain": [
       "{'n': 0}"
      ]
     },
     "execution_count": 43,
     "metadata": {},
     "output_type": "execute_result"
    }
   ],
   "source": [
    "mean_labels2={k:i for i,k in enumerate(mean_labels,0)}\n",
    "mean_labels2"
   ]
  },
  {
   "cell_type": "code",
   "execution_count": 44,
   "id": "7e2c591f",
   "metadata": {
    "id": "7e2c591f"
   },
   "outputs": [],
   "source": [
    "loan_train['Payment Plan_mean_labels']=loan_train['Payment Plan'].map(mean_labels2)"
   ]
  },
  {
   "cell_type": "code",
   "execution_count": 45,
   "id": "983bfe99",
   "metadata": {
    "id": "983bfe99"
   },
   "outputs": [],
   "source": [
    "loan_train = loan_train.drop(columns=\"Payment Plan\")"
   ]
  },
  {
   "cell_type": "markdown",
   "id": "2b62419c",
   "metadata": {
    "id": "2b62419c"
   },
   "source": [
    "### Similarly for the test dataset"
   ]
  },
  {
   "cell_type": "code",
   "execution_count": 46,
   "id": "a57b9a15",
   "metadata": {
    "colab": {
     "base_uri": "https://localhost:8080/"
    },
    "id": "a57b9a15",
    "outputId": "e734dac1-aaa2-423e-f8f7-82ce52a7791a"
   },
   "outputs": [
    {
     "data": {
      "text/plain": [
       "Index(['ID', 'Loan Amount', 'Funded Amount', 'Funded Amount Investor', 'Term',\n",
       "       'Batch Enrolled', 'Interest Rate', 'Grade', 'Sub Grade',\n",
       "       'Employment Duration', 'Home Ownership', 'Verification Status',\n",
       "       'Payment Plan', 'Loan Title', 'Debit to Income',\n",
       "       'Delinquency - two years', 'Inquires - six months', 'Open Account',\n",
       "       'Public Record', 'Revolving Balance', 'Revolving Utilities',\n",
       "       'Total Accounts', 'Initial List Status', 'Total Received Interest',\n",
       "       'Total Received Late Fee', 'Recoveries', 'Collection Recovery Fee',\n",
       "       'Collection 12 months Medical', 'Application Type', 'Last week Pay',\n",
       "       'Accounts Delinquent', 'Total Collection Amount',\n",
       "       'Total Current Balance', 'Total Revolving Credit Limit', 'Loan Status'],\n",
       "      dtype='object')"
      ]
     },
     "execution_count": 46,
     "metadata": {},
     "output_type": "execute_result"
    }
   ],
   "source": [
    "loan_test.columns"
   ]
  },
  {
   "cell_type": "markdown",
   "id": "ddec74fd",
   "metadata": {
    "id": "ddec74fd"
   },
   "source": [
    "#### Grade"
   ]
  },
  {
   "cell_type": "code",
   "execution_count": 47,
   "id": "38ba21c8",
   "metadata": {
    "colab": {
     "base_uri": "https://localhost:8080/"
    },
    "id": "38ba21c8",
    "outputId": "541cada4-e759-4332-e6e7-2b08dfe017f7"
   },
   "outputs": [
    {
     "data": {
      "text/plain": [
       "Index(['A', 'B', 'C', 'D', 'E', 'F', 'G'], dtype='object', name='Grade')"
      ]
     },
     "execution_count": 47,
     "metadata": {},
     "output_type": "execute_result"
    }
   ],
   "source": [
    "mean_labels=loan_test.groupby(['Grade'])['Loan Status'].mean().sort_values().index\n",
    "mean_labels"
   ]
  },
  {
   "cell_type": "code",
   "execution_count": 48,
   "id": "d21edd11",
   "metadata": {
    "colab": {
     "base_uri": "https://localhost:8080/"
    },
    "id": "d21edd11",
    "outputId": "318a2e8f-24b3-4c42-da29-5eccc5f7da62"
   },
   "outputs": [
    {
     "data": {
      "text/plain": [
       "<enumerate at 0x7fa392f190a0>"
      ]
     },
     "execution_count": 48,
     "metadata": {},
     "output_type": "execute_result"
    }
   ],
   "source": [
    "enumerate(mean_labels,0)"
   ]
  },
  {
   "cell_type": "code",
   "execution_count": 49,
   "id": "f6b7cba8",
   "metadata": {
    "colab": {
     "base_uri": "https://localhost:8080/"
    },
    "id": "f6b7cba8",
    "outputId": "7b2b7eb3-1296-40c4-dc86-9073d1ac3e4c"
   },
   "outputs": [
    {
     "data": {
      "text/plain": [
       "{'A': 0, 'B': 1, 'C': 2, 'D': 3, 'E': 4, 'F': 5, 'G': 6}"
      ]
     },
     "execution_count": 49,
     "metadata": {},
     "output_type": "execute_result"
    }
   ],
   "source": [
    "mean_labels2={k:i for i,k in enumerate(mean_labels,0)}\n",
    "mean_labels2"
   ]
  },
  {
   "cell_type": "code",
   "execution_count": 50,
   "id": "fcb848d9",
   "metadata": {
    "id": "fcb848d9"
   },
   "outputs": [],
   "source": [
    "loan_test['Grade_mean_labels']=loan_test['Grade'].map(mean_labels2)"
   ]
  },
  {
   "cell_type": "code",
   "execution_count": 51,
   "id": "1cc5e252",
   "metadata": {
    "id": "1cc5e252"
   },
   "outputs": [],
   "source": [
    "loan_test = loan_test.drop(columns=\"Grade\")"
   ]
  },
  {
   "cell_type": "markdown",
   "id": "dd2428ea",
   "metadata": {
    "id": "dd2428ea"
   },
   "source": [
    "#### Employment Duration "
   ]
  },
  {
   "cell_type": "code",
   "execution_count": 52,
   "id": "3d4f2e38",
   "metadata": {
    "colab": {
     "base_uri": "https://localhost:8080/"
    },
    "id": "3d4f2e38",
    "outputId": "d5832c8a-58b6-4a97-8126-6db997057b88"
   },
   "outputs": [
    {
     "data": {
      "text/plain": [
       "Index(['MORTGAGE', 'OWN', 'RENT'], dtype='object', name='Employment Duration')"
      ]
     },
     "execution_count": 52,
     "metadata": {},
     "output_type": "execute_result"
    }
   ],
   "source": [
    "mean_labels=loan_test.groupby(['Employment Duration'])['Loan Status'].mean().sort_values().index\n",
    "mean_labels"
   ]
  },
  {
   "cell_type": "code",
   "execution_count": 53,
   "id": "d93595d6",
   "metadata": {
    "colab": {
     "base_uri": "https://localhost:8080/"
    },
    "id": "d93595d6",
    "outputId": "1d09975c-3476-423e-c3de-b143df865af8"
   },
   "outputs": [
    {
     "data": {
      "text/plain": [
       "<enumerate at 0x7fa392ecdcd0>"
      ]
     },
     "execution_count": 53,
     "metadata": {},
     "output_type": "execute_result"
    }
   ],
   "source": [
    "enumerate(mean_labels,0)"
   ]
  },
  {
   "cell_type": "code",
   "execution_count": 54,
   "id": "186a61bf",
   "metadata": {
    "colab": {
     "base_uri": "https://localhost:8080/"
    },
    "id": "186a61bf",
    "outputId": "27f99abc-c5a0-4325-fe7d-7cc8116f9651"
   },
   "outputs": [
    {
     "data": {
      "text/plain": [
       "{'MORTGAGE': 0, 'OWN': 1, 'RENT': 2}"
      ]
     },
     "execution_count": 54,
     "metadata": {},
     "output_type": "execute_result"
    }
   ],
   "source": [
    "mean_labels2={k:i for i,k in enumerate(mean_labels,0)}\n",
    "mean_labels2"
   ]
  },
  {
   "cell_type": "code",
   "execution_count": 55,
   "id": "1d8da668",
   "metadata": {
    "id": "1d8da668"
   },
   "outputs": [],
   "source": [
    "loan_test['Employment Duration_mean_labels']=loan_test['Employment Duration'].map(mean_labels2)"
   ]
  },
  {
   "cell_type": "code",
   "execution_count": 56,
   "id": "62d4c157",
   "metadata": {
    "id": "62d4c157"
   },
   "outputs": [],
   "source": [
    "loan_test = loan_test.drop(columns=\"Employment Duration\")"
   ]
  },
  {
   "cell_type": "markdown",
   "id": "85866610",
   "metadata": {
    "id": "85866610"
   },
   "source": [
    "#### Application Type"
   ]
  },
  {
   "cell_type": "code",
   "execution_count": 57,
   "id": "cebdbd9d",
   "metadata": {
    "colab": {
     "base_uri": "https://localhost:8080/"
    },
    "id": "cebdbd9d",
    "outputId": "8f3e0072-3766-4ece-812e-a4d8883ff509"
   },
   "outputs": [
    {
     "data": {
      "text/plain": [
       "Index(['INDIVIDUAL', 'JOINT'], dtype='object', name='Application Type')"
      ]
     },
     "execution_count": 57,
     "metadata": {},
     "output_type": "execute_result"
    }
   ],
   "source": [
    "mean_labels=loan_test.groupby(['Application Type'])['Loan Status'].mean().sort_values().index\n",
    "mean_labels"
   ]
  },
  {
   "cell_type": "code",
   "execution_count": 58,
   "id": "33f45a01",
   "metadata": {
    "colab": {
     "base_uri": "https://localhost:8080/"
    },
    "id": "33f45a01",
    "outputId": "eb47ea51-d91e-4cf7-f05e-e1ce4301954a"
   },
   "outputs": [
    {
     "data": {
      "text/plain": [
       "<enumerate at 0x7fa392f6a230>"
      ]
     },
     "execution_count": 58,
     "metadata": {},
     "output_type": "execute_result"
    }
   ],
   "source": [
    "enumerate(mean_labels,0)"
   ]
  },
  {
   "cell_type": "code",
   "execution_count": 59,
   "id": "a7efbd25",
   "metadata": {
    "colab": {
     "base_uri": "https://localhost:8080/"
    },
    "id": "a7efbd25",
    "outputId": "1652ebf8-9113-4def-90ba-74dbbcc50983"
   },
   "outputs": [
    {
     "data": {
      "text/plain": [
       "{'INDIVIDUAL': 0, 'JOINT': 1}"
      ]
     },
     "execution_count": 59,
     "metadata": {},
     "output_type": "execute_result"
    }
   ],
   "source": [
    "mean_labels2={k:i for i,k in enumerate(mean_labels,0)}\n",
    "mean_labels2"
   ]
  },
  {
   "cell_type": "code",
   "execution_count": 60,
   "id": "eda01b8a",
   "metadata": {
    "id": "eda01b8a"
   },
   "outputs": [],
   "source": [
    "loan_test['Application Type_mean_labels']=loan_test['Application Type'].map(mean_labels2)"
   ]
  },
  {
   "cell_type": "code",
   "execution_count": 61,
   "id": "e86b696d",
   "metadata": {
    "id": "e86b696d"
   },
   "outputs": [],
   "source": [
    "loan_test = loan_test.drop(columns=\"Application Type\")"
   ]
  },
  {
   "cell_type": "markdown",
   "id": "47170b09",
   "metadata": {
    "id": "47170b09"
   },
   "source": [
    "#### Verification Status"
   ]
  },
  {
   "cell_type": "code",
   "execution_count": 62,
   "id": "2c56a175",
   "metadata": {
    "colab": {
     "base_uri": "https://localhost:8080/"
    },
    "id": "2c56a175",
    "outputId": "cbf6cee9-2a7d-4967-9b33-714bbea3c04e"
   },
   "outputs": [
    {
     "data": {
      "text/plain": [
       "Index(['Not Verified', 'Source Verified', 'Verified'], dtype='object', name='Verification Status')"
      ]
     },
     "execution_count": 62,
     "metadata": {},
     "output_type": "execute_result"
    }
   ],
   "source": [
    "mean_labels=loan_test.groupby(['Verification Status'])['Loan Status'].mean().sort_values().index\n",
    "mean_labels"
   ]
  },
  {
   "cell_type": "code",
   "execution_count": 63,
   "id": "b0442fd8",
   "metadata": {
    "colab": {
     "base_uri": "https://localhost:8080/"
    },
    "id": "b0442fd8",
    "outputId": "06bde815-14e2-4849-80f4-bb8fc7d71f1e"
   },
   "outputs": [
    {
     "data": {
      "text/plain": [
       "<enumerate at 0x7fa392ec6230>"
      ]
     },
     "execution_count": 63,
     "metadata": {},
     "output_type": "execute_result"
    }
   ],
   "source": [
    "enumerate(mean_labels,0)"
   ]
  },
  {
   "cell_type": "code",
   "execution_count": 64,
   "id": "a69985ce",
   "metadata": {
    "colab": {
     "base_uri": "https://localhost:8080/"
    },
    "id": "a69985ce",
    "outputId": "71c1687c-6ccc-4f1e-f2ed-191dba9b8ede"
   },
   "outputs": [
    {
     "data": {
      "text/plain": [
       "{'Not Verified': 0, 'Source Verified': 1, 'Verified': 2}"
      ]
     },
     "execution_count": 64,
     "metadata": {},
     "output_type": "execute_result"
    }
   ],
   "source": [
    "mean_labels2={k:i for i,k in enumerate(mean_labels,0)}\n",
    "mean_labels2"
   ]
  },
  {
   "cell_type": "code",
   "execution_count": 65,
   "id": "f650c9e8",
   "metadata": {
    "id": "f650c9e8"
   },
   "outputs": [],
   "source": [
    "loan_test['Verification Status_mean_labels']=loan_test['Verification Status'].map(mean_labels2)"
   ]
  },
  {
   "cell_type": "code",
   "execution_count": 66,
   "id": "a803d462",
   "metadata": {
    "id": "a803d462"
   },
   "outputs": [],
   "source": [
    "loan_test = loan_test.drop(columns=\"Verification Status\")"
   ]
  },
  {
   "cell_type": "markdown",
   "id": "529d8ec4",
   "metadata": {
    "id": "529d8ec4"
   },
   "source": [
    "###### Payment Plan"
   ]
  },
  {
   "cell_type": "code",
   "execution_count": 67,
   "id": "325375c6",
   "metadata": {
    "colab": {
     "base_uri": "https://localhost:8080/"
    },
    "id": "325375c6",
    "outputId": "a0eed9ca-4157-4c5d-fbc0-3da1890c25e1"
   },
   "outputs": [
    {
     "data": {
      "text/plain": [
       "Index(['n'], dtype='object', name='Payment Plan')"
      ]
     },
     "execution_count": 67,
     "metadata": {},
     "output_type": "execute_result"
    }
   ],
   "source": [
    "mean_labels=loan_test.groupby(['Payment Plan'])['Loan Status'].mean().sort_values().index\n",
    "mean_labels"
   ]
  },
  {
   "cell_type": "code",
   "execution_count": 68,
   "id": "8e5dc289",
   "metadata": {
    "colab": {
     "base_uri": "https://localhost:8080/"
    },
    "id": "8e5dc289",
    "outputId": "57845d67-4861-4609-bb0d-97a6a3e4a54b"
   },
   "outputs": [
    {
     "data": {
      "text/plain": [
       "<enumerate at 0x7fa392f34dc0>"
      ]
     },
     "execution_count": 68,
     "metadata": {},
     "output_type": "execute_result"
    }
   ],
   "source": [
    "enumerate(mean_labels,0)"
   ]
  },
  {
   "cell_type": "code",
   "execution_count": 69,
   "id": "0255c81a",
   "metadata": {
    "colab": {
     "base_uri": "https://localhost:8080/"
    },
    "id": "0255c81a",
    "outputId": "a5ec9817-c6d4-48e3-ad79-125654d2a115"
   },
   "outputs": [
    {
     "data": {
      "text/plain": [
       "{'n': 0}"
      ]
     },
     "execution_count": 69,
     "metadata": {},
     "output_type": "execute_result"
    }
   ],
   "source": [
    "mean_labels2={k:i for i,k in enumerate(mean_labels,0)}\n",
    "mean_labels2"
   ]
  },
  {
   "cell_type": "code",
   "execution_count": 70,
   "id": "facae6c6",
   "metadata": {
    "id": "facae6c6"
   },
   "outputs": [],
   "source": [
    "loan_test['Payment Plan_mean_labels']=loan_test['Payment Plan'].map(mean_labels2)"
   ]
  },
  {
   "cell_type": "code",
   "execution_count": 71,
   "id": "07f5a614",
   "metadata": {
    "id": "07f5a614"
   },
   "outputs": [],
   "source": [
    "loan_test = loan_test.drop(columns=\"Payment Plan\")"
   ]
  },
  {
   "cell_type": "markdown",
   "id": "14512ae6",
   "metadata": {
    "id": "14512ae6"
   },
   "source": [
    "#### Label Encoding For Train And Test Dataset"
   ]
  },
  {
   "cell_type": "code",
   "execution_count": 72,
   "id": "d97b6b69",
   "metadata": {
    "colab": {
     "base_uri": "https://localhost:8080/"
    },
    "id": "d97b6b69",
    "outputId": "6f8bc160-5a3a-45b1-e3d6-a036bb85ab08"
   },
   "outputs": [
    {
     "data": {
      "text/plain": [
       "array([16,  4, 11, 15, 32, 29, 31, 17, 10, 13, 14, 39, 20, 19, 34, 37,  9,\n",
       "       30, 25,  7, 27, 38,  2, 26, 21,  3, 18, 28,  0, 40,  8,  6, 33, 24,\n",
       "       36, 35, 12, 23, 22,  5,  1])"
      ]
     },
     "execution_count": 72,
     "metadata": {},
     "output_type": "execute_result"
    }
   ],
   "source": [
    "from sklearn import preprocessing\n",
    " \n",
    "# label_encoder object knows how to understand word labels.\n",
    "label_encoder = preprocessing.LabelEncoder()\n",
    " \n",
    "# Encode labels in Rest Object Columns.\n",
    "loan_train['Batch Enrolled']= label_encoder.fit_transform(loan_train['Batch Enrolled'])\n",
    " \n",
    "loan_train['Batch Enrolled'].unique()"
   ]
  },
  {
   "cell_type": "code",
   "execution_count": 73,
   "id": "5d2b559f",
   "metadata": {
    "id": "5d2b559f"
   },
   "outputs": [],
   "source": [
    "loan_train['Sub Grade']= label_encoder.fit_transform(loan_train['Sub Grade'])"
   ]
  },
  {
   "cell_type": "code",
   "execution_count": 74,
   "id": "6338ec04",
   "metadata": {
    "id": "6338ec04"
   },
   "outputs": [],
   "source": [
    "loan_train['Loan Title']= label_encoder.fit_transform(loan_train['Loan Title'])"
   ]
  },
  {
   "cell_type": "code",
   "execution_count": 75,
   "id": "4e166f33",
   "metadata": {
    "id": "4e166f33"
   },
   "outputs": [],
   "source": [
    "loan_train['Initial List Status']= label_encoder.fit_transform(loan_train['Initial List Status'])"
   ]
  },
  {
   "cell_type": "markdown",
   "id": "6bfe1715",
   "metadata": {
    "id": "6bfe1715"
   },
   "source": [
    "#### Similarly For Test Dataset"
   ]
  },
  {
   "cell_type": "code",
   "execution_count": 76,
   "id": "eaecec0f",
   "metadata": {
    "id": "eaecec0f"
   },
   "outputs": [],
   "source": [
    "loan_test['Batch Enrolled']= label_encoder.fit_transform(loan_test['Batch Enrolled'])"
   ]
  },
  {
   "cell_type": "code",
   "execution_count": 77,
   "id": "f963d66e",
   "metadata": {
    "id": "f963d66e"
   },
   "outputs": [],
   "source": [
    "loan_test['Sub Grade']= label_encoder.fit_transform(loan_test['Sub Grade'])"
   ]
  },
  {
   "cell_type": "code",
   "execution_count": 78,
   "id": "738911c8",
   "metadata": {
    "id": "738911c8"
   },
   "outputs": [],
   "source": [
    "loan_test['Loan Title']= label_encoder.fit_transform(loan_test['Loan Title'])"
   ]
  },
  {
   "cell_type": "code",
   "execution_count": 79,
   "id": "17ef34a3",
   "metadata": {
    "id": "17ef34a3"
   },
   "outputs": [],
   "source": [
    "loan_test['Initial List Status']= label_encoder.fit_transform(loan_test['Initial List Status'])"
   ]
  },
  {
   "cell_type": "code",
   "execution_count": 80,
   "id": "4a7218b5",
   "metadata": {
    "id": "4a7218b5"
   },
   "outputs": [],
   "source": [
    "### Checking the dtypes for the dataset"
   ]
  },
  {
   "cell_type": "code",
   "execution_count": 81,
   "id": "a143244b",
   "metadata": {
    "colab": {
     "base_uri": "https://localhost:8080/"
    },
    "id": "a143244b",
    "outputId": "f396dd24-1755-4061-932a-19f54d463615"
   },
   "outputs": [
    {
     "data": {
      "text/plain": [
       "ID                                      int64\n",
       "Loan Amount                             int64\n",
       "Funded Amount                           int64\n",
       "Funded Amount Investor                float64\n",
       "Term                                    int64\n",
       "Batch Enrolled                          int64\n",
       "Interest Rate                         float64\n",
       "Sub Grade                               int64\n",
       "Home Ownership                        float64\n",
       "Loan Title                              int64\n",
       "Debit to Income                       float64\n",
       "Delinquency - two years                 int64\n",
       "Inquires - six months                   int64\n",
       "Open Account                            int64\n",
       "Public Record                           int64\n",
       "Revolving Balance                       int64\n",
       "Revolving Utilities                   float64\n",
       "Total Accounts                          int64\n",
       "Initial List Status                     int64\n",
       "Total Received Interest               float64\n",
       "Total Received Late Fee               float64\n",
       "Recoveries                            float64\n",
       "Collection Recovery Fee               float64\n",
       "Collection 12 months Medical            int64\n",
       "Last week Pay                           int64\n",
       "Accounts Delinquent                     int64\n",
       "Total Collection Amount                 int64\n",
       "Total Current Balance                   int64\n",
       "Total Revolving Credit Limit            int64\n",
       "Loan Status                             int64\n",
       "Grade_mean_labels                       int64\n",
       "Employment Duration_ordinal_labels      int64\n",
       "Application Type_mean_labels            int64\n",
       "Verification Status_mean_labels         int64\n",
       "Payment Plan_mean_labels                int64\n",
       "dtype: object"
      ]
     },
     "execution_count": 81,
     "metadata": {},
     "output_type": "execute_result"
    }
   ],
   "source": [
    "loan_train.dtypes"
   ]
  },
  {
   "cell_type": "code",
   "execution_count": 82,
   "id": "2f185f1e",
   "metadata": {
    "id": "2f185f1e"
   },
   "outputs": [],
   "source": [
    "X_train = loan_train.drop(columns=\"Loan Status\")"
   ]
  },
  {
   "cell_type": "code",
   "execution_count": 83,
   "id": "2c842750",
   "metadata": {
    "id": "2c842750"
   },
   "outputs": [],
   "source": [
    "y_train = loan_train[\"Loan Status\"]"
   ]
  },
  {
   "cell_type": "code",
   "execution_count": 84,
   "id": "a0be68fd",
   "metadata": {
    "id": "a0be68fd"
   },
   "outputs": [],
   "source": [
    "X_test = loan_test.drop(columns=\"Loan Status\")"
   ]
  },
  {
   "cell_type": "code",
   "execution_count": 85,
   "id": "dec7a3ea",
   "metadata": {
    "id": "dec7a3ea"
   },
   "outputs": [],
   "source": [
    "y_test = loan_test[\"Loan Status\"]"
   ]
  },
  {
   "cell_type": "markdown",
   "id": "d2436491",
   "metadata": {
    "id": "d2436491"
   },
   "source": [
    "##### Dimensions "
   ]
  },
  {
   "cell_type": "code",
   "execution_count": 86,
   "id": "f0ca361b",
   "metadata": {
    "colab": {
     "base_uri": "https://localhost:8080/"
    },
    "id": "f0ca361b",
    "outputId": "ebad2852-df10-4316-f8fa-d266421768c3"
   },
   "outputs": [
    {
     "data": {
      "text/plain": [
       "(67463, 34)"
      ]
     },
     "execution_count": 86,
     "metadata": {},
     "output_type": "execute_result"
    }
   ],
   "source": [
    "X_train.shape"
   ]
  },
  {
   "cell_type": "code",
   "execution_count": 87,
   "id": "766001ad",
   "metadata": {
    "colab": {
     "base_uri": "https://localhost:8080/"
    },
    "id": "766001ad",
    "outputId": "8f4a589a-690e-40ec-eb23-32625891c27a"
   },
   "outputs": [
    {
     "data": {
      "text/plain": [
       "(28913, 34)"
      ]
     },
     "execution_count": 87,
     "metadata": {},
     "output_type": "execute_result"
    }
   ],
   "source": [
    "X_test.shape"
   ]
  },
  {
   "cell_type": "code",
   "execution_count": 88,
   "id": "d72bb742",
   "metadata": {
    "colab": {
     "base_uri": "https://localhost:8080/"
    },
    "id": "d72bb742",
    "outputId": "91defe23-22c1-41ac-cd35-5aa6a5c79fb0"
   },
   "outputs": [
    {
     "data": {
      "text/plain": [
       "(67463,)"
      ]
     },
     "execution_count": 88,
     "metadata": {},
     "output_type": "execute_result"
    }
   ],
   "source": [
    "y_train.shape"
   ]
  },
  {
   "cell_type": "code",
   "execution_count": 89,
   "id": "f5ab76bd",
   "metadata": {
    "colab": {
     "base_uri": "https://localhost:8080/"
    },
    "id": "f5ab76bd",
    "outputId": "0cba20fd-1100-4efd-f580-975887f3d314"
   },
   "outputs": [
    {
     "data": {
      "text/plain": [
       "(28913,)"
      ]
     },
     "execution_count": 89,
     "metadata": {},
     "output_type": "execute_result"
    }
   ],
   "source": [
    "y_test.shape"
   ]
  },
  {
   "cell_type": "markdown",
   "id": "0c84073c",
   "metadata": {
    "id": "0c84073c"
   },
   "source": [
    "##### DISTRIBUTION OF THE `COLUMNS` "
   ]
  },
  {
   "cell_type": "code",
   "execution_count": 90,
   "id": "d8fee1b6",
   "metadata": {
    "id": "d8fee1b6"
   },
   "outputs": [],
   "source": [
    "import matplotlib.pyplot as plt"
   ]
  },
  {
   "cell_type": "code",
   "execution_count": 91,
   "id": "94237d73",
   "metadata": {
    "colab": {
     "base_uri": "https://localhost:8080/",
     "height": 0
    },
    "id": "94237d73",
    "outputId": "3239cb43-f60c-42d5-f819-262a8c8e9b3e"
   },
   "outputs": [
    {
     "data": {
      "image/png": "[encoded data removed]",
      "text/plain": [
       "<Figure size 1296x360 with 6 Axes>"
      ]
     },
     "metadata": {
      "needs_background": "light"
     },
     "output_type": "display_data"
    }
   ],
   "source": [
    "plt.figure(figsize=(18,5))\n",
    "plt.subplot(1,6,1)\n",
    "plt.hist(X_train['Loan Amount'],bins=20)\n",
    "plt.subplot(1,6,2)\n",
    "plt.hist(X_train['Funded Amount'],bins=20)\n",
    "plt.subplot(1,6,3)\n",
    "plt.hist(X_train['Funded Amount Investor'],bins=20)\n",
    "plt.subplot(1,6,4)\n",
    "plt.hist(X_train['Batch Enrolled'],bins=20)\n",
    "plt.subplot(1,6,5)\n",
    "plt.hist(X_train['Interest Rate'],bins=20)\n",
    "plt.subplot(1,6,6)\n",
    "plt.hist(X_train['Home Ownership'],bins=20)\n",
    "plt.show()"
   ]
  },
  {
   "cell_type": "markdown",
   "id": "cbb51f3c",
   "metadata": {
    "id": "cbb51f3c"
   },
   "source": [
    "### Checking For `Outliers`"
   ]
  },
  {
   "cell_type": "markdown",
   "id": "b77d20b5",
   "metadata": {
    "id": "b77d20b5"
   },
   "source": [
    "##### Outlier Treatment"
   ]
  },
  {
   "cell_type": "markdown",
   "id": "3f25b0ad",
   "metadata": {
    "id": "3f25b0ad"
   },
   "source": [
    "Perhaps the most important hyperparameter in the model is the “contamination” argument, which is used to help estimate the number of outliers in the dataset. This is a value between 0.0 and 0.5 and by default is set to 0.1."
   ]
  },
  {
   "cell_type": "markdown",
   "id": "a9f8ed1f",
   "metadata": {
    "id": "a9f8ed1f"
   },
   "source": [
    "##### Isolation Forest"
   ]
  },
  {
   "cell_type": "markdown",
   "id": "b6264e8e",
   "metadata": {
    "id": "b6264e8e"
   },
   "source": [
    "`Isolation Forest`, or iForest for short, is a tree-based anomaly detection algorithm.\n",
    "\n",
    "It is based on modeling the normal data in such a way as to isolate anomalies that are both few in number and different in the feature space.\n",
    "\n",
    "for reference,\n",
    "https://machinelearningmastery.com/model-based-outlier-detection-and-removal-in-python/\n"
   ]
  },
  {
   "cell_type": "code",
   "execution_count": 92,
   "id": "620d3d28",
   "metadata": {
    "id": "620d3d28"
   },
   "outputs": [],
   "source": [
    "from pandas import read_csv\n",
    "from sklearn.model_selection import train_test_split\n",
    "from sklearn.linear_model import LinearRegression\n",
    "from sklearn.ensemble import IsolationForest\n",
    "from sklearn.metrics import mean_absolute_error"
   ]
  },
  {
   "cell_type": "code",
   "execution_count": 93,
   "id": "12aaeba6",
   "metadata": {
    "id": "12aaeba6"
   },
   "outputs": [],
   "source": [
    "# identify outliers in the training dataset\n",
    "iso = IsolationForest(contamination=0.1)\n",
    "yhat = iso.fit_predict(X_train)"
   ]
  },
  {
   "cell_type": "code",
   "execution_count": 94,
   "id": "e23a64ba",
   "metadata": {
    "id": "e23a64ba"
   },
   "outputs": [],
   "source": [
    "# select all rows that are not outliers\n",
    "mask = yhat != -1"
   ]
  },
  {
   "cell_type": "code",
   "execution_count": 95,
   "id": "161d0a6d",
   "metadata": {
    "id": "161d0a6d"
   },
   "outputs": [],
   "source": [
    "X_train = X_train[mask]"
   ]
  },
  {
   "cell_type": "code",
   "execution_count": 96,
   "id": "9ccee1f4",
   "metadata": {
    "id": "9ccee1f4"
   },
   "outputs": [],
   "source": [
    "y_train = y_train[mask]"
   ]
  },
  {
   "cell_type": "code",
   "execution_count": 97,
   "id": "ca754c0a",
   "metadata": {
    "colab": {
     "base_uri": "https://localhost:8080/"
    },
    "id": "ca754c0a",
    "outputId": "100de8e9-81bc-48a7-81fb-bc53f19f57b6"
   },
   "outputs": [
    {
     "name": "stdout",
     "output_type": "stream",
     "text": [
      "(60716, 34) (60716,)\n"
     ]
    }
   ],
   "source": [
    "# summarize the shape of the updated training dataset\n",
    "print(X_train.shape, y_train.shape)"
   ]
  },
  {
   "cell_type": "code",
   "execution_count": 98,
   "id": "5KAtUYkbs3iy",
   "metadata": {
    "id": "5KAtUYkbs3iy"
   },
   "outputs": [],
   "source": [
    "## FEATURE SELECTION "
   ]
  },
  {
   "cell_type": "code",
   "execution_count": 99,
   "id": "iVLkSjASs6u2",
   "metadata": {
    "id": "iVLkSjASs6u2"
   },
   "outputs": [],
   "source": [
    "#### Univariate Selection"
   ]
  },
  {
   "cell_type": "code",
   "execution_count": 100,
   "id": "9m58pmhJs8L3",
   "metadata": {
    "id": "9m58pmhJs8L3"
   },
   "outputs": [],
   "source": [
    "from sklearn.feature_selection import SelectKBest\n",
    "from sklearn.feature_selection import chi2"
   ]
  },
  {
   "cell_type": "code",
   "execution_count": 101,
   "id": "2UVe24qns9au",
   "metadata": {
    "colab": {
     "base_uri": "https://localhost:8080/"
    },
    "id": "2UVe24qns9au",
    "outputId": "21c890fe-20e1-4894-b816-7b258000d596"
   },
   "outputs": [
    {
     "data": {
      "text/plain": [
       "ExtraTreesClassifier()"
      ]
     },
     "execution_count": 101,
     "metadata": {},
     "output_type": "execute_result"
    }
   ],
   "source": [
    "from sklearn.ensemble import ExtraTreesClassifier\n",
    "import matplotlib.pyplot as plt\n",
    "model=ExtraTreesClassifier()\n",
    "model.fit(X_train,y_train)"
   ]
  },
  {
   "cell_type": "code",
   "execution_count": 102,
   "id": "QA-UppQJtHfa",
   "metadata": {
    "colab": {
     "base_uri": "https://localhost:8080/"
    },
    "id": "QA-UppQJtHfa",
    "outputId": "8fb395a5-334a-4c97-faa2-344729e12394"
   },
   "outputs": [
    {
     "name": "stdout",
     "output_type": "stream",
     "text": [
      "[0.03962124 0.04019231 0.03914374 0.03958493 0.01890662 0.03916908\n",
      " 0.03988835 0.03900881 0.04035048 0.033403   0.03915395 0.02150773\n",
      " 0.01096549 0.03881382 0.00949317 0.03864288 0.03990183 0.03964292\n",
      " 0.00569124 0.03957263 0.03960261 0.0393033  0.03886038 0.00262356\n",
      " 0.03953853 0.         0.04005626 0.04016308 0.0395977  0.03044489\n",
      " 0.01415941 0.00047608 0.02251997 0.        ]\n"
     ]
    }
   ],
   "source": [
    "print(model.feature_importances_)"
   ]
  },
  {
   "cell_type": "code",
   "execution_count": 103,
   "id": "pznHi-kutI_s",
   "metadata": {
    "colab": {
     "base_uri": "https://localhost:8080/",
     "height": 592
    },
    "id": "pznHi-kutI_s",
    "outputId": "22e2fcc7-e869-479f-de95-db407a754f23"
   },
   "outputs": [
    {
     "data": {
      "image/png": "[encoded data removed]",
      "text/plain": [
       "<Figure size 1080x720 with 1 Axes>"
      ]
     },
     "metadata": {
      "needs_background": "light"
     },
     "output_type": "display_data"
    }
   ],
   "source": [
    "plt.figure(figsize = [15,10])\n",
    "ranked_features=pd.Series(model.feature_importances_,index=X_train.columns)\n",
    "ranked_features.nlargest(20).plot(kind='barh')\n",
    "plt.show()"
   ]
  },
  {
   "cell_type": "code",
   "execution_count": 104,
   "id": "PyD4X0-PtK9Y",
   "metadata": {
    "colab": {
     "base_uri": "https://localhost:8080/"
    },
    "id": "PyD4X0-PtK9Y",
    "outputId": "ae359d50-cffe-415a-f598-0cd6f4397edd"
   },
   "outputs": [
    {
     "data": {
      "text/plain": [
       "Home Ownership                  0.040350\n",
       "Loan Amount                     0.040192\n",
       "Total Current Balance           0.040163\n",
       "Total Collection Amount         0.040056\n",
       "Revolving Utilities             0.039902\n",
       "Interest Rate                   0.039888\n",
       "Total Accounts                  0.039643\n",
       "ID                              0.039621\n",
       "Total Received Late Fee         0.039603\n",
       "Total Revolving Credit Limit    0.039598\n",
       "Funded Amount Investor          0.039585\n",
       "Total Received Interest         0.039573\n",
       "Last week Pay                   0.039539\n",
       "Recoveries                      0.039303\n",
       "Batch Enrolled                  0.039169\n",
       "Debit to Income                 0.039154\n",
       "Funded Amount                   0.039144\n",
       "Sub Grade                       0.039009\n",
       "Collection Recovery Fee         0.038860\n",
       "Open Account                    0.038814\n",
       "dtype: float64"
      ]
     },
     "execution_count": 104,
     "metadata": {},
     "output_type": "execute_result"
    }
   ],
   "source": [
    "ranked_features.nlargest(20, keep='all')"
   ]
  },
  {
   "cell_type": "code",
   "execution_count": 105,
   "id": "4YK3B3G7tMl5",
   "metadata": {
    "colab": {
     "base_uri": "https://localhost:8080/",
     "height": 1000
    },
    "id": "4YK3B3G7tMl5",
    "outputId": "c2a630f2-7c64-4a7e-99be-d29c884be4c3"
   },
   "outputs": [
    {
     "data": {
      "text/html": [
       "<div>\n",
       "<style scoped>\n",
       "    .dataframe tbody tr th:only-of-type {\n",
       "        vertical-align: middle;\n",
       "    }\n",
       "\n",
       "    .dataframe tbody tr th {\n",
       "        vertical-align: top;\n",
       "    }\n",
       "\n",
       "    .dataframe thead th {\n",
       "        text-align: right;\n",
       "    }\n",
       "</style>\n",
       "<table border=\"1\" class=\"dataframe\">\n",
       "  <thead>\n",
       "    <tr style=\"text-align: right;\">\n",
       "      <th></th>\n",
       "      <th>ID</th>\n",
       "      <th>Loan Amount</th>\n",
       "      <th>Funded Amount</th>\n",
       "      <th>Funded Amount Investor</th>\n",
       "      <th>Term</th>\n",
       "      <th>Batch Enrolled</th>\n",
       "      <th>Interest Rate</th>\n",
       "      <th>Sub Grade</th>\n",
       "      <th>Home Ownership</th>\n",
       "      <th>Loan Title</th>\n",
       "      <th>Debit to Income</th>\n",
       "      <th>Delinquency - two years</th>\n",
       "      <th>Inquires - six months</th>\n",
       "      <th>Open Account</th>\n",
       "      <th>Public Record</th>\n",
       "      <th>Revolving Balance</th>\n",
       "      <th>Revolving Utilities</th>\n",
       "      <th>Total Accounts</th>\n",
       "      <th>Initial List Status</th>\n",
       "      <th>Total Received Interest</th>\n",
       "      <th>Total Received Late Fee</th>\n",
       "      <th>Recoveries</th>\n",
       "      <th>Collection Recovery Fee</th>\n",
       "      <th>Collection 12 months Medical</th>\n",
       "      <th>Last week Pay</th>\n",
       "      <th>Accounts Delinquent</th>\n",
       "      <th>Total Collection Amount</th>\n",
       "      <th>Total Current Balance</th>\n",
       "      <th>Total Revolving Credit Limit</th>\n",
       "      <th>Grade_mean_labels</th>\n",
       "      <th>Employment Duration_ordinal_labels</th>\n",
       "      <th>Application Type_mean_labels</th>\n",
       "      <th>Verification Status_mean_labels</th>\n",
       "      <th>Payment Plan_mean_labels</th>\n",
       "    </tr>\n",
       "  </thead>\n",
       "  <tbody>\n",
       "    <tr>\n",
       "      <th>ID</th>\n",
       "      <td>1.000000</td>\n",
       "      <td>-0.002835</td>\n",
       "      <td>-0.010750</td>\n",
       "      <td>-0.001957</td>\n",
       "      <td>0.013729</td>\n",
       "      <td>0.004107</td>\n",
       "      <td>0.004314</td>\n",
       "      <td>0.009271</td>\n",
       "      <td>-0.009911</td>\n",
       "      <td>-0.000868</td>\n",
       "      <td>-0.011588</td>\n",
       "      <td>-0.005697</td>\n",
       "      <td>-0.019705</td>\n",
       "      <td>-0.006913</td>\n",
       "      <td>0.000664</td>\n",
       "      <td>-0.003522</td>\n",
       "      <td>0.001973</td>\n",
       "      <td>-0.000994</td>\n",
       "      <td>0.004647</td>\n",
       "      <td>-0.008204</td>\n",
       "      <td>-0.000761</td>\n",
       "      <td>-0.002715</td>\n",
       "      <td>-0.018535</td>\n",
       "      <td>-0.013218</td>\n",
       "      <td>0.002250</td>\n",
       "      <td>NaN</td>\n",
       "      <td>-0.002622</td>\n",
       "      <td>-0.009946</td>\n",
       "      <td>-0.007558</td>\n",
       "      <td>-0.002729</td>\n",
       "      <td>-0.000252</td>\n",
       "      <td>0.002682</td>\n",
       "      <td>0.008595</td>\n",
       "      <td>NaN</td>\n",
       "    </tr>\n",
       "    <tr>\n",
       "      <th>Loan Amount</th>\n",
       "      <td>-0.002835</td>\n",
       "      <td>1.000000</td>\n",
       "      <td>-0.003100</td>\n",
       "      <td>0.001819</td>\n",
       "      <td>0.005395</td>\n",
       "      <td>-0.001760</td>\n",
       "      <td>-0.005593</td>\n",
       "      <td>-0.004197</td>\n",
       "      <td>0.014238</td>\n",
       "      <td>-0.003765</td>\n",
       "      <td>0.012350</td>\n",
       "      <td>-0.004687</td>\n",
       "      <td>0.003077</td>\n",
       "      <td>0.007040</td>\n",
       "      <td>-0.004878</td>\n",
       "      <td>-0.009323</td>\n",
       "      <td>0.014461</td>\n",
       "      <td>-0.000112</td>\n",
       "      <td>0.003385</td>\n",
       "      <td>-0.003684</td>\n",
       "      <td>-0.005905</td>\n",
       "      <td>-0.002461</td>\n",
       "      <td>-0.007205</td>\n",
       "      <td>-0.003963</td>\n",
       "      <td>0.000168</td>\n",
       "      <td>NaN</td>\n",
       "      <td>-0.005766</td>\n",
       "      <td>-0.011148</td>\n",
       "      <td>0.004066</td>\n",
       "      <td>-0.034147</td>\n",
       "      <td>-0.027666</td>\n",
       "      <td>-0.004122</td>\n",
       "      <td>-0.015122</td>\n",
       "      <td>NaN</td>\n",
       "    </tr>\n",
       "    <tr>\n",
       "      <th>Funded Amount</th>\n",
       "      <td>-0.010750</td>\n",
       "      <td>-0.003100</td>\n",
       "      <td>1.000000</td>\n",
       "      <td>0.007637</td>\n",
       "      <td>0.008291</td>\n",
       "      <td>0.000973</td>\n",
       "      <td>-0.001410</td>\n",
       "      <td>0.001420</td>\n",
       "      <td>-0.008578</td>\n",
       "      <td>0.000968</td>\n",
       "      <td>0.001434</td>\n",
       "      <td>-0.003141</td>\n",
       "      <td>-0.007390</td>\n",
       "      <td>0.000618</td>\n",
       "      <td>-0.000423</td>\n",
       "      <td>-0.006706</td>\n",
       "      <td>0.002378</td>\n",
       "      <td>0.010940</td>\n",
       "      <td>-0.004186</td>\n",
       "      <td>-0.000619</td>\n",
       "      <td>-0.007717</td>\n",
       "      <td>-0.006508</td>\n",
       "      <td>-0.003131</td>\n",
       "      <td>-0.005044</td>\n",
       "      <td>-0.002720</td>\n",
       "      <td>NaN</td>\n",
       "      <td>-0.007063</td>\n",
       "      <td>-0.010377</td>\n",
       "      <td>0.004956</td>\n",
       "      <td>-0.003868</td>\n",
       "      <td>0.014052</td>\n",
       "      <td>-0.005235</td>\n",
       "      <td>0.000838</td>\n",
       "      <td>NaN</td>\n",
       "    </tr>\n",
       "    <tr>\n",
       "      <th>Funded Amount Investor</th>\n",
       "      <td>-0.001957</td>\n",
       "      <td>0.001819</td>\n",
       "      <td>0.007637</td>\n",
       "      <td>1.000000</td>\n",
       "      <td>0.003928</td>\n",
       "      <td>0.004942</td>\n",
       "      <td>-0.003032</td>\n",
       "      <td>-0.001751</td>\n",
       "      <td>-0.002299</td>\n",
       "      <td>-0.000690</td>\n",
       "      <td>-0.001206</td>\n",
       "      <td>-0.005150</td>\n",
       "      <td>-0.007498</td>\n",
       "      <td>-0.010866</td>\n",
       "      <td>-0.003097</td>\n",
       "      <td>-0.011931</td>\n",
       "      <td>-0.002871</td>\n",
       "      <td>0.002015</td>\n",
       "      <td>0.009482</td>\n",
       "      <td>-0.006111</td>\n",
       "      <td>-0.008647</td>\n",
       "      <td>-0.002650</td>\n",
       "      <td>-0.010104</td>\n",
       "      <td>-0.005871</td>\n",
       "      <td>0.001833</td>\n",
       "      <td>NaN</td>\n",
       "      <td>-0.006530</td>\n",
       "      <td>-0.006206</td>\n",
       "      <td>-0.001948</td>\n",
       "      <td>0.007031</td>\n",
       "      <td>-0.012902</td>\n",
       "      <td>-0.002351</td>\n",
       "      <td>-0.000263</td>\n",
       "      <td>NaN</td>\n",
       "    </tr>\n",
       "    <tr>\n",
       "      <th>Term</th>\n",
       "      <td>0.013729</td>\n",
       "      <td>0.005395</td>\n",
       "      <td>0.008291</td>\n",
       "      <td>0.003928</td>\n",
       "      <td>1.000000</td>\n",
       "      <td>0.005013</td>\n",
       "      <td>0.002827</td>\n",
       "      <td>-0.001337</td>\n",
       "      <td>-0.002262</td>\n",
       "      <td>-0.002660</td>\n",
       "      <td>0.005179</td>\n",
       "      <td>0.010606</td>\n",
       "      <td>0.023735</td>\n",
       "      <td>0.023333</td>\n",
       "      <td>0.019122</td>\n",
       "      <td>0.017228</td>\n",
       "      <td>0.000150</td>\n",
       "      <td>0.010668</td>\n",
       "      <td>-0.001667</td>\n",
       "      <td>0.011812</td>\n",
       "      <td>0.013756</td>\n",
       "      <td>0.011716</td>\n",
       "      <td>0.011047</td>\n",
       "      <td>0.013147</td>\n",
       "      <td>0.003957</td>\n",
       "      <td>NaN</td>\n",
       "      <td>0.013722</td>\n",
       "      <td>0.010428</td>\n",
       "      <td>0.009881</td>\n",
       "      <td>0.008848</td>\n",
       "      <td>0.006169</td>\n",
       "      <td>-0.001477</td>\n",
       "      <td>-0.010161</td>\n",
       "      <td>NaN</td>\n",
       "    </tr>\n",
       "    <tr>\n",
       "      <th>Batch Enrolled</th>\n",
       "      <td>0.004107</td>\n",
       "      <td>-0.001760</td>\n",
       "      <td>0.000973</td>\n",
       "      <td>0.004942</td>\n",
       "      <td>0.005013</td>\n",
       "      <td>1.000000</td>\n",
       "      <td>-0.001175</td>\n",
       "      <td>0.002093</td>\n",
       "      <td>-0.000938</td>\n",
       "      <td>-0.004751</td>\n",
       "      <td>0.004487</td>\n",
       "      <td>-0.007801</td>\n",
       "      <td>0.000210</td>\n",
       "      <td>0.007007</td>\n",
       "      <td>-0.003932</td>\n",
       "      <td>0.003767</td>\n",
       "      <td>0.001707</td>\n",
       "      <td>0.003423</td>\n",
       "      <td>0.010823</td>\n",
       "      <td>0.001012</td>\n",
       "      <td>0.003694</td>\n",
       "      <td>-0.002779</td>\n",
       "      <td>0.000232</td>\n",
       "      <td>-0.004667</td>\n",
       "      <td>-0.004460</td>\n",
       "      <td>NaN</td>\n",
       "      <td>0.001149</td>\n",
       "      <td>-0.011092</td>\n",
       "      <td>0.002967</td>\n",
       "      <td>0.007026</td>\n",
       "      <td>-0.010022</td>\n",
       "      <td>0.001755</td>\n",
       "      <td>0.003485</td>\n",
       "      <td>NaN</td>\n",
       "    </tr>\n",
       "    <tr>\n",
       "      <th>Interest Rate</th>\n",
       "      <td>0.004314</td>\n",
       "      <td>-0.005593</td>\n",
       "      <td>-0.001410</td>\n",
       "      <td>-0.003032</td>\n",
       "      <td>0.002827</td>\n",
       "      <td>-0.001175</td>\n",
       "      <td>1.000000</td>\n",
       "      <td>-0.001933</td>\n",
       "      <td>0.001039</td>\n",
       "      <td>0.000496</td>\n",
       "      <td>-0.010514</td>\n",
       "      <td>0.000131</td>\n",
       "      <td>0.000934</td>\n",
       "      <td>-0.003991</td>\n",
       "      <td>0.000020</td>\n",
       "      <td>0.016411</td>\n",
       "      <td>0.003031</td>\n",
       "      <td>0.006022</td>\n",
       "      <td>0.005448</td>\n",
       "      <td>0.000986</td>\n",
       "      <td>0.004124</td>\n",
       "      <td>0.005634</td>\n",
       "      <td>-0.001626</td>\n",
       "      <td>-0.010491</td>\n",
       "      <td>-0.010238</td>\n",
       "      <td>NaN</td>\n",
       "      <td>-0.002908</td>\n",
       "      <td>-0.004201</td>\n",
       "      <td>0.015151</td>\n",
       "      <td>0.009781</td>\n",
       "      <td>0.014935</td>\n",
       "      <td>0.001605</td>\n",
       "      <td>0.003142</td>\n",
       "      <td>NaN</td>\n",
       "    </tr>\n",
       "    <tr>\n",
       "      <th>Sub Grade</th>\n",
       "      <td>0.009271</td>\n",
       "      <td>-0.004197</td>\n",
       "      <td>0.001420</td>\n",
       "      <td>-0.001751</td>\n",
       "      <td>-0.001337</td>\n",
       "      <td>0.002093</td>\n",
       "      <td>-0.001933</td>\n",
       "      <td>1.000000</td>\n",
       "      <td>0.007814</td>\n",
       "      <td>0.000638</td>\n",
       "      <td>-0.008373</td>\n",
       "      <td>0.004904</td>\n",
       "      <td>-0.010856</td>\n",
       "      <td>-0.004597</td>\n",
       "      <td>0.005511</td>\n",
       "      <td>-0.000419</td>\n",
       "      <td>-0.008454</td>\n",
       "      <td>0.000673</td>\n",
       "      <td>-0.004521</td>\n",
       "      <td>-0.000457</td>\n",
       "      <td>0.001211</td>\n",
       "      <td>-0.008203</td>\n",
       "      <td>-0.000051</td>\n",
       "      <td>0.009562</td>\n",
       "      <td>0.008314</td>\n",
       "      <td>NaN</td>\n",
       "      <td>-0.005551</td>\n",
       "      <td>0.004589</td>\n",
       "      <td>0.004381</td>\n",
       "      <td>0.022889</td>\n",
       "      <td>0.002774</td>\n",
       "      <td>-0.002000</td>\n",
       "      <td>0.006913</td>\n",
       "      <td>NaN</td>\n",
       "    </tr>\n",
       "    <tr>\n",
       "      <th>Home Ownership</th>\n",
       "      <td>-0.009911</td>\n",
       "      <td>0.014238</td>\n",
       "      <td>-0.008578</td>\n",
       "      <td>-0.002299</td>\n",
       "      <td>-0.002262</td>\n",
       "      <td>-0.000938</td>\n",
       "      <td>0.001039</td>\n",
       "      <td>0.007814</td>\n",
       "      <td>1.000000</td>\n",
       "      <td>0.003572</td>\n",
       "      <td>0.022812</td>\n",
       "      <td>-0.016363</td>\n",
       "      <td>-0.010247</td>\n",
       "      <td>0.005847</td>\n",
       "      <td>-0.004190</td>\n",
       "      <td>0.011986</td>\n",
       "      <td>-0.006696</td>\n",
       "      <td>0.016526</td>\n",
       "      <td>0.024729</td>\n",
       "      <td>-0.013731</td>\n",
       "      <td>-0.004953</td>\n",
       "      <td>-0.004691</td>\n",
       "      <td>-0.005881</td>\n",
       "      <td>-0.014743</td>\n",
       "      <td>-0.006912</td>\n",
       "      <td>NaN</td>\n",
       "      <td>-0.003166</td>\n",
       "      <td>0.001835</td>\n",
       "      <td>-0.000736</td>\n",
       "      <td>0.011700</td>\n",
       "      <td>-0.024332</td>\n",
       "      <td>0.002746</td>\n",
       "      <td>-0.006870</td>\n",
       "      <td>NaN</td>\n",
       "    </tr>\n",
       "    <tr>\n",
       "      <th>Loan Title</th>\n",
       "      <td>-0.000868</td>\n",
       "      <td>-0.003765</td>\n",
       "      <td>0.000968</td>\n",
       "      <td>-0.000690</td>\n",
       "      <td>-0.002660</td>\n",
       "      <td>-0.004751</td>\n",
       "      <td>0.000496</td>\n",
       "      <td>0.000638</td>\n",
       "      <td>0.003572</td>\n",
       "      <td>1.000000</td>\n",
       "      <td>0.002945</td>\n",
       "      <td>-0.005348</td>\n",
       "      <td>-0.008662</td>\n",
       "      <td>0.001531</td>\n",
       "      <td>0.004707</td>\n",
       "      <td>-0.006913</td>\n",
       "      <td>-0.004014</td>\n",
       "      <td>-0.003708</td>\n",
       "      <td>-0.004750</td>\n",
       "      <td>-0.002885</td>\n",
       "      <td>0.001576</td>\n",
       "      <td>-0.000209</td>\n",
       "      <td>-0.000374</td>\n",
       "      <td>0.000880</td>\n",
       "      <td>0.006016</td>\n",
       "      <td>NaN</td>\n",
       "      <td>0.002410</td>\n",
       "      <td>-0.001492</td>\n",
       "      <td>0.000434</td>\n",
       "      <td>0.006858</td>\n",
       "      <td>-0.001514</td>\n",
       "      <td>-0.006434</td>\n",
       "      <td>0.004970</td>\n",
       "      <td>NaN</td>\n",
       "    </tr>\n",
       "    <tr>\n",
       "      <th>Debit to Income</th>\n",
       "      <td>-0.011588</td>\n",
       "      <td>0.012350</td>\n",
       "      <td>0.001434</td>\n",
       "      <td>-0.001206</td>\n",
       "      <td>0.005179</td>\n",
       "      <td>0.004487</td>\n",
       "      <td>-0.010514</td>\n",
       "      <td>-0.008373</td>\n",
       "      <td>0.022812</td>\n",
       "      <td>0.002945</td>\n",
       "      <td>1.000000</td>\n",
       "      <td>-0.004891</td>\n",
       "      <td>0.002776</td>\n",
       "      <td>0.002058</td>\n",
       "      <td>-0.008188</td>\n",
       "      <td>-0.010346</td>\n",
       "      <td>0.005342</td>\n",
       "      <td>-0.006164</td>\n",
       "      <td>0.019015</td>\n",
       "      <td>0.008309</td>\n",
       "      <td>-0.010060</td>\n",
       "      <td>-0.015050</td>\n",
       "      <td>0.002211</td>\n",
       "      <td>-0.002708</td>\n",
       "      <td>0.009021</td>\n",
       "      <td>NaN</td>\n",
       "      <td>0.003039</td>\n",
       "      <td>-0.010101</td>\n",
       "      <td>-0.007123</td>\n",
       "      <td>-0.017879</td>\n",
       "      <td>-0.006502</td>\n",
       "      <td>0.004317</td>\n",
       "      <td>-0.009284</td>\n",
       "      <td>NaN</td>\n",
       "    </tr>\n",
       "    <tr>\n",
       "      <th>Delinquency - two years</th>\n",
       "      <td>-0.005697</td>\n",
       "      <td>-0.004687</td>\n",
       "      <td>-0.003141</td>\n",
       "      <td>-0.005150</td>\n",
       "      <td>0.010606</td>\n",
       "      <td>-0.007801</td>\n",
       "      <td>0.000131</td>\n",
       "      <td>0.004904</td>\n",
       "      <td>-0.016363</td>\n",
       "      <td>-0.005348</td>\n",
       "      <td>-0.004891</td>\n",
       "      <td>1.000000</td>\n",
       "      <td>-0.019267</td>\n",
       "      <td>-0.000547</td>\n",
       "      <td>-0.009008</td>\n",
       "      <td>-0.003022</td>\n",
       "      <td>0.001221</td>\n",
       "      <td>-0.015889</td>\n",
       "      <td>0.007602</td>\n",
       "      <td>-0.016161</td>\n",
       "      <td>-0.008002</td>\n",
       "      <td>-0.000458</td>\n",
       "      <td>-0.008428</td>\n",
       "      <td>-0.014685</td>\n",
       "      <td>-0.001590</td>\n",
       "      <td>NaN</td>\n",
       "      <td>-0.002398</td>\n",
       "      <td>-0.013736</td>\n",
       "      <td>-0.004446</td>\n",
       "      <td>-0.001333</td>\n",
       "      <td>-0.020866</td>\n",
       "      <td>-0.000730</td>\n",
       "      <td>0.007509</td>\n",
       "      <td>NaN</td>\n",
       "    </tr>\n",
       "    <tr>\n",
       "      <th>Inquires - six months</th>\n",
       "      <td>-0.019705</td>\n",
       "      <td>0.003077</td>\n",
       "      <td>-0.007390</td>\n",
       "      <td>-0.007498</td>\n",
       "      <td>0.023735</td>\n",
       "      <td>0.000210</td>\n",
       "      <td>0.000934</td>\n",
       "      <td>-0.010856</td>\n",
       "      <td>-0.010247</td>\n",
       "      <td>-0.008662</td>\n",
       "      <td>0.002776</td>\n",
       "      <td>-0.019267</td>\n",
       "      <td>1.000000</td>\n",
       "      <td>-0.017385</td>\n",
       "      <td>-0.022695</td>\n",
       "      <td>-0.018708</td>\n",
       "      <td>0.008061</td>\n",
       "      <td>-0.000790</td>\n",
       "      <td>0.012425</td>\n",
       "      <td>-0.010349</td>\n",
       "      <td>-0.015447</td>\n",
       "      <td>-0.014494</td>\n",
       "      <td>-0.015198</td>\n",
       "      <td>-0.020573</td>\n",
       "      <td>-0.005794</td>\n",
       "      <td>NaN</td>\n",
       "      <td>-0.014673</td>\n",
       "      <td>-0.025057</td>\n",
       "      <td>-0.017668</td>\n",
       "      <td>-0.018382</td>\n",
       "      <td>-0.021523</td>\n",
       "      <td>0.004177</td>\n",
       "      <td>0.004263</td>\n",
       "      <td>NaN</td>\n",
       "    </tr>\n",
       "    <tr>\n",
       "      <th>Open Account</th>\n",
       "      <td>-0.006913</td>\n",
       "      <td>0.007040</td>\n",
       "      <td>0.000618</td>\n",
       "      <td>-0.010866</td>\n",
       "      <td>0.023333</td>\n",
       "      <td>0.007007</td>\n",
       "      <td>-0.003991</td>\n",
       "      <td>-0.004597</td>\n",
       "      <td>0.005847</td>\n",
       "      <td>0.001531</td>\n",
       "      <td>0.002058</td>\n",
       "      <td>-0.000547</td>\n",
       "      <td>-0.017385</td>\n",
       "      <td>1.000000</td>\n",
       "      <td>-0.013417</td>\n",
       "      <td>0.008315</td>\n",
       "      <td>0.003866</td>\n",
       "      <td>0.003032</td>\n",
       "      <td>0.049370</td>\n",
       "      <td>0.007918</td>\n",
       "      <td>-0.009136</td>\n",
       "      <td>-0.004769</td>\n",
       "      <td>-0.008250</td>\n",
       "      <td>-0.007066</td>\n",
       "      <td>-0.017090</td>\n",
       "      <td>NaN</td>\n",
       "      <td>-0.007523</td>\n",
       "      <td>-0.008277</td>\n",
       "      <td>0.002037</td>\n",
       "      <td>-0.027415</td>\n",
       "      <td>-0.022758</td>\n",
       "      <td>0.005659</td>\n",
       "      <td>0.007800</td>\n",
       "      <td>NaN</td>\n",
       "    </tr>\n",
       "    <tr>\n",
       "      <th>Public Record</th>\n",
       "      <td>0.000664</td>\n",
       "      <td>-0.004878</td>\n",
       "      <td>-0.000423</td>\n",
       "      <td>-0.003097</td>\n",
       "      <td>0.019122</td>\n",
       "      <td>-0.003932</td>\n",
       "      <td>0.000020</td>\n",
       "      <td>0.005511</td>\n",
       "      <td>-0.004190</td>\n",
       "      <td>0.004707</td>\n",
       "      <td>-0.008188</td>\n",
       "      <td>-0.009008</td>\n",
       "      <td>-0.022695</td>\n",
       "      <td>-0.013417</td>\n",
       "      <td>1.000000</td>\n",
       "      <td>0.001724</td>\n",
       "      <td>-0.000173</td>\n",
       "      <td>-0.000534</td>\n",
       "      <td>0.001853</td>\n",
       "      <td>-0.011946</td>\n",
       "      <td>-0.003572</td>\n",
       "      <td>-0.015267</td>\n",
       "      <td>-0.006454</td>\n",
       "      <td>-0.013069</td>\n",
       "      <td>0.000243</td>\n",
       "      <td>NaN</td>\n",
       "      <td>-0.006328</td>\n",
       "      <td>-0.005169</td>\n",
       "      <td>-0.001228</td>\n",
       "      <td>0.012527</td>\n",
       "      <td>-0.007046</td>\n",
       "      <td>-0.000941</td>\n",
       "      <td>0.021887</td>\n",
       "      <td>NaN</td>\n",
       "    </tr>\n",
       "    <tr>\n",
       "      <th>Revolving Balance</th>\n",
       "      <td>-0.003522</td>\n",
       "      <td>-0.009323</td>\n",
       "      <td>-0.006706</td>\n",
       "      <td>-0.011931</td>\n",
       "      <td>0.017228</td>\n",
       "      <td>0.003767</td>\n",
       "      <td>0.016411</td>\n",
       "      <td>-0.000419</td>\n",
       "      <td>0.011986</td>\n",
       "      <td>-0.006913</td>\n",
       "      <td>-0.010346</td>\n",
       "      <td>-0.003022</td>\n",
       "      <td>-0.018708</td>\n",
       "      <td>0.008315</td>\n",
       "      <td>0.001724</td>\n",
       "      <td>1.000000</td>\n",
       "      <td>0.001718</td>\n",
       "      <td>-0.002566</td>\n",
       "      <td>0.033901</td>\n",
       "      <td>-0.014208</td>\n",
       "      <td>-0.012336</td>\n",
       "      <td>-0.009862</td>\n",
       "      <td>-0.006780</td>\n",
       "      <td>-0.009851</td>\n",
       "      <td>-0.012650</td>\n",
       "      <td>NaN</td>\n",
       "      <td>-0.004831</td>\n",
       "      <td>-0.015272</td>\n",
       "      <td>0.014161</td>\n",
       "      <td>0.019930</td>\n",
       "      <td>-0.015217</td>\n",
       "      <td>-0.006833</td>\n",
       "      <td>0.023368</td>\n",
       "      <td>NaN</td>\n",
       "    </tr>\n",
       "    <tr>\n",
       "      <th>Revolving Utilities</th>\n",
       "      <td>0.001973</td>\n",
       "      <td>0.014461</td>\n",
       "      <td>0.002378</td>\n",
       "      <td>-0.002871</td>\n",
       "      <td>0.000150</td>\n",
       "      <td>0.001707</td>\n",
       "      <td>0.003031</td>\n",
       "      <td>-0.008454</td>\n",
       "      <td>-0.006696</td>\n",
       "      <td>-0.004014</td>\n",
       "      <td>0.005342</td>\n",
       "      <td>0.001221</td>\n",
       "      <td>0.008061</td>\n",
       "      <td>0.003866</td>\n",
       "      <td>-0.000173</td>\n",
       "      <td>0.001718</td>\n",
       "      <td>1.000000</td>\n",
       "      <td>-0.005462</td>\n",
       "      <td>0.030953</td>\n",
       "      <td>0.005663</td>\n",
       "      <td>-0.002227</td>\n",
       "      <td>0.001311</td>\n",
       "      <td>0.004146</td>\n",
       "      <td>0.010363</td>\n",
       "      <td>0.010064</td>\n",
       "      <td>NaN</td>\n",
       "      <td>0.005572</td>\n",
       "      <td>-0.016173</td>\n",
       "      <td>-0.010387</td>\n",
       "      <td>-0.031109</td>\n",
       "      <td>-0.008998</td>\n",
       "      <td>-0.002403</td>\n",
       "      <td>0.002560</td>\n",
       "      <td>NaN</td>\n",
       "    </tr>\n",
       "    <tr>\n",
       "      <th>Total Accounts</th>\n",
       "      <td>-0.000994</td>\n",
       "      <td>-0.000112</td>\n",
       "      <td>0.010940</td>\n",
       "      <td>0.002015</td>\n",
       "      <td>0.010668</td>\n",
       "      <td>0.003423</td>\n",
       "      <td>0.006022</td>\n",
       "      <td>0.000673</td>\n",
       "      <td>0.016526</td>\n",
       "      <td>-0.003708</td>\n",
       "      <td>-0.006164</td>\n",
       "      <td>-0.015889</td>\n",
       "      <td>-0.000790</td>\n",
       "      <td>0.003032</td>\n",
       "      <td>-0.000534</td>\n",
       "      <td>-0.002566</td>\n",
       "      <td>-0.005462</td>\n",
       "      <td>1.000000</td>\n",
       "      <td>-0.022076</td>\n",
       "      <td>0.007655</td>\n",
       "      <td>0.002352</td>\n",
       "      <td>-0.005070</td>\n",
       "      <td>0.003375</td>\n",
       "      <td>-0.004173</td>\n",
       "      <td>0.015000</td>\n",
       "      <td>NaN</td>\n",
       "      <td>-0.002223</td>\n",
       "      <td>-0.009078</td>\n",
       "      <td>0.030010</td>\n",
       "      <td>-0.010128</td>\n",
       "      <td>0.006591</td>\n",
       "      <td>0.002484</td>\n",
       "      <td>-0.010062</td>\n",
       "      <td>NaN</td>\n",
       "    </tr>\n",
       "    <tr>\n",
       "      <th>Initial List Status</th>\n",
       "      <td>0.004647</td>\n",
       "      <td>0.003385</td>\n",
       "      <td>-0.004186</td>\n",
       "      <td>0.009482</td>\n",
       "      <td>-0.001667</td>\n",
       "      <td>0.010823</td>\n",
       "      <td>0.005448</td>\n",
       "      <td>-0.004521</td>\n",
       "      <td>0.024729</td>\n",
       "      <td>-0.004750</td>\n",
       "      <td>0.019015</td>\n",
       "      <td>0.007602</td>\n",
       "      <td>0.012425</td>\n",
       "      <td>0.049370</td>\n",
       "      <td>0.001853</td>\n",
       "      <td>0.033901</td>\n",
       "      <td>0.030953</td>\n",
       "      <td>-0.022076</td>\n",
       "      <td>1.000000</td>\n",
       "      <td>-0.006563</td>\n",
       "      <td>-0.007326</td>\n",
       "      <td>-0.000857</td>\n",
       "      <td>-0.011101</td>\n",
       "      <td>0.000254</td>\n",
       "      <td>-0.008918</td>\n",
       "      <td>NaN</td>\n",
       "      <td>0.003319</td>\n",
       "      <td>-0.018107</td>\n",
       "      <td>-0.018170</td>\n",
       "      <td>-0.050671</td>\n",
       "      <td>-0.094056</td>\n",
       "      <td>-0.005304</td>\n",
       "      <td>-0.026076</td>\n",
       "      <td>NaN</td>\n",
       "    </tr>\n",
       "    <tr>\n",
       "      <th>Total Received Interest</th>\n",
       "      <td>-0.008204</td>\n",
       "      <td>-0.003684</td>\n",
       "      <td>-0.000619</td>\n",
       "      <td>-0.006111</td>\n",
       "      <td>0.011812</td>\n",
       "      <td>0.001012</td>\n",
       "      <td>0.000986</td>\n",
       "      <td>-0.000457</td>\n",
       "      <td>-0.013731</td>\n",
       "      <td>-0.002885</td>\n",
       "      <td>0.008309</td>\n",
       "      <td>-0.016161</td>\n",
       "      <td>-0.010349</td>\n",
       "      <td>0.007918</td>\n",
       "      <td>-0.011946</td>\n",
       "      <td>-0.014208</td>\n",
       "      <td>0.005663</td>\n",
       "      <td>0.007655</td>\n",
       "      <td>-0.006563</td>\n",
       "      <td>1.000000</td>\n",
       "      <td>-0.009156</td>\n",
       "      <td>-0.009475</td>\n",
       "      <td>-0.006551</td>\n",
       "      <td>-0.011245</td>\n",
       "      <td>-0.002927</td>\n",
       "      <td>NaN</td>\n",
       "      <td>-0.008027</td>\n",
       "      <td>-0.005458</td>\n",
       "      <td>0.004321</td>\n",
       "      <td>0.005788</td>\n",
       "      <td>0.010183</td>\n",
       "      <td>0.001489</td>\n",
       "      <td>-0.000023</td>\n",
       "      <td>NaN</td>\n",
       "    </tr>\n",
       "    <tr>\n",
       "      <th>Total Received Late Fee</th>\n",
       "      <td>-0.000761</td>\n",
       "      <td>-0.005905</td>\n",
       "      <td>-0.007717</td>\n",
       "      <td>-0.008647</td>\n",
       "      <td>0.013756</td>\n",
       "      <td>0.003694</td>\n",
       "      <td>0.004124</td>\n",
       "      <td>0.001211</td>\n",
       "      <td>-0.004953</td>\n",
       "      <td>0.001576</td>\n",
       "      <td>-0.010060</td>\n",
       "      <td>-0.008002</td>\n",
       "      <td>-0.015447</td>\n",
       "      <td>-0.009136</td>\n",
       "      <td>-0.003572</td>\n",
       "      <td>-0.012336</td>\n",
       "      <td>-0.002227</td>\n",
       "      <td>0.002352</td>\n",
       "      <td>-0.007326</td>\n",
       "      <td>-0.009156</td>\n",
       "      <td>1.000000</td>\n",
       "      <td>-0.011445</td>\n",
       "      <td>-0.005989</td>\n",
       "      <td>-0.014321</td>\n",
       "      <td>0.002304</td>\n",
       "      <td>NaN</td>\n",
       "      <td>-0.005911</td>\n",
       "      <td>-0.010655</td>\n",
       "      <td>-0.003100</td>\n",
       "      <td>0.007651</td>\n",
       "      <td>-0.016565</td>\n",
       "      <td>-0.002733</td>\n",
       "      <td>0.008408</td>\n",
       "      <td>NaN</td>\n",
       "    </tr>\n",
       "    <tr>\n",
       "      <th>Recoveries</th>\n",
       "      <td>-0.002715</td>\n",
       "      <td>-0.002461</td>\n",
       "      <td>-0.006508</td>\n",
       "      <td>-0.002650</td>\n",
       "      <td>0.011716</td>\n",
       "      <td>-0.002779</td>\n",
       "      <td>0.005634</td>\n",
       "      <td>-0.008203</td>\n",
       "      <td>-0.004691</td>\n",
       "      <td>-0.000209</td>\n",
       "      <td>-0.015050</td>\n",
       "      <td>-0.000458</td>\n",
       "      <td>-0.014494</td>\n",
       "      <td>-0.004769</td>\n",
       "      <td>-0.015267</td>\n",
       "      <td>-0.009862</td>\n",
       "      <td>0.001311</td>\n",
       "      <td>-0.005070</td>\n",
       "      <td>-0.000857</td>\n",
       "      <td>-0.009475</td>\n",
       "      <td>-0.011445</td>\n",
       "      <td>1.000000</td>\n",
       "      <td>-0.007189</td>\n",
       "      <td>-0.011261</td>\n",
       "      <td>-0.003090</td>\n",
       "      <td>NaN</td>\n",
       "      <td>-0.005264</td>\n",
       "      <td>-0.012261</td>\n",
       "      <td>-0.010530</td>\n",
       "      <td>0.003834</td>\n",
       "      <td>-0.010655</td>\n",
       "      <td>0.000387</td>\n",
       "      <td>-0.006812</td>\n",
       "      <td>NaN</td>\n",
       "    </tr>\n",
       "    <tr>\n",
       "      <th>Collection Recovery Fee</th>\n",
       "      <td>-0.018535</td>\n",
       "      <td>-0.007205</td>\n",
       "      <td>-0.003131</td>\n",
       "      <td>-0.010104</td>\n",
       "      <td>0.011047</td>\n",
       "      <td>0.000232</td>\n",
       "      <td>-0.001626</td>\n",
       "      <td>-0.000051</td>\n",
       "      <td>-0.005881</td>\n",
       "      <td>-0.000374</td>\n",
       "      <td>0.002211</td>\n",
       "      <td>-0.008428</td>\n",
       "      <td>-0.015198</td>\n",
       "      <td>-0.008250</td>\n",
       "      <td>-0.006454</td>\n",
       "      <td>-0.006780</td>\n",
       "      <td>0.004146</td>\n",
       "      <td>0.003375</td>\n",
       "      <td>-0.011101</td>\n",
       "      <td>-0.006551</td>\n",
       "      <td>-0.005989</td>\n",
       "      <td>-0.007189</td>\n",
       "      <td>1.000000</td>\n",
       "      <td>-0.007183</td>\n",
       "      <td>0.001169</td>\n",
       "      <td>NaN</td>\n",
       "      <td>-0.007535</td>\n",
       "      <td>-0.015782</td>\n",
       "      <td>-0.000141</td>\n",
       "      <td>0.001293</td>\n",
       "      <td>0.002806</td>\n",
       "      <td>0.001748</td>\n",
       "      <td>0.011432</td>\n",
       "      <td>NaN</td>\n",
       "    </tr>\n",
       "    <tr>\n",
       "      <th>Collection 12 months Medical</th>\n",
       "      <td>-0.013218</td>\n",
       "      <td>-0.003963</td>\n",
       "      <td>-0.005044</td>\n",
       "      <td>-0.005871</td>\n",
       "      <td>0.013147</td>\n",
       "      <td>-0.004667</td>\n",
       "      <td>-0.010491</td>\n",
       "      <td>0.009562</td>\n",
       "      <td>-0.014743</td>\n",
       "      <td>0.000880</td>\n",
       "      <td>-0.002708</td>\n",
       "      <td>-0.014685</td>\n",
       "      <td>-0.020573</td>\n",
       "      <td>-0.007066</td>\n",
       "      <td>-0.013069</td>\n",
       "      <td>-0.009851</td>\n",
       "      <td>0.010363</td>\n",
       "      <td>-0.004173</td>\n",
       "      <td>0.000254</td>\n",
       "      <td>-0.011245</td>\n",
       "      <td>-0.014321</td>\n",
       "      <td>-0.011261</td>\n",
       "      <td>-0.007183</td>\n",
       "      <td>1.000000</td>\n",
       "      <td>0.005009</td>\n",
       "      <td>NaN</td>\n",
       "      <td>-0.008237</td>\n",
       "      <td>-0.014777</td>\n",
       "      <td>-0.015881</td>\n",
       "      <td>-0.005492</td>\n",
       "      <td>-0.008312</td>\n",
       "      <td>0.003590</td>\n",
       "      <td>0.023130</td>\n",
       "      <td>NaN</td>\n",
       "    </tr>\n",
       "    <tr>\n",
       "      <th>Last week Pay</th>\n",
       "      <td>0.002250</td>\n",
       "      <td>0.000168</td>\n",
       "      <td>-0.002720</td>\n",
       "      <td>0.001833</td>\n",
       "      <td>0.003957</td>\n",
       "      <td>-0.004460</td>\n",
       "      <td>-0.010238</td>\n",
       "      <td>0.008314</td>\n",
       "      <td>-0.006912</td>\n",
       "      <td>0.006016</td>\n",
       "      <td>0.009021</td>\n",
       "      <td>-0.001590</td>\n",
       "      <td>-0.005794</td>\n",
       "      <td>-0.017090</td>\n",
       "      <td>0.000243</td>\n",
       "      <td>-0.012650</td>\n",
       "      <td>0.010064</td>\n",
       "      <td>0.015000</td>\n",
       "      <td>-0.008918</td>\n",
       "      <td>-0.002927</td>\n",
       "      <td>0.002304</td>\n",
       "      <td>-0.003090</td>\n",
       "      <td>0.001169</td>\n",
       "      <td>0.005009</td>\n",
       "      <td>1.000000</td>\n",
       "      <td>NaN</td>\n",
       "      <td>0.000420</td>\n",
       "      <td>-0.004185</td>\n",
       "      <td>-0.002706</td>\n",
       "      <td>0.004413</td>\n",
       "      <td>0.022479</td>\n",
       "      <td>-0.000106</td>\n",
       "      <td>-0.008772</td>\n",
       "      <td>NaN</td>\n",
       "    </tr>\n",
       "    <tr>\n",
       "      <th>Accounts Delinquent</th>\n",
       "      <td>NaN</td>\n",
       "      <td>NaN</td>\n",
       "      <td>NaN</td>\n",
       "      <td>NaN</td>\n",
       "      <td>NaN</td>\n",
       "      <td>NaN</td>\n",
       "      <td>NaN</td>\n",
       "      <td>NaN</td>\n",
       "      <td>NaN</td>\n",
       "      <td>NaN</td>\n",
       "      <td>NaN</td>\n",
       "      <td>NaN</td>\n",
       "      <td>NaN</td>\n",
       "      <td>NaN</td>\n",
       "      <td>NaN</td>\n",
       "      <td>NaN</td>\n",
       "      <td>NaN</td>\n",
       "      <td>NaN</td>\n",
       "      <td>NaN</td>\n",
       "      <td>NaN</td>\n",
       "      <td>NaN</td>\n",
       "      <td>NaN</td>\n",
       "      <td>NaN</td>\n",
       "      <td>NaN</td>\n",
       "      <td>NaN</td>\n",
       "      <td>NaN</td>\n",
       "      <td>NaN</td>\n",
       "      <td>NaN</td>\n",
       "      <td>NaN</td>\n",
       "      <td>NaN</td>\n",
       "      <td>NaN</td>\n",
       "      <td>NaN</td>\n",
       "      <td>NaN</td>\n",
       "      <td>NaN</td>\n",
       "    </tr>\n",
       "    <tr>\n",
       "      <th>Total Collection Amount</th>\n",
       "      <td>-0.002622</td>\n",
       "      <td>-0.005766</td>\n",
       "      <td>-0.007063</td>\n",
       "      <td>-0.006530</td>\n",
       "      <td>0.013722</td>\n",
       "      <td>0.001149</td>\n",
       "      <td>-0.002908</td>\n",
       "      <td>-0.005551</td>\n",
       "      <td>-0.003166</td>\n",
       "      <td>0.002410</td>\n",
       "      <td>0.003039</td>\n",
       "      <td>-0.002398</td>\n",
       "      <td>-0.014673</td>\n",
       "      <td>-0.007523</td>\n",
       "      <td>-0.006328</td>\n",
       "      <td>-0.004831</td>\n",
       "      <td>0.005572</td>\n",
       "      <td>-0.002223</td>\n",
       "      <td>0.003319</td>\n",
       "      <td>-0.008027</td>\n",
       "      <td>-0.005911</td>\n",
       "      <td>-0.005264</td>\n",
       "      <td>-0.007535</td>\n",
       "      <td>-0.008237</td>\n",
       "      <td>0.000420</td>\n",
       "      <td>NaN</td>\n",
       "      <td>1.000000</td>\n",
       "      <td>-0.004505</td>\n",
       "      <td>-0.007280</td>\n",
       "      <td>-0.001403</td>\n",
       "      <td>-0.007331</td>\n",
       "      <td>-0.003246</td>\n",
       "      <td>0.000356</td>\n",
       "      <td>NaN</td>\n",
       "    </tr>\n",
       "    <tr>\n",
       "      <th>Total Current Balance</th>\n",
       "      <td>-0.009946</td>\n",
       "      <td>-0.011148</td>\n",
       "      <td>-0.010377</td>\n",
       "      <td>-0.006206</td>\n",
       "      <td>0.010428</td>\n",
       "      <td>-0.011092</td>\n",
       "      <td>-0.004201</td>\n",
       "      <td>0.004589</td>\n",
       "      <td>0.001835</td>\n",
       "      <td>-0.001492</td>\n",
       "      <td>-0.010101</td>\n",
       "      <td>-0.013736</td>\n",
       "      <td>-0.025057</td>\n",
       "      <td>-0.008277</td>\n",
       "      <td>-0.005169</td>\n",
       "      <td>-0.015272</td>\n",
       "      <td>-0.016173</td>\n",
       "      <td>-0.009078</td>\n",
       "      <td>-0.018107</td>\n",
       "      <td>-0.005458</td>\n",
       "      <td>-0.010655</td>\n",
       "      <td>-0.012261</td>\n",
       "      <td>-0.015782</td>\n",
       "      <td>-0.014777</td>\n",
       "      <td>-0.004185</td>\n",
       "      <td>NaN</td>\n",
       "      <td>-0.004505</td>\n",
       "      <td>1.000000</td>\n",
       "      <td>-0.001142</td>\n",
       "      <td>0.024528</td>\n",
       "      <td>0.030062</td>\n",
       "      <td>0.003881</td>\n",
       "      <td>0.019824</td>\n",
       "      <td>NaN</td>\n",
       "    </tr>\n",
       "    <tr>\n",
       "      <th>Total Revolving Credit Limit</th>\n",
       "      <td>-0.007558</td>\n",
       "      <td>0.004066</td>\n",
       "      <td>0.004956</td>\n",
       "      <td>-0.001948</td>\n",
       "      <td>0.009881</td>\n",
       "      <td>0.002967</td>\n",
       "      <td>0.015151</td>\n",
       "      <td>0.004381</td>\n",
       "      <td>-0.000736</td>\n",
       "      <td>0.000434</td>\n",
       "      <td>-0.007123</td>\n",
       "      <td>-0.004446</td>\n",
       "      <td>-0.017668</td>\n",
       "      <td>0.002037</td>\n",
       "      <td>-0.001228</td>\n",
       "      <td>0.014161</td>\n",
       "      <td>-0.010387</td>\n",
       "      <td>0.030010</td>\n",
       "      <td>-0.018170</td>\n",
       "      <td>0.004321</td>\n",
       "      <td>-0.003100</td>\n",
       "      <td>-0.010530</td>\n",
       "      <td>-0.000141</td>\n",
       "      <td>-0.015881</td>\n",
       "      <td>-0.002706</td>\n",
       "      <td>NaN</td>\n",
       "      <td>-0.007280</td>\n",
       "      <td>-0.001142</td>\n",
       "      <td>1.000000</td>\n",
       "      <td>0.023781</td>\n",
       "      <td>0.001253</td>\n",
       "      <td>-0.002467</td>\n",
       "      <td>0.004740</td>\n",
       "      <td>NaN</td>\n",
       "    </tr>\n",
       "    <tr>\n",
       "      <th>Grade_mean_labels</th>\n",
       "      <td>-0.002729</td>\n",
       "      <td>-0.034147</td>\n",
       "      <td>-0.003868</td>\n",
       "      <td>0.007031</td>\n",
       "      <td>0.008848</td>\n",
       "      <td>0.007026</td>\n",
       "      <td>0.009781</td>\n",
       "      <td>0.022889</td>\n",
       "      <td>0.011700</td>\n",
       "      <td>0.006858</td>\n",
       "      <td>-0.017879</td>\n",
       "      <td>-0.001333</td>\n",
       "      <td>-0.018382</td>\n",
       "      <td>-0.027415</td>\n",
       "      <td>0.012527</td>\n",
       "      <td>0.019930</td>\n",
       "      <td>-0.031109</td>\n",
       "      <td>-0.010128</td>\n",
       "      <td>-0.050671</td>\n",
       "      <td>0.005788</td>\n",
       "      <td>0.007651</td>\n",
       "      <td>0.003834</td>\n",
       "      <td>0.001293</td>\n",
       "      <td>-0.005492</td>\n",
       "      <td>0.004413</td>\n",
       "      <td>NaN</td>\n",
       "      <td>-0.001403</td>\n",
       "      <td>0.024528</td>\n",
       "      <td>0.023781</td>\n",
       "      <td>1.000000</td>\n",
       "      <td>0.078160</td>\n",
       "      <td>-0.013148</td>\n",
       "      <td>0.031333</td>\n",
       "      <td>NaN</td>\n",
       "    </tr>\n",
       "    <tr>\n",
       "      <th>Employment Duration_ordinal_labels</th>\n",
       "      <td>-0.000252</td>\n",
       "      <td>-0.027666</td>\n",
       "      <td>0.014052</td>\n",
       "      <td>-0.012902</td>\n",
       "      <td>0.006169</td>\n",
       "      <td>-0.010022</td>\n",
       "      <td>0.014935</td>\n",
       "      <td>0.002774</td>\n",
       "      <td>-0.024332</td>\n",
       "      <td>-0.001514</td>\n",
       "      <td>-0.006502</td>\n",
       "      <td>-0.020866</td>\n",
       "      <td>-0.021523</td>\n",
       "      <td>-0.022758</td>\n",
       "      <td>-0.007046</td>\n",
       "      <td>-0.015217</td>\n",
       "      <td>-0.008998</td>\n",
       "      <td>0.006591</td>\n",
       "      <td>-0.094056</td>\n",
       "      <td>0.010183</td>\n",
       "      <td>-0.016565</td>\n",
       "      <td>-0.010655</td>\n",
       "      <td>0.002806</td>\n",
       "      <td>-0.008312</td>\n",
       "      <td>0.022479</td>\n",
       "      <td>NaN</td>\n",
       "      <td>-0.007331</td>\n",
       "      <td>0.030062</td>\n",
       "      <td>0.001253</td>\n",
       "      <td>0.078160</td>\n",
       "      <td>1.000000</td>\n",
       "      <td>-0.002671</td>\n",
       "      <td>0.025236</td>\n",
       "      <td>NaN</td>\n",
       "    </tr>\n",
       "    <tr>\n",
       "      <th>Application Type_mean_labels</th>\n",
       "      <td>0.002682</td>\n",
       "      <td>-0.004122</td>\n",
       "      <td>-0.005235</td>\n",
       "      <td>-0.002351</td>\n",
       "      <td>-0.001477</td>\n",
       "      <td>0.001755</td>\n",
       "      <td>0.001605</td>\n",
       "      <td>-0.002000</td>\n",
       "      <td>0.002746</td>\n",
       "      <td>-0.006434</td>\n",
       "      <td>0.004317</td>\n",
       "      <td>-0.000730</td>\n",
       "      <td>0.004177</td>\n",
       "      <td>0.005659</td>\n",
       "      <td>-0.000941</td>\n",
       "      <td>-0.006833</td>\n",
       "      <td>-0.002403</td>\n",
       "      <td>0.002484</td>\n",
       "      <td>-0.005304</td>\n",
       "      <td>0.001489</td>\n",
       "      <td>-0.002733</td>\n",
       "      <td>0.000387</td>\n",
       "      <td>0.001748</td>\n",
       "      <td>0.003590</td>\n",
       "      <td>-0.000106</td>\n",
       "      <td>NaN</td>\n",
       "      <td>-0.003246</td>\n",
       "      <td>0.003881</td>\n",
       "      <td>-0.002467</td>\n",
       "      <td>-0.013148</td>\n",
       "      <td>-0.002671</td>\n",
       "      <td>1.000000</td>\n",
       "      <td>0.002741</td>\n",
       "      <td>NaN</td>\n",
       "    </tr>\n",
       "    <tr>\n",
       "      <th>Verification Status_mean_labels</th>\n",
       "      <td>0.008595</td>\n",
       "      <td>-0.015122</td>\n",
       "      <td>0.000838</td>\n",
       "      <td>-0.000263</td>\n",
       "      <td>-0.010161</td>\n",
       "      <td>0.003485</td>\n",
       "      <td>0.003142</td>\n",
       "      <td>0.006913</td>\n",
       "      <td>-0.006870</td>\n",
       "      <td>0.004970</td>\n",
       "      <td>-0.009284</td>\n",
       "      <td>0.007509</td>\n",
       "      <td>0.004263</td>\n",
       "      <td>0.007800</td>\n",
       "      <td>0.021887</td>\n",
       "      <td>0.023368</td>\n",
       "      <td>0.002560</td>\n",
       "      <td>-0.010062</td>\n",
       "      <td>-0.026076</td>\n",
       "      <td>-0.000023</td>\n",
       "      <td>0.008408</td>\n",
       "      <td>-0.006812</td>\n",
       "      <td>0.011432</td>\n",
       "      <td>0.023130</td>\n",
       "      <td>-0.008772</td>\n",
       "      <td>NaN</td>\n",
       "      <td>0.000356</td>\n",
       "      <td>0.019824</td>\n",
       "      <td>0.004740</td>\n",
       "      <td>0.031333</td>\n",
       "      <td>0.025236</td>\n",
       "      <td>0.002741</td>\n",
       "      <td>1.000000</td>\n",
       "      <td>NaN</td>\n",
       "    </tr>\n",
       "    <tr>\n",
       "      <th>Payment Plan_mean_labels</th>\n",
       "      <td>NaN</td>\n",
       "      <td>NaN</td>\n",
       "      <td>NaN</td>\n",
       "      <td>NaN</td>\n",
       "      <td>NaN</td>\n",
       "      <td>NaN</td>\n",
       "      <td>NaN</td>\n",
       "      <td>NaN</td>\n",
       "      <td>NaN</td>\n",
       "      <td>NaN</td>\n",
       "      <td>NaN</td>\n",
       "      <td>NaN</td>\n",
       "      <td>NaN</td>\n",
       "      <td>NaN</td>\n",
       "      <td>NaN</td>\n",
       "      <td>NaN</td>\n",
       "      <td>NaN</td>\n",
       "      <td>NaN</td>\n",
       "      <td>NaN</td>\n",
       "      <td>NaN</td>\n",
       "      <td>NaN</td>\n",
       "      <td>NaN</td>\n",
       "      <td>NaN</td>\n",
       "      <td>NaN</td>\n",
       "      <td>NaN</td>\n",
       "      <td>NaN</td>\n",
       "      <td>NaN</td>\n",
       "      <td>NaN</td>\n",
       "      <td>NaN</td>\n",
       "      <td>NaN</td>\n",
       "      <td>NaN</td>\n",
       "      <td>NaN</td>\n",
       "      <td>NaN</td>\n",
       "      <td>NaN</td>\n",
       "    </tr>\n",
       "  </tbody>\n",
       "</table>\n",
       "</div>"
      ],
      "text/plain": [
       "                                          ID  ...  Payment Plan_mean_labels\n",
       "ID                                  1.000000  ...                       NaN\n",
       "Loan Amount                        -0.002835  ...                       NaN\n",
       "Funded Amount                      -0.010750  ...                       NaN\n",
       "Funded Amount Investor             -0.001957  ...                       NaN\n",
       "Term                                0.013729  ...                       NaN\n",
       "Batch Enrolled                      0.004107  ...                       NaN\n",
       "Interest Rate                       0.004314  ...                       NaN\n",
       "Sub Grade                           0.009271  ...                       NaN\n",
       "Home Ownership                     -0.009911  ...                       NaN\n",
       "Loan Title                         -0.000868  ...                       NaN\n",
       "Debit to Income                    -0.011588  ...                       NaN\n",
       "Delinquency - two years            -0.005697  ...                       NaN\n",
       "Inquires - six months              -0.019705  ...                       NaN\n",
       "Open Account                       -0.006913  ...                       NaN\n",
       "Public Record                       0.000664  ...                       NaN\n",
       "Revolving Balance                  -0.003522  ...                       NaN\n",
       "Revolving Utilities                 0.001973  ...                       NaN\n",
       "Total Accounts                     -0.000994  ...                       NaN\n",
       "Initial List Status                 0.004647  ...                       NaN\n",
       "Total Received Interest            -0.008204  ...                       NaN\n",
       "Total Received Late Fee            -0.000761  ...                       NaN\n",
       "Recoveries                         -0.002715  ...                       NaN\n",
       "Collection Recovery Fee            -0.018535  ...                       NaN\n",
       "Collection 12 months Medical       -0.013218  ...                       NaN\n",
       "Last week Pay                       0.002250  ...                       NaN\n",
       "Accounts Delinquent                      NaN  ...                       NaN\n",
       "Total Collection Amount            -0.002622  ...                       NaN\n",
       "Total Current Balance              -0.009946  ...                       NaN\n",
       "Total Revolving Credit Limit       -0.007558  ...                       NaN\n",
       "Grade_mean_labels                  -0.002729  ...                       NaN\n",
       "Employment Duration_ordinal_labels -0.000252  ...                       NaN\n",
       "Application Type_mean_labels        0.002682  ...                       NaN\n",
       "Verification Status_mean_labels     0.008595  ...                       NaN\n",
       "Payment Plan_mean_labels                 NaN  ...                       NaN\n",
       "\n",
       "[34 rows x 34 columns]"
      ]
     },
     "execution_count": 105,
     "metadata": {},
     "output_type": "execute_result"
    }
   ],
   "source": [
    "X_train.corr()"
   ]
  },
  {
   "cell_type": "code",
   "execution_count": 106,
   "id": "DzcO5ivltNMC",
   "metadata": {
    "colab": {
     "base_uri": "https://localhost:8080/",
     "height": 645
    },
    "id": "DzcO5ivltNMC",
    "outputId": "fa2ede6e-d53d-4b82-d610-d0f78a9e9eda"
   },
   "outputs": [
    {
     "data": {
      "text/plain": [
       "<matplotlib.axes._subplots.AxesSubplot at 0x7fa3924b1910>"
      ]
     },
     "execution_count": 106,
     "metadata": {},
     "output_type": "execute_result"
    },
    {
     "data": {
      "image/png": "[encoded data removed]",
      "text/plain": [
       "<Figure size 2160x1080 with 2 Axes>"
      ]
     },
     "metadata": {
      "needs_background": "light"
     },
     "output_type": "display_data"
    }
   ],
   "source": [
    "import seaborn as sns\n",
    "corr=X_train.corr()\n",
    "top_features=corr.index\n",
    "plt.figure(figsize=(30,15))\n",
    "sns.heatmap(X_train[top_features].corr(),annot=True)\n"
   ]
  },
  {
   "cell_type": "markdown",
   "id": "ymhzrq6ntOir",
   "metadata": {
    "id": "ymhzrq6ntOir"
   },
   "source": [
    "### Reduction Of `Multi Collinearity`"
   ]
  },
  {
   "cell_type": "code",
   "execution_count": 107,
   "id": "hDpQSkoktQ0F",
   "metadata": {
    "id": "hDpQSkoktQ0F"
   },
   "outputs": [],
   "source": [
    "threshold=0.6"
   ]
  },
  {
   "cell_type": "code",
   "execution_count": 108,
   "id": "s2i8nf-YtSGS",
   "metadata": {
    "id": "s2i8nf-YtSGS"
   },
   "outputs": [],
   "source": [
    "# find and remove correlated features\n",
    "def correlation(dataset, threshold):\n",
    "    col_corr = set()  # Set of all the names of correlated columns\n",
    "    corr_matrix = dataset.corr()\n",
    "    for i in range(len(corr_matrix.columns)):\n",
    "        for j in range(i):\n",
    "            if abs(corr_matrix.iloc[i, j]) > threshold: # we are interested in absolute coeff value\n",
    "                colname = corr_matrix.columns[i]  # getting the name of column\n",
    "                col_corr.add(colname)\n",
    "    return col_corr"
   ]
  },
  {
   "cell_type": "code",
   "execution_count": 109,
   "id": "_HJx6dK9tTPj",
   "metadata": {
    "colab": {
     "base_uri": "https://localhost:8080/"
    },
    "id": "_HJx6dK9tTPj",
    "outputId": "00ce7da5-c2c5-4da2-b4d0-5fd70db22f65"
   },
   "outputs": [
    {
     "data": {
      "text/plain": [
       "set()"
      ]
     },
     "execution_count": 109,
     "metadata": {},
     "output_type": "execute_result"
    }
   ],
   "source": [
    "correlation(X_train,threshold)"
   ]
  },
  {
   "cell_type": "code",
   "execution_count": 110,
   "id": "mhC-UIVqtU79",
   "metadata": {
    "id": "mhC-UIVqtU79"
   },
   "outputs": [],
   "source": [
    "from sklearn.feature_selection import mutual_info_classif"
   ]
  },
  {
   "cell_type": "code",
   "execution_count": 111,
   "id": "Mmoa2xfTtWTg",
   "metadata": {
    "id": "Mmoa2xfTtWTg"
   },
   "outputs": [],
   "source": [
    "mutual_info=mutual_info_classif(X_train,y_train)"
   ]
  },
  {
   "cell_type": "code",
   "execution_count": 112,
   "id": "edvTh6astXj4",
   "metadata": {
    "colab": {
     "base_uri": "https://localhost:8080/"
    },
    "id": "edvTh6astXj4",
    "outputId": "4fe2eb6c-4ced-4054-9a15-e4a1de7d3185"
   },
   "outputs": [
    {
     "data": {
      "text/plain": [
       "Application Type_mean_labels          0.014506\n",
       "Verification Status_mean_labels       0.004877\n",
       "Initial List Status                   0.004582\n",
       "Term                                  0.004288\n",
       "Loan Title                            0.003649\n",
       "Grade_mean_labels                     0.002803\n",
       "Collection Recovery Fee               0.002253\n",
       "Employment Duration_ordinal_labels    0.001818\n",
       "Delinquency - two years               0.001569\n",
       "Loan Amount                           0.001532\n",
       "Public Record                         0.001417\n",
       "Last week Pay                         0.001089\n",
       "Revolving Balance                     0.001044\n",
       "Revolving Utilities                   0.000879\n",
       "Batch Enrolled                        0.000850\n",
       "Funded Amount Investor                0.000674\n",
       "Total Current Balance                 0.000587\n",
       "Recoveries                            0.000507\n",
       "Total Accounts                        0.000434\n",
       "Funded Amount                         0.000335\n",
       "Collection 12 months Medical          0.000298\n",
       "Interest Rate                         0.000000\n",
       "Sub Grade                             0.000000\n",
       "Home Ownership                        0.000000\n",
       "Payment Plan_mean_labels              0.000000\n",
       "Debit to Income                       0.000000\n",
       "Inquires - six months                 0.000000\n",
       "Open Account                          0.000000\n",
       "Total Received Interest               0.000000\n",
       "Total Received Late Fee               0.000000\n",
       "Accounts Delinquent                   0.000000\n",
       "Total Collection Amount               0.000000\n",
       "Total Revolving Credit Limit          0.000000\n",
       "ID                                    0.000000\n",
       "dtype: float64"
      ]
     },
     "execution_count": 112,
     "metadata": {},
     "output_type": "execute_result"
    }
   ],
   "source": [
    "mutual_data=pd.Series(mutual_info,index=X_train.columns)\n",
    "mutual_data.sort_values(ascending=False)"
   ]
  },
  {
   "cell_type": "code",
   "execution_count": 113,
   "id": "O8VkjWhk02yN",
   "metadata": {
    "id": "O8VkjWhk02yN"
   },
   "outputs": [],
   "source": [
    "\n",
    "\n",
    "\n",
    "#'Inquires - six months','Delinquency - two years','Total Received Late Fee','Sub Grade','Interest Rate','Collection 12 months Medical','Accounts Delinquent','Total Collection Amount','Total Revolving Credit Limit','Grade_mean_labels','ID'                                    \n",
    "\n"
   ]
  },
  {
   "cell_type": "code",
   "execution_count": 114,
   "id": "mhG2rgQZ1hPo",
   "metadata": {
    "id": "mhG2rgQZ1hPo"
   },
   "outputs": [],
   "source": [
    "X_train = X_train.drop(columns = ['Inquires - six months','Delinquency - two years','Total Received Late Fee','Sub Grade','Interest Rate','Collection 12 months Medical','Accounts Delinquent','Total Collection Amount','Total Revolving Credit Limit','Grade_mean_labels','ID'])"
   ]
  },
  {
   "cell_type": "code",
   "execution_count": 115,
   "id": "B_uMLh_k1qE5",
   "metadata": {
    "id": "B_uMLh_k1qE5"
   },
   "outputs": [],
   "source": [
    "X_test = X_test.drop(columns = ['Inquires - six months','Delinquency - two years','Total Received Late Fee','Sub Grade','Interest Rate','Collection 12 months Medical','Accounts Delinquent','Total Collection Amount','Total Revolving Credit Limit','Grade_mean_labels','ID'])"
   ]
  },
  {
   "cell_type": "code",
   "execution_count": 116,
   "id": "mJP40zKp1vWu",
   "metadata": {
    "colab": {
     "base_uri": "https://localhost:8080/"
    },
    "id": "mJP40zKp1vWu",
    "outputId": "133a5126-2e17-43dd-9685-4c2e79dee408"
   },
   "outputs": [
    {
     "data": {
      "text/plain": [
       "(60716, 23)"
      ]
     },
     "execution_count": 116,
     "metadata": {},
     "output_type": "execute_result"
    }
   ],
   "source": [
    "X_train.shape"
   ]
  },
  {
   "cell_type": "code",
   "execution_count": 117,
   "id": "BU9aUXiS1yYg",
   "metadata": {
    "colab": {
     "base_uri": "https://localhost:8080/"
    },
    "id": "BU9aUXiS1yYg",
    "outputId": "b959f529-1408-4a58-ace4-c901f85f2988"
   },
   "outputs": [
    {
     "data": {
      "text/plain": [
       "(28913, 23)"
      ]
     },
     "execution_count": 117,
     "metadata": {},
     "output_type": "execute_result"
    }
   ],
   "source": [
    "X_test.shape"
   ]
  },
  {
   "cell_type": "markdown",
   "id": "7b8ebe01",
   "metadata": {
    "id": "7b8ebe01"
   },
   "source": [
    "#### Checking With ANN Model as Well "
   ]
  },
  {
   "cell_type": "code",
   "execution_count": 118,
   "id": "f9a84470",
   "metadata": {
    "id": "f9a84470"
   },
   "outputs": [],
   "source": [
    "import pandas as pd\n",
    "import numpy as np \n",
    "import itertools\n",
    "from sklearn import metrics\n",
    "from sklearn.metrics import confusion_matrix\n",
    "from tensorflow.keras.preprocessing.image import ImageDataGenerator, img_to_array, load_img \n",
    "from tensorflow.keras.models import Sequential\n",
    "from tensorflow.keras.layers import Conv2D,Flatten,Dropout,Dense\n",
    "from tensorflow.keras.optimizers import Adam\n",
    "from tensorflow import keras\n",
    "from tensorflow.keras import layers"
   ]
  },
  {
   "cell_type": "code",
   "execution_count": 121,
   "id": "c3b95e38",
   "metadata": {
    "id": "c3b95e38"
   },
   "outputs": [],
   "source": [
    "# Standard Imports\n",
    "import numpy as np\n",
    "import pandas as pd\n",
    "\n",
    "from sklearn.model_selection import train_test_split\n",
    "from sklearn.preprocessing import StandardScaler, LabelEncoder\n",
    "from sklearn.metrics import log_loss\n",
    "\n",
    "import tensorflow as tf\n",
    "from tensorflow import keras\n",
    "from keras import Sequential\n",
    "from keras.layers import Input, Dense, Dropout, Activation\n",
    "\n",
    "from hyperopt import tpe, STATUS_OK, Trials\n",
    "from hyperas import optim\n",
    "from hyperas.distributions import choice, uniform"
   ]
  },
  {
   "cell_type": "code",
   "execution_count": 122,
   "id": "88cf1942",
   "metadata": {
    "id": "88cf1942"
   },
   "outputs": [],
   "source": [
    "import keras\n",
    "from keras.models import Sequential\n",
    "from keras.layers import Dense\n",
    "from keras.layers import LeakyReLU,PReLU,ELU\n",
    "from keras.layers import Dropout"
   ]
  },
  {
   "cell_type": "code",
   "execution_count": 120,
   "id": "2b0cfc5a",
   "metadata": {
    "colab": {
     "base_uri": "https://localhost:8080/"
    },
    "id": "2b0cfc5a",
    "outputId": "59b72c61-45ad-4a75-a97d-17ca2a05383e"
   },
   "outputs": [
    {
     "name": "stdout",
     "output_type": "stream",
     "text": [
      "Installing collected packages: hyperas\n",
      "Successfully installed hyperas-0.4.1\n"
     ]
    }
   ],
   "source": [
    " #!pip install hyperas\n"
   ]
  },
  {
   "cell_type": "code",
   "execution_count": null,
   "id": "70d0ee05",
   "metadata": {
    "id": "70d0ee05"
   },
   "outputs": [],
   "source": [
    " #!pip install hyperopt"
   ]
  },
  {
   "cell_type": "code",
   "execution_count": 124,
   "id": "86bd2374",
   "metadata": {
    "id": "86bd2374"
   },
   "outputs": [],
   "source": [
    "from keras import models"
   ]
  },
  {
   "cell_type": "code",
   "execution_count": 125,
   "id": "f39b1eb7",
   "metadata": {
    "id": "f39b1eb7"
   },
   "outputs": [],
   "source": [
    "from keras.layers.core import Dense, Dropout, Activation"
   ]
  },
  {
   "cell_type": "code",
   "execution_count": 126,
   "id": "3ae3c527",
   "metadata": {
    "id": "3ae3c527"
   },
   "outputs": [],
   "source": [
    "from hyperas import optim\n",
    "from hyperas.distributions import choice, uniform"
   ]
  },
  {
   "cell_type": "code",
   "execution_count": 127,
   "id": "36a2a548",
   "metadata": {
    "colab": {
     "base_uri": "https://localhost:8080/"
    },
    "id": "36a2a548",
    "outputId": "cee76610-92eb-4b77-9af3-2c533c1b9d2d"
   },
   "outputs": [
    {
     "data": {
      "text/plain": [
       "(60716, 23)"
      ]
     },
     "execution_count": 127,
     "metadata": {},
     "output_type": "execute_result"
    }
   ],
   "source": [
    "X_train.shape"
   ]
  },
  {
   "cell_type": "code",
   "execution_count": 128,
   "id": "cf755808",
   "metadata": {
    "colab": {
     "base_uri": "https://localhost:8080/"
    },
    "id": "cf755808",
    "outputId": "3c7c859f-e951-43f3-d177-ea62a0bc08e8"
   },
   "outputs": [
    {
     "data": {
      "text/plain": [
       "(60716,)"
      ]
     },
     "execution_count": 128,
     "metadata": {},
     "output_type": "execute_result"
    }
   ],
   "source": [
    "y_train.shape"
   ]
  },
  {
   "cell_type": "code",
   "execution_count": 129,
   "id": "1761853f",
   "metadata": {
    "colab": {
     "base_uri": "https://localhost:8080/"
    },
    "id": "1761853f",
    "outputId": "ed02349f-900b-4e6b-cbd5-0e13f851733b"
   },
   "outputs": [
    {
     "data": {
      "text/plain": [
       "(28913, 23)"
      ]
     },
     "execution_count": 129,
     "metadata": {},
     "output_type": "execute_result"
    }
   ],
   "source": [
    "X_test.shape"
   ]
  },
  {
   "cell_type": "code",
   "execution_count": 130,
   "id": "ef38fc3d",
   "metadata": {
    "colab": {
     "base_uri": "https://localhost:8080/"
    },
    "id": "ef38fc3d",
    "outputId": "15210133-7674-489f-9bff-5b3978ce48ac"
   },
   "outputs": [
    {
     "data": {
      "text/plain": [
       "(28913,)"
      ]
     },
     "execution_count": 130,
     "metadata": {},
     "output_type": "execute_result"
    }
   ],
   "source": [
    "y_test.shape"
   ]
  },
  {
   "cell_type": "code",
   "execution_count": 131,
   "id": "df14e108",
   "metadata": {
    "id": "df14e108"
   },
   "outputs": [],
   "source": [
    "from hyperopt import fmin, tpe, hp, STATUS_OK, Trials\n",
    "from sklearn.metrics import roc_auc_score\n",
    "import sys"
   ]
  },
  {
   "cell_type": "code",
   "execution_count": 132,
   "id": "zgHHCqph2z9o",
   "metadata": {
    "id": "zgHHCqph2z9o"
   },
   "outputs": [],
   "source": [
    "def data():  \n",
    "  global test\n",
    "  # Importing data\n",
    "  train = pd.read_csv(\"/content/train.csv\")\n",
    "  test = pd.read_csv(\"/content/test.csv\")\n",
    "\n",
    "  # Dropping unnecessary columns in both test and training sets\n",
    "  train = train.drop(\"ID\", axis=1)\n",
    "  test = test.drop([\"Loan Status\", \"ID\"], axis=1)\n",
    "  train = train.drop(columns = ['Inquires - six months','Delinquency - two years','Total Received Late Fee','Sub Grade','Interest Rate','Collection 12 months Medical','Accounts Delinquent','Total Collection Amount','Total Revolving Credit Limit'])\n",
    "  test = test.drop(columns = ['Inquires - six months','Delinquency - two years','Total Received Late Fee','Sub Grade','Interest Rate','Collection 12 months Medical','Accounts Delinquent','Total Collection Amount','Total Revolving Credit Limit'])\n",
    "  # Let's split the data into features and target variables\n",
    "  X = train.drop(\"Loan Status\", axis=1)\n",
    "  y = train[\"Loan Status\"]\n",
    "\n",
    "  # Splitting the data into training and validation sets\n",
    "  X_train, X_test, y_train, y_test = train_test_split(X, y, test_size=0.2, random_state=42)\n",
    "\n",
    "  \n",
    "  # Converting non- numerical columns into numerica Columns\n",
    "  for label, content in X_train.items():\n",
    "    if not pd.api.types.is_numeric_dtype(content):\n",
    "      encoder = LabelEncoder()\n",
    "      X_train[label] = encoder.fit_transform(X_train[label])\n",
    "      X_test[label] = encoder.transform(X_test[label])\n",
    "      test[label] = encoder.transform(test[label])\n",
    "\n",
    "  # Now we scale the data\n",
    "  scaler = StandardScaler()\n",
    "  X_train = scaler.fit_transform(X_train)\n",
    "  X_test = scaler.transform(X_test)\n",
    "  test = scaler.transform(test)\n",
    "\n",
    "  return X_train, y_train, X_test, y_test\n",
    "\n",
    "# Calling our function\n",
    "X_train, y_train, X_test, y_test = data()"
   ]
  },
  {
   "cell_type": "code",
   "execution_count": 133,
   "id": "rlmsrgymRi9P",
   "metadata": {
    "colab": {
     "base_uri": "https://localhost:8080/"
    },
    "id": "rlmsrgymRi9P",
    "outputId": "c1283ccd-6e41-4a07-a94c-bc2e8394069e"
   },
   "outputs": [
    {
     "data": {
      "text/plain": [
       "(24,)"
      ]
     },
     "execution_count": 133,
     "metadata": {},
     "output_type": "execute_result"
    }
   ],
   "source": [
    "X_train[0].shape"
   ]
  },
  {
   "cell_type": "code",
   "execution_count": 134,
   "id": "9df8626a",
   "metadata": {
    "id": "9df8626a"
   },
   "outputs": [],
   "source": [
    "def model(X_train, y_train, X_test, y_test):\n",
    "  # Set random seed\n",
    "  from keras.layers.advanced_activations import LeakyReLU\n",
    "\n",
    "  tf.random.set_seed(42)\n",
    "\n",
    "  # Create a model\n",
    "  model = Sequential()\n",
    "  model.add(Input(shape=X_train[0].shape))\n",
    "  model.add(Dense({{choice([20, 30, 40])}}))\n",
    "  model.add(LeakyReLU(alpha={{uniform(0.5, 1)}}))\n",
    "  model.add(Dropout({{uniform(0.5, 1)}}))\n",
    "  model.add(Dense({{choice([10, 20, 30])}}))\n",
    "  model.add(LeakyReLU(alpha={{uniform(0.5, 1)}}))\n",
    "  model.add(Dropout({{uniform(0.5, 1)}}))\n",
    "\n",
    "  # Let's add another layer according to choice\n",
    "  if {{choice([\"a\", \"b\"])}} == \"b\":\n",
    "    model.add(Dense(5, activation=\"relu\"))\n",
    "    model.add(Dropout({{uniform(0.5, 1)}}))\n",
    "\n",
    "  # Let's add the final layer\n",
    "  model.add(Dense(1))\n",
    "  model.add(Activation({{choice([\"sigmoid\", \"softmax\"])}}))\n",
    "\n",
    "  # let's compile the model\n",
    "  model.compile(loss=\"binary_crossentropy\",\n",
    "                optimizer=tf.keras.optimizers.Adam(learning_rate={{choice([0.1, 0.001, 0.01, 3e-4])}}),\n",
    "                metrics=[\"accuracy\"])\n",
    "  \n",
    "  # Fit the model\n",
    "  model.fit(X_train, y_train,\n",
    "            validation_data=(X_test, y_test),\n",
    "            epochs=100,\n",
    "            callbacks=[tf.keras.callbacks.EarlyStopping(patience=10)], verbose=0)\n",
    "  \n",
    "  # Evaluate our model\n",
    "  loss, acc = model.evaluate(X_test, y_test, verbose=0)\n",
    "  print(\"Validation accuracy :\", acc)\n",
    "\n",
    "  return {\"loss\" : -acc, \"model\" : model, 'status' : STATUS_OK}"
   ]
  },
  {
   "cell_type": "code",
   "execution_count": 135,
   "id": "jJki4F6V2MHu",
   "metadata": {
    "id": "jJki4F6V2MHu"
   },
   "outputs": [],
   "source": [
    "!pip install -U -q PyDrive\n",
    "from pydrive.auth import GoogleAuth\n",
    "from pydrive.drive import GoogleDrive\n",
    "from google.colab import auth\n",
    "from oauth2client.client import GoogleCredentials"
   ]
  },
  {
   "cell_type": "code",
   "execution_count": 136,
   "id": "bee6abf5",
   "metadata": {
    "id": "bee6abf5"
   },
   "outputs": [],
   "source": [
    "# Authenticate and create the PyDrive client.\n",
    "auth.authenticate_user()\n",
    "gauth = GoogleAuth()\n",
    "gauth.credentials = GoogleCredentials.get_application_default()\n",
    "drive = GoogleDrive(gauth)"
   ]
  },
  {
   "cell_type": "code",
   "execution_count": 137,
   "id": "zEApHzso2Wet",
   "metadata": {
    "id": "zEApHzso2Wet"
   },
   "outputs": [],
   "source": [
    "fid = drive.ListFile({'q':\"title='predicttheloanstatusann2.ipynb'\"}).GetList()[0]['id']\n",
    "f = drive.CreateFile({'id': fid})\n",
    "f.GetContentFile('predicttheloanstatusann2.ipynb')"
   ]
  },
  {
   "cell_type": "code",
   "execution_count": 139,
   "id": "dE8MzgOJ2Y_G",
   "metadata": {
    "colab": {
     "base_uri": "https://localhost:8080/"
    },
    "id": "dE8MzgOJ2Y_G",
    "outputId": "f9e897b1-d127-4c9d-c00d-5e1860a7fcc1"
   },
   "outputs": [
    {
     "name": "stdout",
     "output_type": "stream",
     "text": [
      ">>> Imports:\n",
      "#coding=utf-8\n",
      "\n",
      "try:\n",
      "    from google.colab import drive\n",
      "except:\n",
      "    pass\n",
      "\n",
      "try:\n",
      "    from sklearn.datasets import load_iris\n",
      "except:\n",
      "    pass\n",
      "\n",
      "try:\n",
      "    from sklearn.model_selection import train_test_split\n",
      "except:\n",
      "    pass\n",
      "\n",
      "try:\n",
      "    from sklearn.preprocessing import StandardScaler\n",
      "except:\n",
      "    pass\n",
      "\n",
      "try:\n",
      "    from sklearn.decomposition import PCA\n",
      "except:\n",
      "    pass\n",
      "\n",
      "try:\n",
      "    from sklearn.pipeline import Pipeline\n",
      "except:\n",
      "    pass\n",
      "\n",
      "try:\n",
      "    from sklearn.linear_model import LogisticRegression\n",
      "except:\n",
      "    pass\n",
      "\n",
      "try:\n",
      "    from sklearn.tree import DecisionTreeClassifier\n",
      "except:\n",
      "    pass\n",
      "\n",
      "try:\n",
      "    from sklearn.ensemble import RandomForestClassifier\n",
      "except:\n",
      "    pass\n",
      "\n",
      "try:\n",
      "    import warnings\n",
      "except:\n",
      "    pass\n",
      "\n",
      "try:\n",
      "    import pandas, numpy as pdnp\n",
      "except:\n",
      "    pass\n",
      "\n",
      "try:\n",
      "    from sklearn import preprocessing\n",
      "except:\n",
      "    pass\n",
      "\n",
      "try:\n",
      "    import matplotlib.pyplot as plt\n",
      "except:\n",
      "    pass\n",
      "\n",
      "try:\n",
      "    from pandas import read_csv\n",
      "except:\n",
      "    pass\n",
      "\n",
      "try:\n",
      "    from sklearn.model_selection import train_test_split\n",
      "except:\n",
      "    pass\n",
      "\n",
      "try:\n",
      "    from sklearn.linear_model import LinearRegression\n",
      "except:\n",
      "    pass\n",
      "\n",
      "try:\n",
      "    from sklearn.ensemble import IsolationForest\n",
      "except:\n",
      "    pass\n",
      "\n",
      "try:\n",
      "    from sklearn.metrics import mean_absolute_error\n",
      "except:\n",
      "    pass\n",
      "\n",
      "try:\n",
      "    from sklearn.feature_selection import SelectKBest\n",
      "except:\n",
      "    pass\n",
      "\n",
      "try:\n",
      "    from sklearn.feature_selection import chi2\n",
      "except:\n",
      "    pass\n",
      "\n",
      "try:\n",
      "    from sklearn.ensemble import ExtraTreesClassifier\n",
      "except:\n",
      "    pass\n",
      "\n",
      "try:\n",
      "    import matplotlib.pyplot as plt\n",
      "except:\n",
      "    pass\n",
      "\n",
      "try:\n",
      "    import seaborn as sns\n",
      "except:\n",
      "    pass\n",
      "\n",
      "try:\n",
      "    from sklearn.feature_selection import mutual_info_classif\n",
      "except:\n",
      "    pass\n",
      "\n",
      "try:\n",
      "    import pandas as pd\n",
      "except:\n",
      "    pass\n",
      "\n",
      "try:\n",
      "    import numpy as np\n",
      "except:\n",
      "    pass\n",
      "\n",
      "try:\n",
      "    import itertools\n",
      "except:\n",
      "    pass\n",
      "\n",
      "try:\n",
      "    from sklearn import metrics\n",
      "except:\n",
      "    pass\n",
      "\n",
      "try:\n",
      "    from sklearn.metrics import confusion_matrix\n",
      "except:\n",
      "    pass\n",
      "\n",
      "try:\n",
      "    from tensorflow.keras.preprocessing.image import ImageDataGenerator, img_to_array, load_img\n",
      "except:\n",
      "    pass\n",
      "\n",
      "try:\n",
      "    from tensorflow.keras.models import Sequential\n",
      "except:\n",
      "    pass\n",
      "\n",
      "try:\n",
      "    from tensorflow.keras.layers import Conv2D, Flatten, Dropout, Dense\n",
      "except:\n",
      "    pass\n",
      "\n",
      "try:\n",
      "    from tensorflow.keras.optimizers import Adam\n",
      "except:\n",
      "    pass\n",
      "\n",
      "try:\n",
      "    from tensorflow import keras\n",
      "except:\n",
      "    pass\n",
      "\n",
      "try:\n",
      "    from tensorflow.keras import layers\n",
      "except:\n",
      "    pass\n",
      "\n",
      "try:\n",
      "    import numpy as np\n",
      "except:\n",
      "    pass\n",
      "\n",
      "try:\n",
      "    import pandas as pd\n",
      "except:\n",
      "    pass\n",
      "\n",
      "try:\n",
      "    from sklearn.model_selection import train_test_split\n",
      "except:\n",
      "    pass\n",
      "\n",
      "try:\n",
      "    from sklearn.preprocessing import StandardScaler, LabelEncoder\n",
      "except:\n",
      "    pass\n",
      "\n",
      "try:\n",
      "    from sklearn.metrics import log_loss\n",
      "except:\n",
      "    pass\n",
      "\n",
      "try:\n",
      "    import tensorflow as tf\n",
      "except:\n",
      "    pass\n",
      "\n",
      "try:\n",
      "    from tensorflow import keras\n",
      "except:\n",
      "    pass\n",
      "\n",
      "try:\n",
      "    from keras import Sequential\n",
      "except:\n",
      "    pass\n",
      "\n",
      "try:\n",
      "    from keras.layers import Input, Dense, Dropout, Activation\n",
      "except:\n",
      "    pass\n",
      "\n",
      "try:\n",
      "    from hyperopt import tpe, STATUS_OK, Trials\n",
      "except:\n",
      "    pass\n",
      "\n",
      "try:\n",
      "    from hyperas import optim\n",
      "except:\n",
      "    pass\n",
      "\n",
      "try:\n",
      "    from hyperas.distributions import choice, uniform\n",
      "except:\n",
      "    pass\n",
      "\n",
      "try:\n",
      "    import keras\n",
      "except:\n",
      "    pass\n",
      "\n",
      "try:\n",
      "    from keras.models import Sequential\n",
      "except:\n",
      "    pass\n",
      "\n",
      "try:\n",
      "    from keras.layers import Dense\n",
      "except:\n",
      "    pass\n",
      "\n",
      "try:\n",
      "    from keras.layers import LeakyReLU, PReLU, ELU\n",
      "except:\n",
      "    pass\n",
      "\n",
      "try:\n",
      "    from keras.layers import Dropout\n",
      "except:\n",
      "    pass\n",
      "\n",
      "try:\n",
      "    from keras import models\n",
      "except:\n",
      "    pass\n",
      "\n",
      "try:\n",
      "    from keras.layers.core import Dense, Dropout, Activation\n",
      "except:\n",
      "    pass\n",
      "\n",
      "try:\n",
      "    from hyperas import optim\n",
      "except:\n",
      "    pass\n",
      "\n",
      "try:\n",
      "    from hyperas.distributions import choice, uniform\n",
      "except:\n",
      "    pass\n",
      "\n",
      "try:\n",
      "    from hyperopt import fmin, tpe, hp, STATUS_OK, Trials\n",
      "except:\n",
      "    pass\n",
      "\n",
      "try:\n",
      "    from sklearn.metrics import roc_auc_score\n",
      "except:\n",
      "    pass\n",
      "\n",
      "try:\n",
      "    import sys\n",
      "except:\n",
      "    pass\n",
      "\n",
      "try:\n",
      "    from keras.layers.advanced_activations import LeakyReLU\n",
      "except:\n",
      "    pass\n",
      "\n",
      "try:\n",
      "    from pydrive.auth import GoogleAuth\n",
      "except:\n",
      "    pass\n",
      "\n",
      "try:\n",
      "    from pydrive.drive import GoogleDrive\n",
      "except:\n",
      "    pass\n",
      "\n",
      "try:\n",
      "    from google.colab import auth\n",
      "except:\n",
      "    pass\n",
      "\n",
      "try:\n",
      "    from oauth2client.client import GoogleCredentials\n",
      "except:\n",
      "    pass\n",
      "\n",
      "try:\n",
      "    from tpot import TPOTClassifier\n",
      "except:\n",
      "    pass\n",
      "\n",
      ">>> Hyperas search space:\n",
      "\n",
      "def get_space():\n",
      "    return {\n",
      "        'Dense': hp.choice('Dense', [20, 30, 40]),\n",
      "        'alpha': hp.uniform('alpha', 0.5, 1),\n",
      "        'alpha_1': hp.uniform('alpha_1', 0.5, 1),\n",
      "        'Dense_1': hp.choice('Dense_1', [10, 20, 30]),\n",
      "        'alpha_2': hp.uniform('alpha_2', 0.5, 1),\n",
      "        'alpha_3': hp.uniform('alpha_3', 0.5, 1),\n",
      "        'alpha_4': hp.choice('alpha_4', [\"a\", \"b\"]),\n",
      "        'alpha_5': hp.uniform('alpha_5', 0.5, 1),\n",
      "        'Activation': hp.choice('Activation', [\"sigmoid\", \"softmax\"]),\n",
      "        'learning_rate': hp.choice('learning_rate', [0.1, 0.001, 0.01, 3e-4]),\n",
      "    }\n",
      "\n",
      ">>> Data\n",
      "   1: \n",
      "   2: global test\n",
      "   3: # Importing data\n",
      "   4: train = pd.read_csv(\"/content/train.csv\")\n",
      "   5: test = pd.read_csv(\"/content/test.csv\")\n",
      "   6: \n",
      "   7: # Dropping unnecessary columns in both test and training sets\n",
      "   8: train = train.drop(\"ID\", axis=1)\n",
      "   9: test = test.drop([\"Loan Status\", \"ID\"], axis=1)\n",
      "  10: train = train.drop(columns = ['Inquires - six months','Delinquency - two years','Total Received Late Fee','Sub Grade','Interest Rate','Collection 12 months Medical','Accounts Delinquent','Total Collection Amount','Total Revolving Credit Limit'])\n",
      "  11: test = test.drop(columns = ['Inquires - six months','Delinquency - two years','Total Received Late Fee','Sub Grade','Interest Rate','Collection 12 months Medical','Accounts Delinquent','Total Collection Amount','Total Revolving Credit Limit'])\n",
      "  12: # Let's split the data into features and target variables\n",
      "  13: X = train.drop(\"Loan Status\", axis=1)\n",
      "  14: y = train[\"Loan Status\"]\n",
      "  15: \n",
      "  16: # Splitting the data into training and validation sets\n",
      "  17: X_train, X_test, y_train, y_test = train_test_split(X, y, test_size=0.2, random_state=42)\n",
      "  18: \n",
      "  19: \n",
      "  20: # Converting non- numerical columns into numerica Columns\n",
      "  21: for label, content in X_train.items():\n",
      "  22:   if not pd.api.types.is_numeric_dtype(content):\n",
      "  23:     encoder = LabelEncoder()\n",
      "  24:     X_train[label] = encoder.fit_transform(X_train[label])\n",
      "  25:     X_test[label] = encoder.transform(X_test[label])\n",
      "  26:     test[label] = encoder.transform(test[label])\n",
      "  27: \n",
      "  28: # Now we scale the data\n",
      "  29: scaler = StandardScaler()\n",
      "  30: X_train = scaler.fit_transform(X_train)\n",
      "  31: X_test = scaler.transform(X_test)\n",
      "  32: test = scaler.transform(test)\n",
      "  33: \n",
      "  34: \n",
      "  35: \n",
      "  36: \n",
      ">>> Resulting replaced keras model:\n",
      "\n",
      "   1: def keras_fmin_fnct(space):\n",
      "   2: \n",
      "   3:   # Set random seed\n",
      "   4: \n",
      "   5:   tf.random.set_seed(42)\n",
      "   6: \n",
      "   7:   # Create a model\n",
      "   8:   model = Sequential()\n",
      "   9:   model.add(Input(shape=X_train[0].shape))\n",
      "  10:   model.add(Dense(space['Dense']))\n",
      "  11:   model.add(LeakyReLU(alpha=space['alpha']))\n",
      "  12:   model.add(Dropout(space['alpha_1']))\n",
      "  13:   model.add(Dense(space['Dense_1']))\n",
      "  14:   model.add(LeakyReLU(alpha=space['alpha_2']))\n",
      "  15:   model.add(Dropout(space['alpha_3']))\n",
      "  16: \n",
      "  17:   # Let's add another layer according to choice\n",
      "  18:   if space['alpha_4'] == \"b\":\n",
      "  19:     model.add(Dense(5, activation=\"relu\"))\n",
      "  20:     model.add(Dropout(space['alpha_5']))\n",
      "  21: \n",
      "  22:   # Let's add the final layer\n",
      "  23:   model.add(Dense(1))\n",
      "  24:   model.add(Activation(space['Activation']))\n",
      "  25: \n",
      "  26:   # let's compile the model\n",
      "  27:   model.compile(loss=\"binary_crossentropy\",\n",
      "  28:                 optimizer=tf.keras.optimizers.Adam(learning_rate=space['learning_rate']),\n",
      "  29:                 metrics=[\"accuracy\"])\n",
      "  30:   \n",
      "  31:   # Fit the model\n",
      "  32:   model.fit(X_train, y_train,\n",
      "  33:             validation_data=(X_test, y_test),\n",
      "  34:             epochs=100,\n",
      "  35:             callbacks=[tf.keras.callbacks.EarlyStopping(patience=10)], verbose=0)\n",
      "  36:   \n",
      "  37:   # Evaluate our model\n",
      "  38:   loss, acc = model.evaluate(X_test, y_test, verbose=0)\n",
      "  39:   print(\"Validation accuracy :\", acc)\n",
      "  40: \n",
      "  41:   return {\"loss\" : -acc, \"model\" : model, 'status' : STATUS_OK}\n",
      "  42: \n",
      "Validation accuracy :\n",
      "0.9097309708595276\n",
      "Validation accuracy :\n",
      "0.8960942625999451\n",
      "Validation accuracy :\n",
      "0.9097309708595276\n",
      "Validation accuracy :\n",
      "0.09026902914047241\n",
      "Validation accuracy :\n",
      "0.09026902914047241\n",
      "100%|██████████| 5/5 [16:32<00:00, 198.47s/it, best loss: -0.9097309708595276]\n"
     ]
    }
   ],
   "source": [
    "best_run, best_model = optim.minimize(model=model,\n",
    "                                          data=data,\n",
    "                                          max_evals=5,\n",
    "                                          algo=tpe.suggest,\n",
    "                                          notebook_name='predicttheloanstatusann2', # This is important!\n",
    "                                          trials=Trials())"
   ]
  },
  {
   "cell_type": "code",
   "execution_count": 140,
   "id": "cffd9a7b",
   "metadata": {
    "colab": {
     "base_uri": "https://localhost:8080/"
    },
    "id": "cffd9a7b",
    "outputId": "1c7fe96f-d633-4054-8084-3da021d1c319"
   },
   "outputs": [
    {
     "data": {
      "text/plain": [
       "0.303267234873822"
      ]
     },
     "execution_count": 140,
     "metadata": {},
     "output_type": "execute_result"
    }
   ],
   "source": [
    "log_loss(y_test, best_model.predict(X_test))"
   ]
  },
  {
   "cell_type": "code",
   "execution_count": 141,
   "id": "62cd1f02",
   "metadata": {
    "colab": {
     "base_uri": "https://localhost:8080/"
    },
    "id": "62cd1f02",
    "outputId": "8301eded-0341-476e-9275-0491b3405a1e"
   },
   "outputs": [
    {
     "data": {
      "text/plain": [
       "{'Activation': 0,\n",
       " 'Dense': 1,\n",
       " 'Dense_1': 1,\n",
       " 'alpha': 0.5089093075686137,\n",
       " 'alpha_1': 0.9225149382369955,\n",
       " 'alpha_2': 0.8054381546406179,\n",
       " 'alpha_3': 0.8685849187307607,\n",
       " 'alpha_4': 0,\n",
       " 'alpha_5': 0.6064002165637792,\n",
       " 'learning_rate': 2}"
      ]
     },
     "execution_count": 141,
     "metadata": {},
     "output_type": "execute_result"
    }
   ],
   "source": [
    "best_run"
   ]
  },
  {
   "cell_type": "code",
   "execution_count": 146,
   "id": "Y7ONWcmDyIqq",
   "metadata": {
    "id": "Y7ONWcmDyIqq"
   },
   "outputs": [],
   "source": [
    "import numpy as np\n",
    "import pandas as pd\n",
    "import matplotlib.pyplot as plt\n",
    "import seaborn as sns\n",
    "from sklearn.model_selection import train_test_split\n",
    "from sklearn.model_selection import cross_val_score\n",
    "from keras.models import Sequential\n",
    "from keras.layers import Dense, BatchNormalization, Dropout\n",
    "from tensorflow.keras.optimizers import Adam, SGD, RMSprop, Adadelta, Adagrad, Adamax, Nadam, Ftrl\n",
    "from keras.callbacks import EarlyStopping, ModelCheckpoint\n",
    "from keras.wrappers.scikit_learn import KerasClassifier\n",
    "from math import floor\n",
    "from sklearn.metrics import make_scorer, accuracy_score\n",
    "from bayes_opt import BayesianOptimization\n",
    "from sklearn.model_selection import StratifiedKFold\n",
    "from keras.layers import LeakyReLU\n",
    "LeakyReLU = LeakyReLU(alpha=0.1)\n",
    "import warnings\n",
    "warnings.filterwarnings('ignore')\n",
    "pd.set_option(\"display.max_columns\", None)"
   ]
  },
  {
   "cell_type": "code",
   "execution_count": 147,
   "id": "DFcVY2dzyerf",
   "metadata": {
    "id": "DFcVY2dzyerf"
   },
   "outputs": [],
   "source": [
    "# Make scorer accuracy\n",
    "score_acc = make_scorer(accuracy_score)"
   ]
  },
  {
   "cell_type": "code",
   "execution_count": 162,
   "id": "7p6MxLvHyI5l",
   "metadata": {
    "id": "7p6MxLvHyI5l"
   },
   "outputs": [],
   "source": [
    "# Create function\n",
    "def nn_cl_bo2(neurons, activation, optimizer, learning_rate, batch_size, epochs,\n",
    "              layers1, layers2, normalization, dropout, dropout_rate):\n",
    "    optimizerL = ['SGD', 'Adam', 'RMSprop', 'Adadelta', 'Adagrad', 'Adamax', 'Nadam', 'Ftrl','SGD']\n",
    "    optimizerD= {'Adam':Adam(lr=learning_rate), 'SGD':SGD(lr=learning_rate),\n",
    "                 'RMSprop':RMSprop(lr=learning_rate), 'Adadelta':Adadelta(lr=learning_rate),\n",
    "                 'Adagrad':Adagrad(lr=learning_rate), 'Adamax':Adamax(lr=learning_rate),\n",
    "                 'Nadam':Nadam(lr=learning_rate), 'Ftrl':Ftrl(lr=learning_rate)}\n",
    "    activationL = ['relu', 'sigmoid', 'softplus', 'softsign', 'tanh', 'selu',\n",
    "                   'elu', 'exponential', LeakyReLU,'relu']\n",
    "    neurons = round(neurons)\n",
    "    activation = activationL[round(activation)]\n",
    "    optimizer = optimizerD[optimizerL[round(optimizer)]]\n",
    "    batch_size = round(batch_size)\n",
    "    epochs = round(epochs)\n",
    "    target = round(epochs)\n",
    "    layers1 = round(layers1)\n",
    "    layers2 = round(layers2)\n",
    "    def nn_cl_fun():\n",
    "        nn = Sequential()\n",
    "        nn.add(Dense(neurons, input_dim=24, activation=activation))\n",
    "        if normalization > 0.5:\n",
    "            nn.add(BatchNormalization())\n",
    "        for i in range(layers1):\n",
    "            nn.add(Dense(neurons, activation=activation))\n",
    "        if dropout > 0.5:\n",
    "            nn.add(Dropout(dropout_rate, seed=123))\n",
    "        for i in range(layers2):\n",
    "            nn.add(Dense(neurons, activation=activation))\n",
    "        nn.add(Dense(1, activation='sigmoid'))\n",
    "        nn.compile(loss='binary_crossentropy', optimizer=optimizer, metrics=['accuracy'])\n",
    "        return nn\n",
    "    es = EarlyStopping(monitor='accuracy', mode='max', verbose=0, patience=20)\n",
    "    nn = KerasClassifier(build_fn=nn_cl_fun, epochs=epochs, batch_size=batch_size, verbose=0)\n",
    "    kfold = StratifiedKFold(n_splits=5, shuffle=True, random_state=123)\n",
    "    score = cross_val_score(nn, X_train, y_train, scoring=score_acc, cv=kfold, fit_params={'callbacks':[es]}).mean()\n",
    "    return score\n"
   ]
  },
  {
   "cell_type": "code",
   "execution_count": 163,
   "id": "GisCf9Mo5Vdo",
   "metadata": {
    "colab": {
     "base_uri": "https://localhost:8080/"
    },
    "id": "GisCf9Mo5Vdo",
    "outputId": "3c3832c5-6fc4-4bec-a12c-ca89c815704b"
   },
   "outputs": [
    {
     "data": {
      "text/plain": [
       "{'activation': 'elu',\n",
       " 'batch_size': 335,\n",
       " 'dropout': 0.4360590193711702,\n",
       " 'dropout_rate': 0.23077874175693686,\n",
       " 'epochs': 44,\n",
       " 'layers1': 1,\n",
       " 'layers2': 1,\n",
       " 'learning_rate': 0.42602224734191213,\n",
       " 'neurons': 31,\n",
       " 'normalization': 0.33765619188879237,\n",
       " 'optimizer': <keras.optimizer_v2.ftrl.Ftrl at 0x7fa2a668d750>}"
      ]
     },
     "execution_count": 163,
     "metadata": {},
     "output_type": "execute_result"
    }
   ],
   "source": [
    "params_nn_ = nn_bo.max['params']\n",
    "learning_rate = params_nn_['learning_rate']\n",
    "activationL = ['relu', 'sigmoid', 'softplus', 'softsign', 'tanh', 'selu',\n",
    "               'elu', 'exponential', 'LeakyReLU','relu']\n",
    "params_nn_['activation'] = activationL[round(params_nn_['activation'])]\n",
    "params_nn_['batch_size'] = round(params_nn_['batch_size'])\n",
    "params_nn_['epochs'] = round(params_nn_['epochs'])\n",
    "params_nn_['layers1'] = round(params_nn_['layers1'])\n",
    "params_nn_['layers2'] = round(params_nn_['layers2'])\n",
    "params_nn_['neurons'] = round(params_nn_['neurons'])\n",
    "optimizerL = ['Adam', 'SGD', 'RMSprop', 'Adadelta', 'Adagrad', 'Adamax', 'Nadam', 'Ftrl','Adam']\n",
    "optimizerD= {'Adam':Adam(lr=learning_rate), 'SGD':SGD(lr=learning_rate),\n",
    "             'RMSprop':RMSprop(lr=learning_rate), 'Adadelta':Adadelta(lr=learning_rate),\n",
    "             'Adagrad':Adagrad(lr=learning_rate), 'Adamax':Adamax(lr=learning_rate),\n",
    "             'Nadam':Nadam(lr=learning_rate), 'Ftrl':Ftrl(lr=learning_rate)}\n",
    "params_nn_['optimizer'] = optimizerD[optimizerL[round(params_nn_['optimizer'])]]\n",
    "params_nn_"
   ]
  },
  {
   "cell_type": "code",
   "execution_count": 164,
   "id": "k_3SgSLOF-Qi",
   "metadata": {
    "colab": {
     "base_uri": "https://localhost:8080/"
    },
    "id": "k_3SgSLOF-Qi",
    "outputId": "64724305-f5ab-4463-d957-6c07a7c1f69e"
   },
   "outputs": [
    {
     "name": "stdout",
     "output_type": "stream",
     "text": [
      "Epoch 1/150\n",
      "1687/1687 [==============================] - 9s 5ms/step - loss: 0.3373 - accuracy: 0.9014 - val_loss: 0.3100 - val_accuracy: 0.9097\n",
      "Epoch 2/150\n",
      "1687/1687 [==============================] - 8s 5ms/step - loss: 0.3197 - accuracy: 0.9069 - val_loss: 0.3065 - val_accuracy: 0.9097\n",
      "Epoch 3/150\n",
      "1687/1687 [==============================] - 8s 5ms/step - loss: 0.3167 - accuracy: 0.9069 - val_loss: 0.3063 - val_accuracy: 0.9097\n",
      "Epoch 4/150\n",
      "1687/1687 [==============================] - 9s 5ms/step - loss: 0.3146 - accuracy: 0.9069 - val_loss: 0.3056 - val_accuracy: 0.9097\n",
      "Epoch 5/150\n",
      "1687/1687 [==============================] - 8s 5ms/step - loss: 0.3139 - accuracy: 0.9069 - val_loss: 0.3048 - val_accuracy: 0.9097\n",
      "Epoch 6/150\n",
      "1687/1687 [==============================] - 9s 5ms/step - loss: 0.3134 - accuracy: 0.9069 - val_loss: 0.3054 - val_accuracy: 0.9097\n",
      "Epoch 7/150\n",
      "1687/1687 [==============================] - 9s 5ms/step - loss: 0.3128 - accuracy: 0.9069 - val_loss: 0.3053 - val_accuracy: 0.9097\n",
      "Epoch 8/150\n",
      "1687/1687 [==============================] - 8s 5ms/step - loss: 0.3115 - accuracy: 0.9069 - val_loss: 0.3036 - val_accuracy: 0.9097\n",
      "Epoch 9/150\n",
      "1687/1687 [==============================] - 8s 5ms/step - loss: 0.3113 - accuracy: 0.9069 - val_loss: 0.3037 - val_accuracy: 0.9097\n",
      "Epoch 10/150\n",
      "1687/1687 [==============================] - 8s 5ms/step - loss: 0.3111 - accuracy: 0.9069 - val_loss: 0.3036 - val_accuracy: 0.9097\n",
      "Epoch 11/150\n",
      "1687/1687 [==============================] - 9s 5ms/step - loss: 0.3109 - accuracy: 0.9069 - val_loss: 0.3046 - val_accuracy: 0.9097\n",
      "Epoch 12/150\n",
      "1687/1687 [==============================] - 9s 5ms/step - loss: 0.3112 - accuracy: 0.9069 - val_loss: 0.3045 - val_accuracy: 0.9097\n",
      "Epoch 13/150\n",
      "1687/1687 [==============================] - 9s 5ms/step - loss: 0.3109 - accuracy: 0.9069 - val_loss: 0.3033 - val_accuracy: 0.9097\n",
      "Epoch 14/150\n",
      "1687/1687 [==============================] - 9s 5ms/step - loss: 0.3105 - accuracy: 0.9069 - val_loss: 0.3047 - val_accuracy: 0.9097\n",
      "Epoch 15/150\n",
      "1687/1687 [==============================] - 9s 5ms/step - loss: 0.3103 - accuracy: 0.9069 - val_loss: 0.3035 - val_accuracy: 0.9097\n",
      "Epoch 16/150\n",
      "1687/1687 [==============================] - 8s 5ms/step - loss: 0.3105 - accuracy: 0.9069 - val_loss: 0.3035 - val_accuracy: 0.9097\n",
      "Epoch 17/150\n",
      "1687/1687 [==============================] - 9s 5ms/step - loss: 0.3103 - accuracy: 0.9069 - val_loss: 0.3039 - val_accuracy: 0.9097\n",
      "Epoch 18/150\n",
      "1687/1687 [==============================] - 9s 5ms/step - loss: 0.3102 - accuracy: 0.9069 - val_loss: 0.3034 - val_accuracy: 0.9097\n",
      "Epoch 19/150\n",
      "1687/1687 [==============================] - 9s 5ms/step - loss: 0.3100 - accuracy: 0.9069 - val_loss: 0.3036 - val_accuracy: 0.9097\n",
      "Epoch 20/150\n",
      "1687/1687 [==============================] - 9s 5ms/step - loss: 0.3097 - accuracy: 0.9069 - val_loss: 0.3044 - val_accuracy: 0.9097\n",
      "Epoch 21/150\n",
      "1687/1687 [==============================] - 9s 5ms/step - loss: 0.3101 - accuracy: 0.9069 - val_loss: 0.3034 - val_accuracy: 0.9097\n",
      "Epoch 22/150\n",
      "1687/1687 [==============================] - 9s 5ms/step - loss: 0.3097 - accuracy: 0.9069 - val_loss: 0.3039 - val_accuracy: 0.9097\n",
      "Epoch 23/150\n",
      "1687/1687 [==============================] - 9s 5ms/step - loss: 0.3099 - accuracy: 0.9069 - val_loss: 0.3034 - val_accuracy: 0.9097\n",
      "Epoch 24/150\n",
      "1687/1687 [==============================] - 9s 5ms/step - loss: 0.3091 - accuracy: 0.9069 - val_loss: 0.3036 - val_accuracy: 0.9097\n",
      "Epoch 25/150\n",
      "1687/1687 [==============================] - 9s 5ms/step - loss: 0.3098 - accuracy: 0.9069 - val_loss: 0.3039 - val_accuracy: 0.9097\n",
      "Epoch 26/150\n",
      "1687/1687 [==============================] - 9s 5ms/step - loss: 0.3101 - accuracy: 0.9069 - val_loss: 0.3043 - val_accuracy: 0.9097\n",
      "Epoch 27/150\n",
      "1687/1687 [==============================] - 9s 5ms/step - loss: 0.3090 - accuracy: 0.9069 - val_loss: 0.3035 - val_accuracy: 0.9097\n",
      "Epoch 28/150\n",
      "1687/1687 [==============================] - 9s 5ms/step - loss: 0.3092 - accuracy: 0.9069 - val_loss: 0.3042 - val_accuracy: 0.9097\n",
      "Epoch 29/150\n",
      "1687/1687 [==============================] - 9s 5ms/step - loss: 0.3095 - accuracy: 0.9069 - val_loss: 0.3046 - val_accuracy: 0.9097\n",
      "Epoch 30/150\n",
      "1687/1687 [==============================] - 9s 5ms/step - loss: 0.3094 - accuracy: 0.9070 - val_loss: 0.3052 - val_accuracy: 0.9097\n",
      "Epoch 31/150\n",
      "1687/1687 [==============================] - 9s 5ms/step - loss: 0.3092 - accuracy: 0.9069 - val_loss: 0.3036 - val_accuracy: 0.9097\n",
      "Epoch 32/150\n",
      "1687/1687 [==============================] - 9s 5ms/step - loss: 0.3093 - accuracy: 0.9069 - val_loss: 0.3035 - val_accuracy: 0.9097\n",
      "Epoch 33/150\n",
      "1687/1687 [==============================] - 9s 5ms/step - loss: 0.3087 - accuracy: 0.9069 - val_loss: 0.3037 - val_accuracy: 0.9097\n",
      "Epoch 34/150\n",
      "1687/1687 [==============================] - 8s 5ms/step - loss: 0.3086 - accuracy: 0.9069 - val_loss: 0.3051 - val_accuracy: 0.9097\n",
      "Epoch 35/150\n",
      "1687/1687 [==============================] - 9s 5ms/step - loss: 0.3092 - accuracy: 0.9069 - val_loss: 0.3047 - val_accuracy: 0.9097\n",
      "Epoch 36/150\n",
      "1687/1687 [==============================] - 9s 5ms/step - loss: 0.3092 - accuracy: 0.9069 - val_loss: 0.3036 - val_accuracy: 0.9097\n",
      "Epoch 37/150\n",
      "1687/1687 [==============================] - 9s 5ms/step - loss: 0.3090 - accuracy: 0.9069 - val_loss: 0.3039 - val_accuracy: 0.9097\n",
      "Epoch 38/150\n",
      "1687/1687 [==============================] - 9s 5ms/step - loss: 0.3085 - accuracy: 0.9069 - val_loss: 0.3043 - val_accuracy: 0.9097\n",
      "Epoch 39/150\n",
      "1687/1687 [==============================] - 8s 5ms/step - loss: 0.3087 - accuracy: 0.9069 - val_loss: 0.3049 - val_accuracy: 0.9097\n",
      "Epoch 40/150\n",
      "1687/1687 [==============================] - 9s 5ms/step - loss: 0.3084 - accuracy: 0.9069 - val_loss: 0.3045 - val_accuracy: 0.9097\n",
      "Epoch 41/150\n",
      "1687/1687 [==============================] - 9s 5ms/step - loss: 0.3088 - accuracy: 0.9069 - val_loss: 0.3050 - val_accuracy: 0.9097\n",
      "Epoch 42/150\n",
      "1687/1687 [==============================] - 9s 5ms/step - loss: 0.3086 - accuracy: 0.9069 - val_loss: 0.3045 - val_accuracy: 0.9097\n",
      "Epoch 43/150\n",
      "1687/1687 [==============================] - 9s 5ms/step - loss: 0.3085 - accuracy: 0.9069 - val_loss: 0.3043 - val_accuracy: 0.9097\n",
      "Epoch 44/150\n",
      "1687/1687 [==============================] - 9s 5ms/step - loss: 0.3083 - accuracy: 0.9069 - val_loss: 0.3056 - val_accuracy: 0.9097\n",
      "Epoch 45/150\n",
      "1687/1687 [==============================] - 9s 5ms/step - loss: 0.3080 - accuracy: 0.9069 - val_loss: 0.3053 - val_accuracy: 0.9097\n",
      "Epoch 46/150\n",
      "1687/1687 [==============================] - 9s 5ms/step - loss: 0.3084 - accuracy: 0.9069 - val_loss: 0.3051 - val_accuracy: 0.9097\n",
      "Epoch 47/150\n",
      "1687/1687 [==============================] - 9s 5ms/step - loss: 0.3076 - accuracy: 0.9069 - val_loss: 0.3047 - val_accuracy: 0.9097\n",
      "Epoch 48/150\n",
      "1687/1687 [==============================] - 9s 5ms/step - loss: 0.3080 - accuracy: 0.9069 - val_loss: 0.3045 - val_accuracy: 0.9097\n",
      "Epoch 49/150\n",
      "1687/1687 [==============================] - 9s 5ms/step - loss: 0.3079 - accuracy: 0.9069 - val_loss: 0.3050 - val_accuracy: 0.9097\n",
      "Epoch 50/150\n",
      "1687/1687 [==============================] - 9s 5ms/step - loss: 0.3078 - accuracy: 0.9069 - val_loss: 0.3046 - val_accuracy: 0.9097\n",
      "Epoch 51/150\n",
      "1687/1687 [==============================] - 9s 5ms/step - loss: 0.3079 - accuracy: 0.9069 - val_loss: 0.3047 - val_accuracy: 0.9097\n",
      "Epoch 52/150\n",
      "1687/1687 [==============================] - 9s 5ms/step - loss: 0.3075 - accuracy: 0.9069 - val_loss: 0.3055 - val_accuracy: 0.9097\n",
      "Epoch 53/150\n",
      "1687/1687 [==============================] - 9s 5ms/step - loss: 0.3073 - accuracy: 0.9069 - val_loss: 0.3048 - val_accuracy: 0.9097\n",
      "Epoch 54/150\n",
      "1687/1687 [==============================] - 9s 5ms/step - loss: 0.3075 - accuracy: 0.9069 - val_loss: 0.3051 - val_accuracy: 0.9097\n",
      "Epoch 55/150\n",
      "1687/1687 [==============================] - 9s 5ms/step - loss: 0.3075 - accuracy: 0.9069 - val_loss: 0.3059 - val_accuracy: 0.9097\n",
      "Epoch 56/150\n",
      "1687/1687 [==============================] - 9s 5ms/step - loss: 0.3078 - accuracy: 0.9069 - val_loss: 0.3052 - val_accuracy: 0.9097\n",
      "Epoch 57/150\n",
      "1687/1687 [==============================] - 9s 5ms/step - loss: 0.3069 - accuracy: 0.9069 - val_loss: 0.3058 - val_accuracy: 0.9097\n",
      "Epoch 58/150\n",
      "1687/1687 [==============================] - 9s 5ms/step - loss: 0.3072 - accuracy: 0.9069 - val_loss: 0.3064 - val_accuracy: 0.9097\n",
      "Epoch 59/150\n",
      "1687/1687 [==============================] - 9s 5ms/step - loss: 0.3075 - accuracy: 0.9069 - val_loss: 0.3087 - val_accuracy: 0.9097\n",
      "Epoch 60/150\n",
      "1687/1687 [==============================] - 8s 5ms/step - loss: 0.3072 - accuracy: 0.9069 - val_loss: 0.3060 - val_accuracy: 0.9097\n",
      "Epoch 61/150\n",
      "1687/1687 [==============================] - 9s 5ms/step - loss: 0.3073 - accuracy: 0.9069 - val_loss: 0.3060 - val_accuracy: 0.9097\n",
      "Epoch 62/150\n",
      "1687/1687 [==============================] - 9s 5ms/step - loss: 0.3072 - accuracy: 0.9069 - val_loss: 0.3063 - val_accuracy: 0.9097\n",
      "Epoch 63/150\n",
      "1687/1687 [==============================] - 9s 5ms/step - loss: 0.3069 - accuracy: 0.9069 - val_loss: 0.3071 - val_accuracy: 0.9097\n",
      "Epoch 64/150\n",
      "1687/1687 [==============================] - 9s 5ms/step - loss: 0.3074 - accuracy: 0.9070 - val_loss: 0.3061 - val_accuracy: 0.9097\n",
      "Epoch 65/150\n",
      "1687/1687 [==============================] - 9s 5ms/step - loss: 0.3070 - accuracy: 0.9069 - val_loss: 0.3052 - val_accuracy: 0.9097\n",
      "Epoch 66/150\n",
      "1687/1687 [==============================] - 9s 5ms/step - loss: 0.3073 - accuracy: 0.9070 - val_loss: 0.3057 - val_accuracy: 0.9097\n",
      "Epoch 67/150\n",
      "1687/1687 [==============================] - 9s 5ms/step - loss: 0.3064 - accuracy: 0.9069 - val_loss: 0.3057 - val_accuracy: 0.9097\n",
      "Epoch 68/150\n",
      "1687/1687 [==============================] - 9s 5ms/step - loss: 0.3068 - accuracy: 0.9069 - val_loss: 0.3062 - val_accuracy: 0.9097\n",
      "Epoch 69/150\n",
      "1687/1687 [==============================] - 8s 5ms/step - loss: 0.3067 - accuracy: 0.9069 - val_loss: 0.3059 - val_accuracy: 0.9097\n",
      "Epoch 70/150\n",
      "1687/1687 [==============================] - 9s 5ms/step - loss: 0.3073 - accuracy: 0.9070 - val_loss: 0.3050 - val_accuracy: 0.9097\n",
      "Epoch 71/150\n",
      "1687/1687 [==============================] - 9s 5ms/step - loss: 0.3066 - accuracy: 0.9069 - val_loss: 0.3070 - val_accuracy: 0.9097\n",
      "Epoch 72/150\n",
      "1687/1687 [==============================] - 9s 5ms/step - loss: 0.3065 - accuracy: 0.9069 - val_loss: 0.3063 - val_accuracy: 0.9097\n",
      "Epoch 73/150\n",
      "1687/1687 [==============================] - 9s 5ms/step - loss: 0.3064 - accuracy: 0.9069 - val_loss: 0.3060 - val_accuracy: 0.9097\n",
      "Epoch 74/150\n",
      "1687/1687 [==============================] - 9s 5ms/step - loss: 0.3065 - accuracy: 0.9068 - val_loss: 0.3054 - val_accuracy: 0.9097\n",
      "Epoch 75/150\n",
      "1687/1687 [==============================] - 9s 5ms/step - loss: 0.3060 - accuracy: 0.9070 - val_loss: 0.3069 - val_accuracy: 0.9097\n",
      "Epoch 76/150\n",
      "1687/1687 [==============================] - 9s 5ms/step - loss: 0.3057 - accuracy: 0.9070 - val_loss: 0.3064 - val_accuracy: 0.9097\n",
      "Epoch 77/150\n",
      "1687/1687 [==============================] - 9s 5ms/step - loss: 0.3061 - accuracy: 0.9069 - val_loss: 0.3075 - val_accuracy: 0.9097\n",
      "Epoch 78/150\n",
      "1687/1687 [==============================] - 9s 5ms/step - loss: 0.3063 - accuracy: 0.9069 - val_loss: 0.3070 - val_accuracy: 0.9097\n",
      "Epoch 79/150\n",
      "1687/1687 [==============================] - 9s 5ms/step - loss: 0.3058 - accuracy: 0.9068 - val_loss: 0.3065 - val_accuracy: 0.9097\n",
      "Epoch 80/150\n",
      "1687/1687 [==============================] - 9s 5ms/step - loss: 0.3059 - accuracy: 0.9069 - val_loss: 0.3066 - val_accuracy: 0.9097\n",
      "Epoch 81/150\n",
      "1687/1687 [==============================] - 9s 5ms/step - loss: 0.3055 - accuracy: 0.9068 - val_loss: 0.3067 - val_accuracy: 0.9097\n",
      "Epoch 82/150\n",
      "1687/1687 [==============================] - 9s 5ms/step - loss: 0.3057 - accuracy: 0.9069 - val_loss: 0.3066 - val_accuracy: 0.9097\n",
      "Epoch 83/150\n",
      "1687/1687 [==============================] - 9s 5ms/step - loss: 0.3060 - accuracy: 0.9069 - val_loss: 0.3071 - val_accuracy: 0.9097\n",
      "Epoch 84/150\n",
      "1687/1687 [==============================] - 9s 5ms/step - loss: 0.3059 - accuracy: 0.9069 - val_loss: 0.3062 - val_accuracy: 0.9097\n",
      "Epoch 85/150\n",
      "1687/1687 [==============================] - 9s 5ms/step - loss: 0.3053 - accuracy: 0.9070 - val_loss: 0.3069 - val_accuracy: 0.9097\n",
      "Epoch 86/150\n",
      "1687/1687 [==============================] - 9s 5ms/step - loss: 0.3052 - accuracy: 0.9069 - val_loss: 0.3090 - val_accuracy: 0.9097\n",
      "Epoch 87/150\n",
      "1687/1687 [==============================] - 9s 5ms/step - loss: 0.3054 - accuracy: 0.9069 - val_loss: 0.3066 - val_accuracy: 0.9097\n",
      "Epoch 88/150\n",
      "1687/1687 [==============================] - 9s 5ms/step - loss: 0.3052 - accuracy: 0.9069 - val_loss: 0.3069 - val_accuracy: 0.9097\n",
      "Epoch 89/150\n",
      "1687/1687 [==============================] - 9s 5ms/step - loss: 0.3053 - accuracy: 0.9070 - val_loss: 0.3059 - val_accuracy: 0.9097\n",
      "Epoch 90/150\n",
      "1687/1687 [==============================] - 9s 5ms/step - loss: 0.3047 - accuracy: 0.9070 - val_loss: 0.3071 - val_accuracy: 0.9097\n",
      "Epoch 91/150\n",
      "1687/1687 [==============================] - 9s 5ms/step - loss: 0.3050 - accuracy: 0.9069 - val_loss: 0.3073 - val_accuracy: 0.9097\n",
      "Epoch 92/150\n",
      "1687/1687 [==============================] - 9s 5ms/step - loss: 0.3052 - accuracy: 0.9069 - val_loss: 0.3064 - val_accuracy: 0.9097\n",
      "Epoch 93/150\n",
      "1687/1687 [==============================] - 9s 5ms/step - loss: 0.3051 - accuracy: 0.9070 - val_loss: 0.3062 - val_accuracy: 0.9097\n",
      "Epoch 94/150\n",
      "1687/1687 [==============================] - 9s 5ms/step - loss: 0.3047 - accuracy: 0.9069 - val_loss: 0.3066 - val_accuracy: 0.9097\n",
      "Epoch 95/150\n",
      "1687/1687 [==============================] - 9s 5ms/step - loss: 0.3044 - accuracy: 0.9069 - val_loss: 0.3069 - val_accuracy: 0.9097\n",
      "Epoch 96/150\n",
      "1687/1687 [==============================] - 9s 5ms/step - loss: 0.3045 - accuracy: 0.9069 - val_loss: 0.3067 - val_accuracy: 0.9097\n",
      "Epoch 97/150\n",
      "1687/1687 [==============================] - 9s 5ms/step - loss: 0.3041 - accuracy: 0.9070 - val_loss: 0.3067 - val_accuracy: 0.9097\n",
      "Epoch 98/150\n",
      "1687/1687 [==============================] - 9s 5ms/step - loss: 0.3044 - accuracy: 0.9069 - val_loss: 0.3062 - val_accuracy: 0.9097\n",
      "Epoch 99/150\n",
      "1687/1687 [==============================] - 9s 5ms/step - loss: 0.3037 - accuracy: 0.9069 - val_loss: 0.3068 - val_accuracy: 0.9097\n",
      "Epoch 100/150\n",
      "1687/1687 [==============================] - 9s 5ms/step - loss: 0.3055 - accuracy: 0.9069 - val_loss: 0.3063 - val_accuracy: 0.9097\n",
      "Epoch 101/150\n",
      "1687/1687 [==============================] - 9s 5ms/step - loss: 0.3040 - accuracy: 0.9069 - val_loss: 0.3069 - val_accuracy: 0.9097\n",
      "Epoch 102/150\n",
      "1687/1687 [==============================] - 9s 5ms/step - loss: 0.3038 - accuracy: 0.9069 - val_loss: 0.3066 - val_accuracy: 0.9097\n",
      "Epoch 103/150\n",
      "1687/1687 [==============================] - 9s 5ms/step - loss: 0.3040 - accuracy: 0.9067 - val_loss: 0.3067 - val_accuracy: 0.9097\n",
      "Epoch 104/150\n",
      "1687/1687 [==============================] - 9s 5ms/step - loss: 0.3040 - accuracy: 0.9069 - val_loss: 0.3067 - val_accuracy: 0.9097\n",
      "Epoch 105/150\n",
      "1687/1687 [==============================] - 9s 5ms/step - loss: 0.3041 - accuracy: 0.9069 - val_loss: 0.3071 - val_accuracy: 0.9097\n",
      "Epoch 106/150\n",
      "1687/1687 [==============================] - 9s 5ms/step - loss: 0.3040 - accuracy: 0.9070 - val_loss: 0.3065 - val_accuracy: 0.9097\n",
      "Epoch 107/150\n",
      "1687/1687 [==============================] - 9s 5ms/step - loss: 0.3035 - accuracy: 0.9069 - val_loss: 0.3070 - val_accuracy: 0.9097\n",
      "Epoch 108/150\n",
      "1687/1687 [==============================] - 9s 5ms/step - loss: 0.3038 - accuracy: 0.9069 - val_loss: 0.3084 - val_accuracy: 0.9097\n",
      "Epoch 109/150\n",
      "1687/1687 [==============================] - 8s 5ms/step - loss: 0.3028 - accuracy: 0.9070 - val_loss: 0.3058 - val_accuracy: 0.9097\n",
      "Epoch 110/150\n",
      "1687/1687 [==============================] - 9s 5ms/step - loss: 0.3032 - accuracy: 0.9070 - val_loss: 0.3076 - val_accuracy: 0.9096\n",
      "Epoch 111/150\n",
      "1687/1687 [==============================] - 9s 5ms/step - loss: 0.3027 - accuracy: 0.9071 - val_loss: 0.3097 - val_accuracy: 0.9097\n",
      "Epoch 112/150\n",
      "1687/1687 [==============================] - 9s 5ms/step - loss: 0.3032 - accuracy: 0.9069 - val_loss: 0.3081 - val_accuracy: 0.9097\n",
      "Epoch 113/150\n",
      "1687/1687 [==============================] - 9s 5ms/step - loss: 0.3029 - accuracy: 0.9070 - val_loss: 0.3075 - val_accuracy: 0.9097\n",
      "Epoch 114/150\n",
      "1687/1687 [==============================] - 9s 5ms/step - loss: 0.3027 - accuracy: 0.9069 - val_loss: 0.3066 - val_accuracy: 0.9097\n",
      "Epoch 115/150\n",
      "1687/1687 [==============================] - 9s 5ms/step - loss: 0.3029 - accuracy: 0.9070 - val_loss: 0.3070 - val_accuracy: 0.9097\n",
      "Epoch 116/150\n",
      "1687/1687 [==============================] - 9s 5ms/step - loss: 0.3029 - accuracy: 0.9069 - val_loss: 0.3074 - val_accuracy: 0.9097\n",
      "Epoch 117/150\n",
      "1687/1687 [==============================] - 9s 6ms/step - loss: 0.3022 - accuracy: 0.9070 - val_loss: 0.3078 - val_accuracy: 0.9097\n",
      "Epoch 118/150\n",
      "1687/1687 [==============================] - 9s 6ms/step - loss: 0.3026 - accuracy: 0.9068 - val_loss: 0.3074 - val_accuracy: 0.9097\n",
      "Epoch 119/150\n",
      "1687/1687 [==============================] - 9s 5ms/step - loss: 0.3025 - accuracy: 0.9070 - val_loss: 0.3080 - val_accuracy: 0.9097\n",
      "Epoch 120/150\n",
      "1687/1687 [==============================] - 9s 5ms/step - loss: 0.3018 - accuracy: 0.9071 - val_loss: 0.3079 - val_accuracy: 0.9095\n",
      "Epoch 121/150\n",
      "1687/1687 [==============================] - 9s 5ms/step - loss: 0.3021 - accuracy: 0.9070 - val_loss: 0.3075 - val_accuracy: 0.9097\n",
      "Epoch 122/150\n",
      "1687/1687 [==============================] - 9s 5ms/step - loss: 0.3018 - accuracy: 0.9069 - val_loss: 0.3074 - val_accuracy: 0.9097\n",
      "Epoch 123/150\n",
      "1687/1687 [==============================] - 9s 5ms/step - loss: 0.3018 - accuracy: 0.9071 - val_loss: 0.3077 - val_accuracy: 0.9097\n",
      "Epoch 124/150\n",
      "1687/1687 [==============================] - 9s 5ms/step - loss: 0.3023 - accuracy: 0.9068 - val_loss: 0.3076 - val_accuracy: 0.9097\n",
      "Epoch 125/150\n",
      "1687/1687 [==============================] - 9s 5ms/step - loss: 0.3007 - accuracy: 0.9069 - val_loss: 0.3097 - val_accuracy: 0.9097\n",
      "Epoch 126/150\n",
      "1687/1687 [==============================] - 9s 5ms/step - loss: 0.3013 - accuracy: 0.9070 - val_loss: 0.3077 - val_accuracy: 0.9097\n",
      "Epoch 127/150\n",
      "1687/1687 [==============================] - 9s 5ms/step - loss: 0.3015 - accuracy: 0.9071 - val_loss: 0.3079 - val_accuracy: 0.9097\n",
      "Epoch 128/150\n",
      "1687/1687 [==============================] - 9s 5ms/step - loss: 0.3012 - accuracy: 0.9069 - val_loss: 0.3089 - val_accuracy: 0.9094\n",
      "Epoch 129/150\n",
      "1687/1687 [==============================] - 9s 5ms/step - loss: 0.3021 - accuracy: 0.9071 - val_loss: 0.3074 - val_accuracy: 0.9097\n",
      "Epoch 130/150\n",
      "1687/1687 [==============================] - 9s 5ms/step - loss: 0.3002 - accuracy: 0.9071 - val_loss: 0.3079 - val_accuracy: 0.9097\n",
      "Epoch 131/150\n",
      "1687/1687 [==============================] - 9s 5ms/step - loss: 0.3014 - accuracy: 0.9070 - val_loss: 0.3101 - val_accuracy: 0.9094\n",
      "Epoch 132/150\n",
      "1687/1687 [==============================] - 9s 5ms/step - loss: 0.3002 - accuracy: 0.9069 - val_loss: 0.3087 - val_accuracy: 0.9097\n",
      "Epoch 133/150\n",
      "1687/1687 [==============================] - 9s 5ms/step - loss: 0.3015 - accuracy: 0.9071 - val_loss: 0.3094 - val_accuracy: 0.9097\n",
      "Epoch 134/150\n",
      "1687/1687 [==============================] - 9s 5ms/step - loss: 0.3014 - accuracy: 0.9067 - val_loss: 0.3083 - val_accuracy: 0.9097\n",
      "Epoch 135/150\n",
      "1687/1687 [==============================] - 9s 5ms/step - loss: 0.3002 - accuracy: 0.9070 - val_loss: 0.3082 - val_accuracy: 0.9097\n",
      "Epoch 136/150\n",
      "1687/1687 [==============================] - 9s 5ms/step - loss: 0.3005 - accuracy: 0.9070 - val_loss: 0.3103 - val_accuracy: 0.9097\n",
      "Epoch 137/150\n",
      "1687/1687 [==============================] - 9s 6ms/step - loss: 0.3007 - accuracy: 0.9070 - val_loss: 0.3111 - val_accuracy: 0.9094\n",
      "Epoch 138/150\n",
      "1687/1687 [==============================] - 9s 6ms/step - loss: 0.2991 - accuracy: 0.9067 - val_loss: 0.3083 - val_accuracy: 0.9094\n",
      "Epoch 139/150\n",
      "1687/1687 [==============================] - 9s 6ms/step - loss: 0.2994 - accuracy: 0.9069 - val_loss: 0.3088 - val_accuracy: 0.9097\n",
      "Epoch 140/150\n",
      "1687/1687 [==============================] - 9s 6ms/step - loss: 0.3003 - accuracy: 0.9068 - val_loss: 0.3082 - val_accuracy: 0.9097\n",
      "Epoch 141/150\n",
      "1687/1687 [==============================] - 9s 5ms/step - loss: 0.3004 - accuracy: 0.9071 - val_loss: 0.3080 - val_accuracy: 0.9096\n",
      "Epoch 142/150\n",
      "1687/1687 [==============================] - 9s 5ms/step - loss: 0.2998 - accuracy: 0.9070 - val_loss: 0.3103 - val_accuracy: 0.9094\n",
      "Epoch 143/150\n",
      "1687/1687 [==============================] - 9s 5ms/step - loss: 0.2997 - accuracy: 0.9071 - val_loss: 0.3094 - val_accuracy: 0.9097\n",
      "Epoch 144/150\n",
      "1687/1687 [==============================] - 9s 6ms/step - loss: 0.2994 - accuracy: 0.9072 - val_loss: 0.3088 - val_accuracy: 0.9097\n",
      "Epoch 145/150\n",
      "1687/1687 [==============================] - 9s 6ms/step - loss: 0.2994 - accuracy: 0.9069 - val_loss: 0.3084 - val_accuracy: 0.9097\n",
      "Epoch 146/150\n",
      "1687/1687 [==============================] - 9s 5ms/step - loss: 0.2996 - accuracy: 0.9072 - val_loss: 0.3091 - val_accuracy: 0.9097\n",
      "Epoch 147/150\n",
      "1687/1687 [==============================] - 9s 5ms/step - loss: 0.2997 - accuracy: 0.9071 - val_loss: 0.3096 - val_accuracy: 0.9097\n",
      "Epoch 148/150\n",
      "1687/1687 [==============================] - 9s 5ms/step - loss: 0.2996 - accuracy: 0.9069 - val_loss: 0.3086 - val_accuracy: 0.9097\n",
      "Epoch 149/150\n",
      "1687/1687 [==============================] - 9s 5ms/step - loss: 0.2992 - accuracy: 0.9070 - val_loss: 0.3087 - val_accuracy: 0.9097\n",
      "Epoch 150/150\n",
      "1687/1687 [==============================] - 9s 5ms/step - loss: 0.2991 - accuracy: 0.9073 - val_loss: 0.3083 - val_accuracy: 0.9097\n"
     ]
    }
   ],
   "source": [
    "# Final model\n",
    "\n",
    "# Create a model\n",
    "final = Sequential([\n",
    "  Input(shape=X_train[0].shape),\n",
    "  Dense(335, activation=\"elu\"),\n",
    "  Dropout(0.4360590193711702),\n",
    "  Dense(335, activation=\"elu\"),\n",
    "  Dropout(0.23077874175693686),\n",
    "  Dense(1, activation=\"sigmoid\")\n",
    "])\n",
    "\n",
    "# Compile the model\n",
    "final.compile(loss=\"binary_crossentropy\",\n",
    "              optimizer=tf.keras.optimizers.Adam(learning_rate=3e-4, beta_1=0.9, beta_2=0.999, epsilon=1e-07, amsgrad=False, name='Adam'),\n",
    "              metrics=[\"accuracy\"])\n",
    "\n",
    "#Fit the model\n",
    "history =   final.fit(X_train, y_train, epochs=150,\n",
    "            validation_data=(X_test, y_test),\n",
    "            callbacks=[tf.keras.callbacks.EarlyStopping(patience=150)])"
   ]
  },
  {
   "cell_type": "code",
   "execution_count": 165,
   "id": "dgMktsscR7s5",
   "metadata": {
    "colab": {
     "base_uri": "https://localhost:8080/"
    },
    "id": "dgMktsscR7s5",
    "outputId": "e263f6f4-bb54-4f92-dd2d-76141d1968ab"
   },
   "outputs": [
    {
     "data": {
      "text/plain": [
       "(13493, 24)"
      ]
     },
     "execution_count": 165,
     "metadata": {},
     "output_type": "execute_result"
    }
   ],
   "source": [
    "X_test.shape"
   ]
  },
  {
   "cell_type": "code",
   "execution_count": 167,
   "id": "jVVyZ-iiaanj",
   "metadata": {
    "colab": {
     "base_uri": "https://localhost:8080/"
    },
    "id": "jVVyZ-iiaanj",
    "outputId": "2ea92582-2d05-4c47-de7c-07da29331f7f"
   },
   "outputs": [
    {
     "data": {
      "text/plain": [
       "0.3082824582288898"
      ]
     },
     "execution_count": 167,
     "metadata": {},
     "output_type": "execute_result"
    }
   ],
   "source": [
    "log_loss(y_test, final.predict(X_test))"
   ]
  },
  {
   "cell_type": "code",
   "execution_count": 168,
   "id": "1GSk6YM7LG91",
   "metadata": {
    "colab": {
     "base_uri": "https://localhost:8080/"
    },
    "id": "1GSk6YM7LG91",
    "outputId": "d6547ab2-de18-40aa-c62b-7906459fcb94"
   },
   "outputs": [
    {
     "data": {
      "text/plain": [
       "array([0.04601859, 0.08100264, 0.10488605, ..., 0.18632722, 0.16520104,\n",
       "       0.19594584], dtype=float32)"
      ]
     },
     "execution_count": 168,
     "metadata": {},
     "output_type": "execute_result"
    }
   ],
   "source": [
    "predictions=final.predict(test).flatten()\n",
    "submissions = pd.DataFrame()\n",
    "predictions"
   ]
  },
  {
   "cell_type": "code",
   "execution_count": 169,
   "id": "n6AnTRRtLHO8",
   "metadata": {
    "id": "n6AnTRRtLHO8"
   },
   "outputs": [],
   "source": [
    "submissions[\"Loan Status\"] = predictions\n",
    "submissions.to_csv(\"my_submission_file.csv\", index=False)"
   ]
  },
  {
   "cell_type": "code",
   "execution_count": null,
   "id": "gjHWxfp1neX5",
   "metadata": {
    "id": "gjHWxfp1neX5"
   },
   "outputs": [],
   "source": []
  }
 ],
 "metadata": {
  "accelerator": "GPU",
  "colab": {
   "collapsed_sections": [
    "0cc290e9",
    "195e44fa",
    "a8bea1ca",
    "6efba9e3",
    "d8d794e6",
    "5c70e8fe",
    "30ce9ac6",
    "2b62419c",
    "dd2428ea",
    "85866610",
    "47170b09",
    "14512ae6",
    "0c84073c"
   ],
   "name": "predicttheloanstatusann2.ipynb",
   "provenance": []
  },
  "kernelspec": {
   "display_name": "Python 3 (ipykernel)",
   "language": "python",
   "name": "python3"
  },
  "language_info": {
   "codemirror_mode": {
    "name": "ipython",
    "version": 3
   },
   "file_extension": ".py",
   "mimetype": "text/x-python",
   "name": "python",
   "nbconvert_exporter": "python",
   "pygments_lexer": "ipython3",
   "version": "3.7.11"
  }
 },
 "nbformat": 4,
 "nbformat_minor": 5
}
