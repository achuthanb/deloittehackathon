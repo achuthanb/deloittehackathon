{
 "cells": [
  {
   "cell_type": "code",
   "execution_count": 5,
   "metadata": {},
   "outputs": [
    {
     "name": "stdout",
     "output_type": "stream",
     "text": [
      "Collecting tensorflow\n",
      "  Downloading tensorflow-2.7.0-cp37-cp37m-win_amd64.whl (430.8 MB)\n",
      "Collecting google-pasta>=0.1.1\n",
      "  Downloading google_pasta-0.2.0-py3-none-any.whl (57 kB)\n",
      "Collecting tensorboard~=2.6\n",
      "  Downloading tensorboard-2.7.0-py3-none-any.whl (5.8 MB)\n",
      "Collecting libclang>=9.0.1\n",
      "  Downloading libclang-12.0.0-py2.py3-none-win_amd64.whl (13.1 MB)\n",
      "Collecting tensorflow-estimator<2.8,~=2.7.0rc0\n",
      "  Downloading tensorflow_estimator-2.7.0-py2.py3-none-any.whl (463 kB)\n",
      "Requirement already satisfied: protobuf>=3.9.2 in c:\\users\\vasuki.k\\anaconda3\\lib\\site-packages (from tensorflow) (3.19.0)\n",
      "Collecting termcolor>=1.1.0\n",
      "  Downloading termcolor-1.1.0.tar.gz (3.9 kB)\n",
      "Requirement already satisfied: h5py>=2.9.0 in c:\\users\\vasuki.k\\anaconda3\\lib\\site-packages (from tensorflow) (2.10.0)\n",
      "Requirement already satisfied: wheel<1.0,>=0.32.0 in c:\\users\\vasuki.k\\anaconda3\\lib\\site-packages (from tensorflow) (0.37.0)\n",
      "Collecting astunparse>=1.6.0\n",
      "  Downloading astunparse-1.6.3-py2.py3-none-any.whl (12 kB)\n",
      "Collecting tensorflow-io-gcs-filesystem>=0.21.0\n",
      "  Downloading tensorflow_io_gcs_filesystem-0.22.0-cp37-cp37m-win_amd64.whl (1.5 MB)\n",
      "Collecting keras-preprocessing>=1.1.1\n",
      "  Downloading Keras_Preprocessing-1.1.2-py2.py3-none-any.whl (42 kB)\n",
      "Collecting flatbuffers<3.0,>=1.12\n",
      "  Downloading flatbuffers-2.0-py2.py3-none-any.whl (26 kB)\n",
      "Requirement already satisfied: typing-extensions>=3.6.6 in c:\\users\\vasuki.k\\anaconda3\\lib\\site-packages (from tensorflow) (3.10.0.2)\n",
      "Requirement already satisfied: six>=1.12.0 in c:\\users\\vasuki.k\\anaconda3\\lib\\site-packages (from tensorflow) (1.16.0)\n",
      "Requirement already satisfied: wrapt>=1.11.0 in c:\\users\\vasuki.k\\anaconda3\\lib\\site-packages (from tensorflow) (1.12.1)\n",
      "Collecting absl-py>=0.4.0\n",
      "  Downloading absl_py-1.0.0-py3-none-any.whl (126 kB)\n",
      "Collecting gast<0.5.0,>=0.2.1\n",
      "  Downloading gast-0.4.0-py3-none-any.whl (9.8 kB)\n",
      "Collecting opt-einsum>=2.3.2\n",
      "  Downloading opt_einsum-3.3.0-py3-none-any.whl (65 kB)\n",
      "Requirement already satisfied: numpy>=1.14.5 in c:\\users\\vasuki.k\\anaconda3\\lib\\site-packages (from tensorflow) (1.21.4)\n",
      "Requirement already satisfied: keras<2.8,>=2.7.0rc0 in c:\\users\\vasuki.k\\anaconda3\\lib\\site-packages (from tensorflow) (2.7.0)\n",
      "Collecting grpcio<2.0,>=1.24.3\n",
      "  Downloading grpcio-1.42.0-cp37-cp37m-win_amd64.whl (3.2 MB)\n",
      "Collecting google-auth-oauthlib<0.5,>=0.4.1\n",
      "  Downloading google_auth_oauthlib-0.4.6-py2.py3-none-any.whl (18 kB)\n",
      "Requirement already satisfied: requests<3,>=2.21.0 in c:\\users\\vasuki.k\\anaconda3\\lib\\site-packages (from tensorboard~=2.6->tensorflow) (2.26.0)\n",
      "Collecting markdown>=2.6.8\n",
      "  Downloading Markdown-3.3.6-py3-none-any.whl (97 kB)\n",
      "Collecting tensorboard-data-server<0.7.0,>=0.6.0\n",
      "  Downloading tensorboard_data_server-0.6.1-py3-none-any.whl (2.4 kB)\n",
      "Collecting tensorboard-plugin-wit>=1.6.0\n",
      "  Downloading tensorboard_plugin_wit-1.8.0-py3-none-any.whl (781 kB)\n",
      "Requirement already satisfied: werkzeug>=0.11.15 in c:\\users\\vasuki.k\\anaconda3\\lib\\site-packages (from tensorboard~=2.6->tensorflow) (2.0.2)\n",
      "Collecting google-auth<3,>=1.6.3\n",
      "  Downloading google_auth-2.3.3-py2.py3-none-any.whl (155 kB)\n",
      "Requirement already satisfied: setuptools>=41.0.0 in c:\\users\\vasuki.k\\anaconda3\\lib\\site-packages (from tensorboard~=2.6->tensorflow) (58.0.4)\n",
      "Collecting cachetools<5.0,>=2.0.0\n",
      "  Downloading cachetools-4.2.4-py3-none-any.whl (10 kB)\n",
      "Collecting pyasn1-modules>=0.2.1\n",
      "  Downloading pyasn1_modules-0.2.8-py2.py3-none-any.whl (155 kB)\n",
      "Collecting rsa<5,>=3.1.4\n",
      "  Downloading rsa-4.8-py3-none-any.whl (39 kB)\n",
      "Requirement already satisfied: requests-oauthlib>=0.7.0 in c:\\users\\vasuki.k\\anaconda3\\lib\\site-packages (from google-auth-oauthlib<0.5,>=0.4.1->tensorboard~=2.6->tensorflow) (1.3.0)\n",
      "Requirement already satisfied: importlib-metadata>=4.4 in c:\\users\\vasuki.k\\anaconda3\\lib\\site-packages (from markdown>=2.6.8->tensorboard~=2.6->tensorflow) (4.8.1)\n",
      "Requirement already satisfied: zipp>=0.5 in c:\\users\\vasuki.k\\anaconda3\\lib\\site-packages (from importlib-metadata>=4.4->markdown>=2.6.8->tensorboard~=2.6->tensorflow) (3.6.0)\n",
      "Collecting pyasn1<0.5.0,>=0.4.6\n",
      "  Downloading pyasn1-0.4.8-py2.py3-none-any.whl (77 kB)\n",
      "Requirement already satisfied: charset-normalizer~=2.0.0 in c:\\users\\vasuki.k\\anaconda3\\lib\\site-packages (from requests<3,>=2.21.0->tensorboard~=2.6->tensorflow) (2.0.4)\n",
      "Requirement already satisfied: idna<4,>=2.5 in c:\\users\\vasuki.k\\anaconda3\\lib\\site-packages (from requests<3,>=2.21.0->tensorboard~=2.6->tensorflow) (3.3)\n",
      "Requirement already satisfied: certifi>=2017.4.17 in c:\\users\\vasuki.k\\anaconda3\\lib\\site-packages (from requests<3,>=2.21.0->tensorboard~=2.6->tensorflow) (2021.10.8)\n",
      "Requirement already satisfied: urllib3<1.27,>=1.21.1 in c:\\users\\vasuki.k\\anaconda3\\lib\\site-packages (from requests<3,>=2.21.0->tensorboard~=2.6->tensorflow) (1.26.7)\n",
      "Requirement already satisfied: oauthlib>=3.0.0 in c:\\users\\vasuki.k\\anaconda3\\lib\\site-packages (from requests-oauthlib>=0.7.0->google-auth-oauthlib<0.5,>=0.4.1->tensorboard~=2.6->tensorflow) (3.1.1)\n",
      "Building wheels for collected packages: termcolor\n",
      "  Building wheel for termcolor (setup.py): started\n",
      "  Building wheel for termcolor (setup.py): finished with status 'done'\n",
      "  Created wheel for termcolor: filename=termcolor-1.1.0-py3-none-any.whl size=4847 sha256=95a34a0fe8401e2e5f9631da78df32749eeab39b5dd69706056eb49516d986d3\n",
      "  Stored in directory: c:\\users\\vasuki.k\\appdata\\local\\pip\\cache\\wheels\\3f\\e3\\ec\\8a8336ff196023622fbcb36de0c5a5c218cbb24111d1d4c7f2\n",
      "Successfully built termcolor\n",
      "Installing collected packages: pyasn1, rsa, pyasn1-modules, cachetools, google-auth, tensorboard-plugin-wit, tensorboard-data-server, markdown, grpcio, google-auth-oauthlib, absl-py, termcolor, tensorflow-io-gcs-filesystem, tensorflow-estimator, tensorboard, opt-einsum, libclang, keras-preprocessing, google-pasta, gast, flatbuffers, astunparse, tensorflow\n",
      "Successfully installed absl-py-1.0.0 astunparse-1.6.3 cachetools-4.2.4 flatbuffers-2.0 gast-0.4.0 google-auth-2.3.3 google-auth-oauthlib-0.4.6 google-pasta-0.2.0 grpcio-1.42.0 keras-preprocessing-1.1.2 libclang-12.0.0 markdown-3.3.6 opt-einsum-3.3.0 pyasn1-0.4.8 pyasn1-modules-0.2.8 rsa-4.8 tensorboard-2.7.0 tensorboard-data-server-0.6.1 tensorboard-plugin-wit-1.8.0 tensorflow-2.7.0 tensorflow-estimator-2.7.0 tensorflow-io-gcs-filesystem-0.22.0 termcolor-1.1.0\n"
     ]
    },
    {
     "name": "stderr",
     "output_type": "stream",
     "text": [
      "WARNING: Ignoring invalid distribution -umpy (c:\\users\\vasuki.k\\anaconda3\\lib\\site-packages)\n",
      "WARNING: Ignoring invalid distribution -umpy (c:\\users\\vasuki.k\\anaconda3\\lib\\site-packages)\n",
      "WARNING: Ignoring invalid distribution -umpy (c:\\users\\vasuki.k\\anaconda3\\lib\\site-packages)\n",
      "WARNING: Ignoring invalid distribution -umpy (c:\\users\\vasuki.k\\anaconda3\\lib\\site-packages)\n",
      "WARNING: Ignoring invalid distribution -umpy (c:\\users\\vasuki.k\\anaconda3\\lib\\site-packages)\n",
      "WARNING: Ignoring invalid distribution -umpy (c:\\users\\vasuki.k\\anaconda3\\lib\\site-packages)\n",
      "WARNING: Ignoring invalid distribution -umpy (c:\\users\\vasuki.k\\anaconda3\\lib\\site-packages)\n",
      "WARNING: Ignoring invalid distribution -umpy (c:\\users\\vasuki.k\\anaconda3\\lib\\site-packages)\n",
      "WARNING: Ignoring invalid distribution -umpy (c:\\users\\vasuki.k\\anaconda3\\lib\\site-packages)\n",
      "WARNING: Ignoring invalid distribution -umpy (c:\\users\\vasuki.k\\anaconda3\\lib\\site-packages)\n",
      "WARNING: Ignoring invalid distribution -umpy (c:\\users\\vasuki.k\\anaconda3\\lib\\site-packages)\n",
      "WARNING: Ignoring invalid distribution -umpy (c:\\users\\vasuki.k\\anaconda3\\lib\\site-packages)\n",
      "WARNING: Ignoring invalid distribution -umpy (c:\\users\\vasuki.k\\anaconda3\\lib\\site-packages)\n",
      "WARNING: Ignoring invalid distribution -umpy (c:\\users\\vasuki.k\\anaconda3\\lib\\site-packages)\n",
      "WARNING: Ignoring invalid distribution -umpy (c:\\users\\vasuki.k\\anaconda3\\lib\\site-packages)\n",
      "WARNING: Ignoring invalid distribution -umpy (c:\\users\\vasuki.k\\anaconda3\\lib\\site-packages)\n",
      "WARNING: Ignoring invalid distribution -umpy (c:\\users\\vasuki.k\\anaconda3\\lib\\site-packages)\n",
      "WARNING: Ignoring invalid distribution -umpy (c:\\users\\vasuki.k\\anaconda3\\lib\\site-packages)\n",
      "WARNING: Ignoring invalid distribution -umpy (c:\\users\\vasuki.k\\anaconda3\\lib\\site-packages)\n",
      "WARNING: Ignoring invalid distribution -umpy (c:\\users\\vasuki.k\\anaconda3\\lib\\site-packages)\n",
      "WARNING: Ignoring invalid distribution -umpy (c:\\users\\vasuki.k\\anaconda3\\lib\\site-packages)\n",
      "WARNING: Ignoring invalid distribution -umpy (c:\\users\\vasuki.k\\anaconda3\\lib\\site-packages)\n",
      "WARNING: Ignoring invalid distribution -umpy (c:\\users\\vasuki.k\\anaconda3\\lib\\site-packages)\n",
      "WARNING: Ignoring invalid distribution -umpy (c:\\users\\vasuki.k\\anaconda3\\lib\\site-packages)\n",
      "WARNING: Ignoring invalid distribution -umpy (c:\\users\\vasuki.k\\anaconda3\\lib\\site-packages)\n",
      "WARNING: Ignoring invalid distribution -umpy (c:\\users\\vasuki.k\\anaconda3\\lib\\site-packages)\n",
      "WARNING: Ignoring invalid distribution -umpy (c:\\users\\vasuki.k\\anaconda3\\lib\\site-packages)\n",
      "WARNING: Ignoring invalid distribution -umpy (c:\\users\\vasuki.k\\anaconda3\\lib\\site-packages)\n"
     ]
    }
   ],
   "source": [
    "! pip install tensorflow"
   ]
  },
  {
   "cell_type": "code",
   "execution_count": 4,
   "metadata": {
    "id": "xONvGe0AFy3a"
   },
   "outputs": [
    {
     "ename": "ModuleNotFoundError",
     "evalue": "No module named 'tensorflow'",
     "output_type": "error",
     "traceback": [
      "\u001b[1;31m---------------------------------------------------------------------------\u001b[0m",
      "\u001b[1;31mModuleNotFoundError\u001b[0m                       Traceback (most recent call last)",
      "\u001b[1;32m~\\AppData\\Local\\Temp/ipykernel_21812/3109723346.py\u001b[0m in \u001b[0;36m<module>\u001b[1;34m\u001b[0m\n\u001b[0;32m      7\u001b[0m \u001b[1;32mfrom\u001b[0m \u001b[0msklearn\u001b[0m\u001b[1;33m.\u001b[0m\u001b[0mmetrics\u001b[0m \u001b[1;32mimport\u001b[0m \u001b[0mlog_loss\u001b[0m\u001b[1;33m\u001b[0m\u001b[1;33m\u001b[0m\u001b[0m\n\u001b[0;32m      8\u001b[0m \u001b[1;33m\u001b[0m\u001b[0m\n\u001b[1;32m----> 9\u001b[1;33m \u001b[1;32mimport\u001b[0m \u001b[0mtensorflow\u001b[0m \u001b[1;32mas\u001b[0m \u001b[0mtf\u001b[0m\u001b[1;33m\u001b[0m\u001b[1;33m\u001b[0m\u001b[0m\n\u001b[0m\u001b[0;32m     10\u001b[0m \u001b[1;32mfrom\u001b[0m \u001b[0mtensorflow\u001b[0m \u001b[1;32mimport\u001b[0m \u001b[0mkeras\u001b[0m\u001b[1;33m\u001b[0m\u001b[1;33m\u001b[0m\u001b[0m\n\u001b[0;32m     11\u001b[0m \u001b[1;32mfrom\u001b[0m \u001b[0mkeras\u001b[0m \u001b[1;32mimport\u001b[0m \u001b[0mSequential\u001b[0m\u001b[1;33m\u001b[0m\u001b[1;33m\u001b[0m\u001b[0m\n",
      "\u001b[1;31mModuleNotFoundError\u001b[0m: No module named 'tensorflow'"
     ]
    }
   ],
   "source": [
    "# Standard Imports\n",
    "import numpy as np\n",
    "import pandas as pd\n",
    "\n",
    "from sklearn.model_selection import train_test_split\n",
    "from sklearn.preprocessing import StandardScaler, LabelEncoder\n",
    "from sklearn.metrics import log_loss\n",
    "\n",
    "import tensorflow as tf\n",
    "from tensorflow import keras\n",
    "from keras import Sequential\n",
    "from keras.layers import Input, Dense, Dropout, Activation\n",
    "\n",
    "from hyperopt import tpe, STATUS_OK, Trials\n",
    "from hyperas import optim\n",
    "from hyperas.distributions import choice, uniform"
   ]
  },
  {
   "cell_type": "markdown",
   "metadata": {
    "id": "L--XG136GuIt"
   },
   "source": [
    "## Let's create a function which processes the data in such a way that that the data is directly fed into the model"
   ]
  },
  {
   "cell_type": "code",
   "execution_count": 36,
   "metadata": {
    "id": "ynDKI7kiH_WS"
   },
   "outputs": [],
   "source": [
    "def data():  \n",
    "  global test\n",
    "  # Importing data\n",
    "  train = pd.read_csv(\"/content/drive/Othercomputers/My Laptop (1)/Programming Languages/Python/Projects/loan-defaulter/data/train.csv\")\n",
    "  test = pd.read_csv(\"/content/drive/Othercomputers/My Laptop (1)/Programming Languages/Python/Projects/loan-defaulter/data/test.csv\")\n",
    "\n",
    "  # Dropping unnecessary columns in both test and training sets\n",
    "  train = train.drop(\"ID\", axis=1)\n",
    "  test = test.drop([\"Loan Status\", \"ID\"], axis=1)\n",
    "\n",
    "  # Let's split the data into features and target variables\n",
    "  X = train.drop(\"Loan Status\", axis=1)\n",
    "  y = train[\"Loan Status\"]\n",
    "\n",
    "  # Splitting the data into training and validation sets\n",
    "  X_train, X_valid, y_train, y_valid = train_test_split(X, y, test_size=0.2, random_state=42)\n",
    "\n",
    "  # Converting non- numerical columns into numerica Columns\n",
    "  for label, content in X_train.items():\n",
    "    if not pd.api.types.is_numeric_dtype(content):\n",
    "      encoder = LabelEncoder()\n",
    "      X_train[label] = encoder.fit_transform(X_train[label])\n",
    "      X_valid[label] = encoder.transform(X_valid[label])\n",
    "      test[label] = encoder.transform(test[label])\n",
    "\n",
    "  # Now we scale the data\n",
    "  scaler = StandardScaler()\n",
    "  X_train = scaler.fit_transform(X_train)\n",
    "  X_valid = scaler.transform(X_valid)\n",
    "  test = scaler.transform(test)\n",
    "\n",
    "  return X_train, y_train, X_valid, y_valid\n",
    "\n",
    "# Calling our function\n",
    "X_train, y_train, X_valid, y_valid = data()"
   ]
  },
  {
   "cell_type": "markdown",
   "metadata": {
    "id": "kA2mFjn5KZiU"
   },
   "source": [
    "## Let's create our model"
   ]
  },
  {
   "cell_type": "code",
   "execution_count": 4,
   "metadata": {
    "id": "iTmVNOCmKo7w"
   },
   "outputs": [],
   "source": [
    "def model():\n",
    "  # Set random seed\n",
    "  tf.random.set_seed(42)\n",
    "\n",
    "  # Create a model\n",
    "  model = Sequential()\n",
    "  model.add(Input(shape=X_train[0].shape))\n",
    "  model.add(Dense({{choice([20, 30, 40])}}))\n",
    "  model.add(Activation(\"relu\"))\n",
    "  model.add(Dropout({{uniform(0, 1)}}))\n",
    "  model.add(Dense({{choice([10, 20, 30])}}))\n",
    "  model.add(Activation(\"relu\"))\n",
    "  model.add(Dropout({{uniform(0, 1)}}))\n",
    "\n",
    "  # Let's add another layer according to choice\n",
    "  if {{choice([\"a\", \"b\"])}} == \"b\":\n",
    "    model.add(Dense(5, activation=\"relu\"))\n",
    "    model.add(Dropout({{uniform(0, 1)}}))\n",
    "\n",
    "  # Let's add the final layer\n",
    "  model.add(Dense(1))\n",
    "  model.add(Activation({{choice([\"sigmoid\", \"softmax\"])}}))\n",
    "\n",
    "  # let's compile the model\n",
    "  model.compile(loss=\"binary_crossentropy\",\n",
    "                optimizer=tf.keras.optimizers.Adam(learning_rate={{choice([0.1, 0.001, 0.01, 3e-4])}}),\n",
    "                metrics=[\"accuracy\"])\n",
    "  \n",
    "  # Fit the model\n",
    "  model.fit(X_train, y_train,\n",
    "            validation_data=(X_valid, y_valid),\n",
    "            epochs=100,\n",
    "            callbacks=[tf.keras.callbacks.EarlyStopping(patience=10)], verbose=0)\n",
    "  \n",
    "  # Evaluate our model\n",
    "  loss, acc = model.evaluate(X_valid, y_valid, verbose=0)\n",
    "  print(\"Validation accuracy :\", acc)\n",
    "\n",
    "  return {\"loss\" : -acc, \"model\" : model, 'status' : STATUS_OK}"
   ]
  },
  {
   "cell_type": "code",
   "execution_count": 5,
   "metadata": {
    "colab": {
     "base_uri": "https://localhost:8080/"
    },
    "id": "4pVYroBzOrvb",
    "outputId": "e08e6947-54b7-440b-f8e8-f33c6e42238a"
   },
   "outputs": [
    {
     "name": "stdout",
     "output_type": "stream",
     "text": [
      ">>> Imports:\n",
      "#coding=utf-8\n",
      "\n",
      "try:\n",
      "    import numpy as np\n",
      "except:\n",
      "    pass\n",
      "\n",
      "try:\n",
      "    import pandas as pd\n",
      "except:\n",
      "    pass\n",
      "\n",
      "try:\n",
      "    from sklearn.model_selection import train_test_split\n",
      "except:\n",
      "    pass\n",
      "\n",
      "try:\n",
      "    from sklearn.preprocessing import StandardScaler, LabelEncoder\n",
      "except:\n",
      "    pass\n",
      "\n",
      "try:\n",
      "    import tensorflow as tf\n",
      "except:\n",
      "    pass\n",
      "\n",
      "try:\n",
      "    from tensorflow import keras\n",
      "except:\n",
      "    pass\n",
      "\n",
      "try:\n",
      "    from keras import Sequential\n",
      "except:\n",
      "    pass\n",
      "\n",
      "try:\n",
      "    from keras.layers import Input, Dense, Dropout, Activation\n",
      "except:\n",
      "    pass\n",
      "\n",
      "try:\n",
      "    from hyperopt import tpe, STATUS_OK, Trials\n",
      "except:\n",
      "    pass\n",
      "\n",
      "try:\n",
      "    from hyperas import optim\n",
      "except:\n",
      "    pass\n",
      "\n",
      "try:\n",
      "    from hyperas.distributions import choice, uniform\n",
      "except:\n",
      "    pass\n",
      "\n",
      ">>> Hyperas search space:\n",
      "\n",
      "def get_space():\n",
      "    return {\n",
      "        'Dense': hp.choice('Dense', [20, 30, 40]),\n",
      "        'Dropout': hp.uniform('Dropout', 0, 1),\n",
      "        'Dense_1': hp.choice('Dense_1', [10, 20, 30]),\n",
      "        'Dropout_1': hp.uniform('Dropout_1', 0, 1),\n",
      "        'Dropout_2': hp.choice('Dropout_2', [\"a\", \"b\"]),\n",
      "        'Dropout_3': hp.uniform('Dropout_3', 0, 1),\n",
      "        'Activation': hp.choice('Activation', [\"sigmoid\", \"softmax\"]),\n",
      "        'learning_rate': hp.choice('learning_rate', [0.1, 0.001, 0.01, 3e-4]),\n",
      "    }\n",
      "\n",
      ">>> Data\n",
      "   1: \n",
      "   2: global test\n",
      "   3: # Importing data\n",
      "   4: train = pd.read_csv(\"/content/drive/Othercomputers/My Laptop (1)/Programming Languages/Python/Projects/loan-defaulter/data/train.csv\")\n",
      "   5: test = pd.read_csv(\"/content/drive/Othercomputers/My Laptop (1)/Programming Languages/Python/Projects/loan-defaulter/data/test.csv\")\n",
      "   6: \n",
      "   7: # Dropping unnecessary columns in both test and training sets\n",
      "   8: train = train.drop(\"ID\", axis=1)\n",
      "   9: test = test.drop([\"Loan Status\", \"ID\"], axis=1)\n",
      "  10: \n",
      "  11: # Let's split the data into features and target variables\n",
      "  12: X = train.drop(\"Loan Status\", axis=1)\n",
      "  13: y = train[\"Loan Status\"]\n",
      "  14: \n",
      "  15: # Splitting the data into training and validation sets\n",
      "  16: X_train, X_valid, y_train, y_valid = train_test_split(X, y, test_size=0.2, random_state=42)\n",
      "  17: \n",
      "  18: # Converting non- numerical columns into numerica Columns\n",
      "  19: for label, content in X_train.items():\n",
      "  20:   if not pd.api.types.is_numeric_dtype(content):\n",
      "  21:     encoder = LabelEncoder()\n",
      "  22:     X_train[label] = encoder.fit_transform(X_train[label])\n",
      "  23:     X_valid[label] = encoder.transform(X_valid[label])\n",
      "  24:     test[label] = encoder.transform(test[label])\n",
      "  25: \n",
      "  26: # Now we scale the data\n",
      "  27: scaler = StandardScaler()\n",
      "  28: X_train = scaler.fit_transform(X_train)\n",
      "  29: X_valid = scaler.transform(X_valid)\n",
      "  30: test = scaler.transform(test)\n",
      "  31: \n",
      "  32: \n",
      "  33: \n",
      "  34: \n",
      ">>> Resulting replaced keras model:\n",
      "\n",
      "   1: def keras_fmin_fnct(space):\n",
      "   2: \n",
      "   3:   # Set random seed\n",
      "   4:   tf.random.set_seed(42)\n",
      "   5: \n",
      "   6:   # Create a model\n",
      "   7:   model = Sequential()\n",
      "   8:   model.add(Input(shape=X_train[0].shape))\n",
      "   9:   model.add(Dense(space['Dense']))\n",
      "  10:   model.add(Activation(\"relu\"))\n",
      "  11:   model.add(Dropout(space['Dropout']))\n",
      "  12:   model.add(Dense(space['Dense_1']))\n",
      "  13:   model.add(Activation(\"relu\"))\n",
      "  14:   model.add(Dropout(space['Dropout_1']))\n",
      "  15: \n",
      "  16:   # Let's add another layer according to choice\n",
      "  17:   if space['Dropout_2'] == \"b\":\n",
      "  18:     model.add(Dense(5, activation=\"relu\"))\n",
      "  19:     model.add(Dropout(space['Dropout_3']))\n",
      "  20: \n",
      "  21:   # Let's add the final layer\n",
      "  22:   model.add(Dense(1))\n",
      "  23:   model.add(Activation(space['Activation']))\n",
      "  24: \n",
      "  25:   # let's compile the model\n",
      "  26:   model.compile(loss=\"binary_crossentropy\",\n",
      "  27:                 optimizer=tf.keras.optimizers.Adam(learning_rate=space['learning_rate']),\n",
      "  28:                 metrics=[\"accuracy\"])\n",
      "  29:   \n",
      "  30:   # Fit the model\n",
      "  31:   model.fit(X_train, y_train,\n",
      "  32:             validation_data=(X_valid, y_valid),\n",
      "  33:             epochs=100,\n",
      "  34:             callbacks=[tf.keras.callbacks.EarlyStopping(patience=10)], verbose=0)\n",
      "  35:   \n",
      "  36:   # Evaluate our model\n",
      "  37:   loss, acc = model.evaluate(X_valid, y_valid, verbose=0)\n",
      "  38:   print(\"Validation accuracy :\", acc)\n",
      "  39: \n",
      "  40:   return {\"loss\" : -acc, \"model\" : model, 'status' : STATUS_OK}\n",
      "  41: \n",
      "Validation accuracy :\n",
      "0.9097309708595276\n",
      "Validation accuracy :\n",
      "0.09026902914047241\n",
      "Validation accuracy :\n",
      "0.9097309708595276\n",
      "Validation accuracy :\n",
      "0.09026902914047241\n",
      "Validation accuracy :\n",
      "0.9097309708595276\n",
      "Validation accuracy :\n",
      "0.09026902914047241\n",
      "Validation accuracy :\n",
      "0.09026902914047241\n",
      "Validation accuracy :\n",
      "0.09026902914047241\n",
      "Validation accuracy :\n",
      "0.09026902914047241\n",
      "Validation accuracy :\n",
      "0.09026902914047241\n",
      "100%|██████████| 10/10 [31:28<00:00, 188.81s/it, best loss: -0.9097309708595276]\n"
     ]
    }
   ],
   "source": [
    "# Now let's optimize our model\n",
    "best_run, best_model = optim.minimize(data=data,\n",
    "                                      model=model,\n",
    "                                      max_evals=10,\n",
    "                                      algo=tpe.suggest,\n",
    "                                      trials=Trials(),\n",
    "                                      notebook_name=\"drive/Othercomputers/My Laptop (1)/Programming Languages/Python/Projects/loan-defaulter/loan_defaulter-hyperas-colab\")"
   ]
  },
  {
   "cell_type": "code",
   "execution_count": 9,
   "metadata": {
    "colab": {
     "base_uri": "https://localhost:8080/"
    },
    "id": "WGT1T3XwRhfF",
    "outputId": "e100ece2-2a63-4b0e-bfed-c0eb2371d9ff"
   },
   "outputs": [
    {
     "data": {
      "text/plain": [
       "0.3034542779984374"
      ]
     },
     "execution_count": 9,
     "metadata": {},
     "output_type": "execute_result"
    }
   ],
   "source": [
    "log_loss(y_valid, best_model.predict(X_valid))"
   ]
  },
  {
   "cell_type": "code",
   "execution_count": 13,
   "metadata": {
    "colab": {
     "base_uri": "https://localhost:8080/"
    },
    "id": "k39Qd5COdRvD",
    "outputId": "4081e714-a903-4b88-ec38-328802f05a14"
   },
   "outputs": [
    {
     "data": {
      "text/plain": [
       "{'Activation': 0,\n",
       " 'Dense': 2,\n",
       " 'Dense_1': 2,\n",
       " 'Dropout': 0.6108763092812357,\n",
       " 'Dropout_1': 0.7371698374615214,\n",
       " 'Dropout_2': 0,\n",
       " 'Dropout_3': 0.21280043312755825,\n",
       " 'learning_rate': 2}"
      ]
     },
     "execution_count": 13,
     "metadata": {},
     "output_type": "execute_result"
    }
   ],
   "source": [
    "best_run"
   ]
  },
  {
   "cell_type": "code",
   "execution_count": 45,
   "metadata": {
    "colab": {
     "base_uri": "https://localhost:8080/"
    },
    "id": "jDB-bvmIdhbv",
    "outputId": "23ac4af5-3baa-4089-8cf3-d5efb89532bb"
   },
   "outputs": [
    {
     "name": "stdout",
     "output_type": "stream",
     "text": [
      "Epoch 1/100\n",
      "1687/1687 [==============================] - 5s 3ms/step - loss: 0.3989 - accuracy: 0.8834 - val_loss: 0.3436 - val_accuracy: 0.9097\n",
      "Epoch 2/100\n",
      "1687/1687 [==============================] - 5s 3ms/step - loss: 0.3445 - accuracy: 0.9068 - val_loss: 0.3312 - val_accuracy: 0.9097\n",
      "Epoch 3/100\n",
      "1687/1687 [==============================] - 5s 3ms/step - loss: 0.3264 - accuracy: 0.9069 - val_loss: 0.3145 - val_accuracy: 0.9097\n",
      "Epoch 4/100\n",
      "1687/1687 [==============================] - 5s 3ms/step - loss: 0.3189 - accuracy: 0.9069 - val_loss: 0.3061 - val_accuracy: 0.9097\n",
      "Epoch 5/100\n",
      "1687/1687 [==============================] - 5s 3ms/step - loss: 0.3157 - accuracy: 0.9069 - val_loss: 0.3038 - val_accuracy: 0.9097\n",
      "Epoch 6/100\n",
      "1687/1687 [==============================] - 5s 3ms/step - loss: 0.3145 - accuracy: 0.9069 - val_loss: 0.3035 - val_accuracy: 0.9097\n",
      "Epoch 7/100\n",
      "1687/1687 [==============================] - 5s 3ms/step - loss: 0.3130 - accuracy: 0.9069 - val_loss: 0.3035 - val_accuracy: 0.9097\n",
      "Epoch 8/100\n",
      "1687/1687 [==============================] - 5s 3ms/step - loss: 0.3124 - accuracy: 0.9069 - val_loss: 0.3036 - val_accuracy: 0.9097\n",
      "Epoch 9/100\n",
      "1687/1687 [==============================] - 5s 3ms/step - loss: 0.3123 - accuracy: 0.9069 - val_loss: 0.3034 - val_accuracy: 0.9097\n",
      "Epoch 10/100\n",
      "1687/1687 [==============================] - 5s 3ms/step - loss: 0.3120 - accuracy: 0.9069 - val_loss: 0.3033 - val_accuracy: 0.9097\n",
      "Epoch 11/100\n",
      "1687/1687 [==============================] - 5s 3ms/step - loss: 0.3127 - accuracy: 0.9069 - val_loss: 0.3033 - val_accuracy: 0.9097\n",
      "Epoch 12/100\n",
      "1687/1687 [==============================] - 5s 3ms/step - loss: 0.3116 - accuracy: 0.9069 - val_loss: 0.3034 - val_accuracy: 0.9097\n",
      "Epoch 13/100\n",
      "1687/1687 [==============================] - 5s 3ms/step - loss: 0.3115 - accuracy: 0.9069 - val_loss: 0.3033 - val_accuracy: 0.9097\n",
      "Epoch 14/100\n",
      "1687/1687 [==============================] - 5s 3ms/step - loss: 0.3110 - accuracy: 0.9069 - val_loss: 0.3034 - val_accuracy: 0.9097\n",
      "Epoch 15/100\n",
      "1687/1687 [==============================] - 5s 3ms/step - loss: 0.3114 - accuracy: 0.9069 - val_loss: 0.3037 - val_accuracy: 0.9097\n",
      "Epoch 16/100\n",
      "1687/1687 [==============================] - 5s 3ms/step - loss: 0.3113 - accuracy: 0.9069 - val_loss: 0.3033 - val_accuracy: 0.9097\n",
      "Epoch 17/100\n",
      "1687/1687 [==============================] - 5s 3ms/step - loss: 0.3111 - accuracy: 0.9069 - val_loss: 0.3033 - val_accuracy: 0.9097\n",
      "Epoch 18/100\n",
      "1687/1687 [==============================] - 5s 3ms/step - loss: 0.3111 - accuracy: 0.9069 - val_loss: 0.3032 - val_accuracy: 0.9097\n",
      "Epoch 19/100\n",
      "1687/1687 [==============================] - 5s 3ms/step - loss: 0.3116 - accuracy: 0.9069 - val_loss: 0.3034 - val_accuracy: 0.9097\n",
      "Epoch 20/100\n",
      "1687/1687 [==============================] - 5s 3ms/step - loss: 0.3112 - accuracy: 0.9069 - val_loss: 0.3034 - val_accuracy: 0.9097\n",
      "Epoch 21/100\n",
      "1687/1687 [==============================] - 5s 3ms/step - loss: 0.3112 - accuracy: 0.9069 - val_loss: 0.3032 - val_accuracy: 0.9097\n",
      "Epoch 22/100\n",
      "1687/1687 [==============================] - 5s 3ms/step - loss: 0.3108 - accuracy: 0.9069 - val_loss: 0.3037 - val_accuracy: 0.9097\n",
      "Epoch 23/100\n",
      "1687/1687 [==============================] - 5s 3ms/step - loss: 0.3108 - accuracy: 0.9069 - val_loss: 0.3037 - val_accuracy: 0.9097\n",
      "Epoch 24/100\n",
      "1687/1687 [==============================] - 5s 3ms/step - loss: 0.3106 - accuracy: 0.9069 - val_loss: 0.3034 - val_accuracy: 0.9097\n",
      "Epoch 25/100\n",
      "1687/1687 [==============================] - 4s 3ms/step - loss: 0.3108 - accuracy: 0.9069 - val_loss: 0.3034 - val_accuracy: 0.9097\n",
      "Epoch 26/100\n",
      "1687/1687 [==============================] - 5s 3ms/step - loss: 0.3105 - accuracy: 0.9069 - val_loss: 0.3037 - val_accuracy: 0.9097\n",
      "Epoch 27/100\n",
      "1687/1687 [==============================] - 5s 3ms/step - loss: 0.3103 - accuracy: 0.9069 - val_loss: 0.3034 - val_accuracy: 0.9097\n",
      "Epoch 28/100\n",
      "1687/1687 [==============================] - 5s 3ms/step - loss: 0.3104 - accuracy: 0.9069 - val_loss: 0.3034 - val_accuracy: 0.9097\n"
     ]
    }
   ],
   "source": [
    "# Final model\n",
    "\n",
    "# Create a model\n",
    "final = Sequential([\n",
    "  Input(shape=X_train[0].shape),\n",
    "  Dense(100, activation=\"relu\"),\n",
    "  Dropout(0.6108763092812357),\n",
    "  Dense(50, activation=\"relu\"),\n",
    "  Dropout(0.7371698374615214),\n",
    "  Dense(25, activation=\"relu\"),\n",
    "  Dropout(0.21280043312755825),\n",
    "  Dense(1, activation=\"sigmoid\")\n",
    "])\n",
    "\n",
    "# Compile the model\n",
    "final.compile(loss=\"binary_crossentropy\",\n",
    "              optimizer=tf.keras.optimizers.Adam(learning_rate=3e-4),\n",
    "              metrics=[\"accuracy\"])\n",
    "\n",
    "#Fit the model\n",
    "history =   final.fit(X_train, y_train, epochs=100,\n",
    "            validation_data=(X_valid, y_valid),\n",
    "            callbacks=[tf.keras.callbacks.EarlyStopping(patience=10)])"
   ]
  },
  {
   "cell_type": "code",
   "execution_count": 46,
   "metadata": {
    "colab": {
     "base_uri": "https://localhost:8080/"
    },
    "id": "UacOcDIVZhZa",
    "outputId": "f6bee71b-0144-4e3f-c305-37e7d1be86aa"
   },
   "outputs": [
    {
     "data": {
      "text/plain": [
       "array([0.0990999 , 0.08767685, 0.0990999 , ..., 0.09805545, 0.09900853,\n",
       "       0.09895027], dtype=float32)"
      ]
     },
     "execution_count": 46,
     "metadata": {},
     "output_type": "execute_result"
    }
   ],
   "source": [
    "predictions=final.predict(test).flatten()\n",
    "submissions = pd.DataFrame()\n",
    "predictions"
   ]
  },
  {
   "cell_type": "code",
   "execution_count": 47,
   "metadata": {
    "colab": {
     "base_uri": "https://localhost:8080/"
    },
    "id": "3C8ot92QhVh_",
    "outputId": "db2d58b1-f03f-4808-9538-6ecdd7e60ab8"
   },
   "outputs": [
    {
     "data": {
      "text/plain": [
       "0.3034117250054255"
      ]
     },
     "execution_count": 47,
     "metadata": {},
     "output_type": "execute_result"
    }
   ],
   "source": [
    "log_loss(y_valid, final.predict(X_valid))"
   ]
  },
  {
   "cell_type": "code",
   "execution_count": 48,
   "metadata": {
    "id": "ONbHJoJjcouC"
   },
   "outputs": [],
   "source": [
    "submissions[\"Loan Status\"] = predictions\n",
    "submissions.to_csv(\"predictions.csv\", index=False)"
   ]
  }
 ],
 "metadata": {
  "colab": {
   "collapsed_sections": [],
   "name": "loan_defaulter-hyperas-colab.ipynb",
   "provenance": []
  },
  "kernelspec": {
   "display_name": "Python 3 (ipykernel)",
   "language": "python",
   "name": "python3"
  },
  "language_info": {
   "codemirror_mode": {
    "name": "ipython",
    "version": 3
   },
   "file_extension": ".py",
   "mimetype": "text/x-python",
   "name": "python",
   "nbconvert_exporter": "python",
   "pygments_lexer": "ipython3",
   "version": "3.7.11"
  }
 },
 "nbformat": 4,
 "nbformat_minor": 1
}
